{
 "cells": [
  {
   "cell_type": "markdown",
   "metadata": {},
   "source": [
    "Source Article: \n",
    "\n",
    "https://neptune.ai/blog/how-to-implement-customer-churn-prediction\n",
    "https://www.kaggle.com/datasets/yeanzc/telco-customer-churn-ibm-dataset"
   ]
  },
  {
   "cell_type": "markdown",
   "metadata": {},
   "source": [
    "# Import Libraries"
   ]
  },
  {
   "cell_type": "code",
   "execution_count": 1,
   "metadata": {},
   "outputs": [],
   "source": [
    "# Load general utilities\n",
    "# ----------------------\n",
    "import time\n",
    "import pickle\n",
    "import numpy as np\n",
    "import pandas as pd\n",
    "import seaborn as sns\n",
    "import matplotlib.pyplot as plt\n",
    "\n",
    "# Load sklearn utilities\n",
    "# ----------------------\n",
    "from sklearn import preprocessing\n",
    "from sklearn.pipeline import Pipeline\n",
    "from sklearn.preprocessing import StandardScaler\n",
    "from sklearn.calibration import calibration_curve\n",
    "from sklearn.model_selection import train_test_split\n",
    "from sklearn.model_selection import GridSearchCV, cross_val_score, StratifiedKFold\n",
    "from sklearn.metrics import accuracy_score, precision_score, recall_score, f1_score, roc_auc_score, roc_curve, confusion_matrix, classification_report\n",
    "\n",
    "# Load classifiers\n",
    "# ----------------\n",
    "from sklearn.svm import SVC\n",
    "from sklearn.naive_bayes import GaussianNB\n",
    "from sklearn.tree import DecisionTreeClassifier\n",
    "from sklearn.neural_network import MLPClassifier\n",
    "from sklearn.linear_model import RidgeClassifier\n",
    "from sklearn.neighbors import KNeighborsClassifier\n",
    "from sklearn.linear_model import LogisticRegression\n",
    "from sklearn.ensemble import GradientBoostingClassifier\n",
    "from sklearn.tree import DecisionTreeClassifier, plot_tree\n",
    "from sklearn.ensemble import BaggingClassifier, RandomForestClassifier, GradientBoostingClassifier, AdaBoostClassifier\n",
    "\n",
    "# PyTorch Libraries\n",
    "# -----------------\n",
    "import torch\n",
    "import torch.nn as nn\n",
    "import torch.optim as optim\n",
    "from torch.utils.data import DataLoader, TensorDataset\n",
    "\n",
    "# Other Model Packages\n",
    "# --------------\n",
    "from xgboost import XGBClassifier\n",
    "from lightgbm import LGBMClassifier\n",
    "from imblearn.combine import SMOTEENN\n",
    "from catboost import CatBoostClassifier\n",
    "\n",
    "# Other Libraries\n",
    "# ---------------\n",
    "import plotly.express as px\n",
    "\n",
    "# ignore warning\n",
    "import warnings\n",
    "warnings.filterwarnings('ignore')"
   ]
  },
  {
   "cell_type": "markdown",
   "metadata": {},
   "source": [
    "# Load Telco Dataset"
   ]
  },
  {
   "cell_type": "code",
   "execution_count": 2,
   "metadata": {},
   "outputs": [],
   "source": [
    "filename = 'EDA_Output.csv'\n",
    "df = pd.read_csv(filename)"
   ]
  },
  {
   "cell_type": "code",
   "execution_count": 3,
   "metadata": {},
   "outputs": [
    {
     "data": {
      "text/html": [
       "<div>\n",
       "<style scoped>\n",
       "    .dataframe tbody tr th:only-of-type {\n",
       "        vertical-align: middle;\n",
       "    }\n",
       "\n",
       "    .dataframe tbody tr th {\n",
       "        vertical-align: top;\n",
       "    }\n",
       "\n",
       "    .dataframe thead th {\n",
       "        text-align: right;\n",
       "    }\n",
       "</style>\n",
       "<table border=\"1\" class=\"dataframe\">\n",
       "  <thead>\n",
       "    <tr style=\"text-align: right;\">\n",
       "      <th></th>\n",
       "      <th>Gender</th>\n",
       "      <th>Age</th>\n",
       "      <th>Under 30</th>\n",
       "      <th>Senior Citizen</th>\n",
       "      <th>Married</th>\n",
       "      <th>Dependents</th>\n",
       "      <th>Number of Dependents</th>\n",
       "      <th>Referred a Friend</th>\n",
       "      <th>Number of Referrals</th>\n",
       "      <th>Tenure in Months</th>\n",
       "      <th>...</th>\n",
       "      <th>Premium Tech Support</th>\n",
       "      <th>Streaming TV</th>\n",
       "      <th>Streaming Movies</th>\n",
       "      <th>Streaming Music</th>\n",
       "      <th>Unlimited Data</th>\n",
       "      <th>Contract</th>\n",
       "      <th>Paperless Billing</th>\n",
       "      <th>Payment Method</th>\n",
       "      <th>Monthly Charge</th>\n",
       "      <th>Churn</th>\n",
       "    </tr>\n",
       "  </thead>\n",
       "  <tbody>\n",
       "    <tr>\n",
       "      <th>0</th>\n",
       "      <td>Male</td>\n",
       "      <td>78</td>\n",
       "      <td>No</td>\n",
       "      <td>Yes</td>\n",
       "      <td>No</td>\n",
       "      <td>No</td>\n",
       "      <td>0</td>\n",
       "      <td>No</td>\n",
       "      <td>0</td>\n",
       "      <td>1</td>\n",
       "      <td>...</td>\n",
       "      <td>No</td>\n",
       "      <td>No</td>\n",
       "      <td>Yes</td>\n",
       "      <td>No</td>\n",
       "      <td>No</td>\n",
       "      <td>Month-to-Month</td>\n",
       "      <td>Yes</td>\n",
       "      <td>Bank Withdrawal</td>\n",
       "      <td>39.65</td>\n",
       "      <td>Yes</td>\n",
       "    </tr>\n",
       "    <tr>\n",
       "      <th>1</th>\n",
       "      <td>Female</td>\n",
       "      <td>74</td>\n",
       "      <td>No</td>\n",
       "      <td>Yes</td>\n",
       "      <td>Yes</td>\n",
       "      <td>Yes</td>\n",
       "      <td>1</td>\n",
       "      <td>Yes</td>\n",
       "      <td>1</td>\n",
       "      <td>8</td>\n",
       "      <td>...</td>\n",
       "      <td>No</td>\n",
       "      <td>No</td>\n",
       "      <td>No</td>\n",
       "      <td>No</td>\n",
       "      <td>Yes</td>\n",
       "      <td>Month-to-Month</td>\n",
       "      <td>Yes</td>\n",
       "      <td>Credit Card</td>\n",
       "      <td>80.65</td>\n",
       "      <td>Yes</td>\n",
       "    </tr>\n",
       "    <tr>\n",
       "      <th>2</th>\n",
       "      <td>Male</td>\n",
       "      <td>71</td>\n",
       "      <td>No</td>\n",
       "      <td>Yes</td>\n",
       "      <td>No</td>\n",
       "      <td>Yes</td>\n",
       "      <td>3</td>\n",
       "      <td>No</td>\n",
       "      <td>0</td>\n",
       "      <td>18</td>\n",
       "      <td>...</td>\n",
       "      <td>No</td>\n",
       "      <td>Yes</td>\n",
       "      <td>Yes</td>\n",
       "      <td>Yes</td>\n",
       "      <td>Yes</td>\n",
       "      <td>Month-to-Month</td>\n",
       "      <td>Yes</td>\n",
       "      <td>Bank Withdrawal</td>\n",
       "      <td>95.45</td>\n",
       "      <td>Yes</td>\n",
       "    </tr>\n",
       "    <tr>\n",
       "      <th>3</th>\n",
       "      <td>Female</td>\n",
       "      <td>78</td>\n",
       "      <td>No</td>\n",
       "      <td>Yes</td>\n",
       "      <td>Yes</td>\n",
       "      <td>Yes</td>\n",
       "      <td>1</td>\n",
       "      <td>Yes</td>\n",
       "      <td>1</td>\n",
       "      <td>25</td>\n",
       "      <td>...</td>\n",
       "      <td>No</td>\n",
       "      <td>Yes</td>\n",
       "      <td>Yes</td>\n",
       "      <td>No</td>\n",
       "      <td>Yes</td>\n",
       "      <td>Month-to-Month</td>\n",
       "      <td>Yes</td>\n",
       "      <td>Bank Withdrawal</td>\n",
       "      <td>98.50</td>\n",
       "      <td>Yes</td>\n",
       "    </tr>\n",
       "    <tr>\n",
       "      <th>4</th>\n",
       "      <td>Female</td>\n",
       "      <td>80</td>\n",
       "      <td>No</td>\n",
       "      <td>Yes</td>\n",
       "      <td>Yes</td>\n",
       "      <td>Yes</td>\n",
       "      <td>1</td>\n",
       "      <td>Yes</td>\n",
       "      <td>1</td>\n",
       "      <td>37</td>\n",
       "      <td>...</td>\n",
       "      <td>No</td>\n",
       "      <td>No</td>\n",
       "      <td>No</td>\n",
       "      <td>No</td>\n",
       "      <td>Yes</td>\n",
       "      <td>Month-to-Month</td>\n",
       "      <td>Yes</td>\n",
       "      <td>Bank Withdrawal</td>\n",
       "      <td>76.50</td>\n",
       "      <td>Yes</td>\n",
       "    </tr>\n",
       "    <tr>\n",
       "      <th>...</th>\n",
       "      <td>...</td>\n",
       "      <td>...</td>\n",
       "      <td>...</td>\n",
       "      <td>...</td>\n",
       "      <td>...</td>\n",
       "      <td>...</td>\n",
       "      <td>...</td>\n",
       "      <td>...</td>\n",
       "      <td>...</td>\n",
       "      <td>...</td>\n",
       "      <td>...</td>\n",
       "      <td>...</td>\n",
       "      <td>...</td>\n",
       "      <td>...</td>\n",
       "      <td>...</td>\n",
       "      <td>...</td>\n",
       "      <td>...</td>\n",
       "      <td>...</td>\n",
       "      <td>...</td>\n",
       "      <td>...</td>\n",
       "      <td>...</td>\n",
       "    </tr>\n",
       "    <tr>\n",
       "      <th>7038</th>\n",
       "      <td>Female</td>\n",
       "      <td>30</td>\n",
       "      <td>No</td>\n",
       "      <td>No</td>\n",
       "      <td>No</td>\n",
       "      <td>No</td>\n",
       "      <td>0</td>\n",
       "      <td>No</td>\n",
       "      <td>0</td>\n",
       "      <td>72</td>\n",
       "      <td>...</td>\n",
       "      <td>No</td>\n",
       "      <td>No</td>\n",
       "      <td>No</td>\n",
       "      <td>No</td>\n",
       "      <td>No</td>\n",
       "      <td>Two Year</td>\n",
       "      <td>Yes</td>\n",
       "      <td>Bank Withdrawal</td>\n",
       "      <td>21.15</td>\n",
       "      <td>No</td>\n",
       "    </tr>\n",
       "    <tr>\n",
       "      <th>7039</th>\n",
       "      <td>Male</td>\n",
       "      <td>38</td>\n",
       "      <td>No</td>\n",
       "      <td>No</td>\n",
       "      <td>Yes</td>\n",
       "      <td>Yes</td>\n",
       "      <td>2</td>\n",
       "      <td>Yes</td>\n",
       "      <td>1</td>\n",
       "      <td>24</td>\n",
       "      <td>...</td>\n",
       "      <td>Yes</td>\n",
       "      <td>Yes</td>\n",
       "      <td>Yes</td>\n",
       "      <td>Yes</td>\n",
       "      <td>Yes</td>\n",
       "      <td>One Year</td>\n",
       "      <td>Yes</td>\n",
       "      <td>Mailed Check</td>\n",
       "      <td>84.80</td>\n",
       "      <td>No</td>\n",
       "    </tr>\n",
       "    <tr>\n",
       "      <th>7040</th>\n",
       "      <td>Female</td>\n",
       "      <td>30</td>\n",
       "      <td>No</td>\n",
       "      <td>No</td>\n",
       "      <td>Yes</td>\n",
       "      <td>Yes</td>\n",
       "      <td>2</td>\n",
       "      <td>Yes</td>\n",
       "      <td>4</td>\n",
       "      <td>72</td>\n",
       "      <td>...</td>\n",
       "      <td>No</td>\n",
       "      <td>Yes</td>\n",
       "      <td>Yes</td>\n",
       "      <td>Yes</td>\n",
       "      <td>Yes</td>\n",
       "      <td>One Year</td>\n",
       "      <td>Yes</td>\n",
       "      <td>Credit Card</td>\n",
       "      <td>103.20</td>\n",
       "      <td>No</td>\n",
       "    </tr>\n",
       "    <tr>\n",
       "      <th>7041</th>\n",
       "      <td>Female</td>\n",
       "      <td>32</td>\n",
       "      <td>No</td>\n",
       "      <td>No</td>\n",
       "      <td>Yes</td>\n",
       "      <td>Yes</td>\n",
       "      <td>2</td>\n",
       "      <td>Yes</td>\n",
       "      <td>1</td>\n",
       "      <td>11</td>\n",
       "      <td>...</td>\n",
       "      <td>No</td>\n",
       "      <td>No</td>\n",
       "      <td>No</td>\n",
       "      <td>No</td>\n",
       "      <td>Yes</td>\n",
       "      <td>Month-to-Month</td>\n",
       "      <td>Yes</td>\n",
       "      <td>Bank Withdrawal</td>\n",
       "      <td>29.60</td>\n",
       "      <td>No</td>\n",
       "    </tr>\n",
       "    <tr>\n",
       "      <th>7042</th>\n",
       "      <td>Male</td>\n",
       "      <td>44</td>\n",
       "      <td>No</td>\n",
       "      <td>No</td>\n",
       "      <td>No</td>\n",
       "      <td>No</td>\n",
       "      <td>0</td>\n",
       "      <td>No</td>\n",
       "      <td>0</td>\n",
       "      <td>66</td>\n",
       "      <td>...</td>\n",
       "      <td>Yes</td>\n",
       "      <td>Yes</td>\n",
       "      <td>Yes</td>\n",
       "      <td>Yes</td>\n",
       "      <td>Yes</td>\n",
       "      <td>Two Year</td>\n",
       "      <td>Yes</td>\n",
       "      <td>Bank Withdrawal</td>\n",
       "      <td>105.65</td>\n",
       "      <td>No</td>\n",
       "    </tr>\n",
       "  </tbody>\n",
       "</table>\n",
       "<p>7043 rows × 28 columns</p>\n",
       "</div>"
      ],
      "text/plain": [
       "      Gender  Age Under 30 Senior Citizen Married Dependents  \\\n",
       "0       Male   78       No            Yes      No         No   \n",
       "1     Female   74       No            Yes     Yes        Yes   \n",
       "2       Male   71       No            Yes      No        Yes   \n",
       "3     Female   78       No            Yes     Yes        Yes   \n",
       "4     Female   80       No            Yes     Yes        Yes   \n",
       "...      ...  ...      ...            ...     ...        ...   \n",
       "7038  Female   30       No             No      No         No   \n",
       "7039    Male   38       No             No     Yes        Yes   \n",
       "7040  Female   30       No             No     Yes        Yes   \n",
       "7041  Female   32       No             No     Yes        Yes   \n",
       "7042    Male   44       No             No      No         No   \n",
       "\n",
       "      Number of Dependents Referred a Friend  Number of Referrals  \\\n",
       "0                        0                No                    0   \n",
       "1                        1               Yes                    1   \n",
       "2                        3                No                    0   \n",
       "3                        1               Yes                    1   \n",
       "4                        1               Yes                    1   \n",
       "...                    ...               ...                  ...   \n",
       "7038                     0                No                    0   \n",
       "7039                     2               Yes                    1   \n",
       "7040                     2               Yes                    4   \n",
       "7041                     2               Yes                    1   \n",
       "7042                     0                No                    0   \n",
       "\n",
       "      Tenure in Months  ... Premium Tech Support Streaming TV  \\\n",
       "0                    1  ...                   No           No   \n",
       "1                    8  ...                   No           No   \n",
       "2                   18  ...                   No          Yes   \n",
       "3                   25  ...                   No          Yes   \n",
       "4                   37  ...                   No           No   \n",
       "...                ...  ...                  ...          ...   \n",
       "7038                72  ...                   No           No   \n",
       "7039                24  ...                  Yes          Yes   \n",
       "7040                72  ...                   No          Yes   \n",
       "7041                11  ...                   No           No   \n",
       "7042                66  ...                  Yes          Yes   \n",
       "\n",
       "     Streaming Movies Streaming Music Unlimited Data        Contract  \\\n",
       "0                 Yes              No             No  Month-to-Month   \n",
       "1                  No              No            Yes  Month-to-Month   \n",
       "2                 Yes             Yes            Yes  Month-to-Month   \n",
       "3                 Yes              No            Yes  Month-to-Month   \n",
       "4                  No              No            Yes  Month-to-Month   \n",
       "...               ...             ...            ...             ...   \n",
       "7038               No              No             No        Two Year   \n",
       "7039              Yes             Yes            Yes        One Year   \n",
       "7040              Yes             Yes            Yes        One Year   \n",
       "7041               No              No            Yes  Month-to-Month   \n",
       "7042              Yes             Yes            Yes        Two Year   \n",
       "\n",
       "     Paperless Billing   Payment Method Monthly Charge Churn  \n",
       "0                  Yes  Bank Withdrawal          39.65   Yes  \n",
       "1                  Yes      Credit Card          80.65   Yes  \n",
       "2                  Yes  Bank Withdrawal          95.45   Yes  \n",
       "3                  Yes  Bank Withdrawal          98.50   Yes  \n",
       "4                  Yes  Bank Withdrawal          76.50   Yes  \n",
       "...                ...              ...            ...   ...  \n",
       "7038               Yes  Bank Withdrawal          21.15    No  \n",
       "7039               Yes     Mailed Check          84.80    No  \n",
       "7040               Yes      Credit Card         103.20    No  \n",
       "7041               Yes  Bank Withdrawal          29.60    No  \n",
       "7042               Yes  Bank Withdrawal         105.65    No  \n",
       "\n",
       "[7043 rows x 28 columns]"
      ]
     },
     "execution_count": 3,
     "metadata": {},
     "output_type": "execute_result"
    }
   ],
   "source": [
    "df"
   ]
  },
  {
   "cell_type": "code",
   "execution_count": 4,
   "metadata": {},
   "outputs": [
    {
     "name": "stdout",
     "output_type": "stream",
     "text": [
      "<class 'pandas.core.frame.DataFrame'>\n",
      "RangeIndex: 7043 entries, 0 to 7042\n",
      "Data columns (total 28 columns):\n",
      " #   Column                  Non-Null Count  Dtype  \n",
      "---  ------                  --------------  -----  \n",
      " 0   Gender                  7043 non-null   object \n",
      " 1   Age                     7043 non-null   int64  \n",
      " 2   Under 30                7043 non-null   object \n",
      " 3   Senior Citizen          7043 non-null   object \n",
      " 4   Married                 7043 non-null   object \n",
      " 5   Dependents              7043 non-null   object \n",
      " 6   Number of Dependents    7043 non-null   int64  \n",
      " 7   Referred a Friend       7043 non-null   object \n",
      " 8   Number of Referrals     7043 non-null   int64  \n",
      " 9   Tenure in Months        7043 non-null   int64  \n",
      " 10  Offer                   7043 non-null   object \n",
      " 11  Phone Service           7043 non-null   object \n",
      " 12  Multiple Lines          7043 non-null   object \n",
      " 13  Internet Service        7043 non-null   object \n",
      " 14  Internet Type           7043 non-null   object \n",
      " 15  Online Security         7043 non-null   object \n",
      " 16  Online Backup           7043 non-null   object \n",
      " 17  Device Protection Plan  7043 non-null   object \n",
      " 18  Premium Tech Support    7043 non-null   object \n",
      " 19  Streaming TV            7043 non-null   object \n",
      " 20  Streaming Movies        7043 non-null   object \n",
      " 21  Streaming Music         7043 non-null   object \n",
      " 22  Unlimited Data          7043 non-null   object \n",
      " 23  Contract                7043 non-null   object \n",
      " 24  Paperless Billing       7043 non-null   object \n",
      " 25  Payment Method          7043 non-null   object \n",
      " 26  Monthly Charge          7043 non-null   float64\n",
      " 27  Churn                   7043 non-null   object \n",
      "dtypes: float64(1), int64(4), object(23)\n",
      "memory usage: 1.5+ MB\n"
     ]
    }
   ],
   "source": [
    "df.info()"
   ]
  },
  {
   "cell_type": "markdown",
   "metadata": {},
   "source": [
    "# Preparing Data for Machine Learning Models"
   ]
  },
  {
   "cell_type": "code",
   "execution_count": 5,
   "metadata": {},
   "outputs": [
    {
     "data": {
      "text/plain": [
       "array([1, 1, 1, ..., 0, 0, 0])"
      ]
     },
     "execution_count": 5,
     "metadata": {},
     "output_type": "execute_result"
    }
   ],
   "source": [
    "churn = df.copy()\n",
    "churn = np.where(churn['Churn'] == 'Yes', 1, 0)\n",
    "churn"
   ]
  },
  {
   "cell_type": "code",
   "execution_count": 6,
   "metadata": {},
   "outputs": [],
   "source": [
    "# Separate features and target\n",
    "X = df.drop(columns='Churn')\n",
    "y = churn"
   ]
  },
  {
   "cell_type": "markdown",
   "metadata": {},
   "source": [
    "We want to view the columns we are using one last time before implementing them in the machine learning models to ensure we aren't including columns that shouldn't be there. "
   ]
  },
  {
   "cell_type": "code",
   "execution_count": 7,
   "metadata": {},
   "outputs": [
    {
     "data": {
      "text/plain": [
       "Index(['Gender', 'Age', 'Under 30', 'Senior Citizen', 'Married', 'Dependents',\n",
       "       'Number of Dependents', 'Referred a Friend', 'Number of Referrals',\n",
       "       'Tenure in Months', 'Offer', 'Phone Service', 'Multiple Lines',\n",
       "       'Internet Service', 'Internet Type', 'Online Security', 'Online Backup',\n",
       "       'Device Protection Plan', 'Premium Tech Support', 'Streaming TV',\n",
       "       'Streaming Movies', 'Streaming Music', 'Unlimited Data', 'Contract',\n",
       "       'Paperless Billing', 'Payment Method', 'Monthly Charge'],\n",
       "      dtype='object')"
      ]
     },
     "execution_count": 7,
     "metadata": {},
     "output_type": "execute_result"
    }
   ],
   "source": [
    "X.columns"
   ]
  },
  {
   "cell_type": "code",
   "execution_count": 8,
   "metadata": {},
   "outputs": [],
   "source": [
    "# One-hot encode categorical columns\n",
    "X = pd.get_dummies(X, drop_first=True, dtype=int)"
   ]
  },
  {
   "cell_type": "code",
   "execution_count": 9,
   "metadata": {},
   "outputs": [
    {
     "name": "stdout",
     "output_type": "stream",
     "text": [
      "X Shape: (7043, 35)\n",
      "y Shape: (7043,)\n"
     ]
    }
   ],
   "source": [
    "print(f\"X Shape: {X.shape}\")\n",
    "print(f\"y Shape: {y.shape}\")"
   ]
  },
  {
   "cell_type": "code",
   "execution_count": 10,
   "metadata": {},
   "outputs": [
    {
     "name": "stdout",
     "output_type": "stream",
     "text": [
      "Train Dataset Shape:\n",
      "X_train Shape: (4930, 35)\n",
      "y_train Shape: (4930,)\n",
      "\n",
      "Test Dataset Shape:\n",
      "X_test Shape:  (2113, 35)\n",
      "y_test Shape:  (2113,)\n"
     ]
    }
   ],
   "source": [
    "# Split the data\n",
    "X_train, X_test, y_train, y_test = train_test_split(X, y, test_size=0.3, random_state=42, stratify=y)\n",
    "\n",
    "print(f\"Train Dataset Shape:\")\n",
    "print(f\"X_train Shape: {X_train.shape}\")\n",
    "print(f\"y_train Shape: {y_train.shape}\")\n",
    "print(f\"\\nTest Dataset Shape:\")\n",
    "print(f\"X_test Shape:  {X_test.shape}\")\n",
    "print(f\"y_test Shape:  {y_test.shape}\")"
   ]
  },
  {
   "cell_type": "markdown",
   "metadata": {},
   "source": [
    "The stratify=y parameter helps to maintain the same proportion of the target variable (Churn) in both the training and test sets."
   ]
  },
  {
   "cell_type": "markdown",
   "metadata": {},
   "source": [
    "# Classification Models"
   ]
  },
  {
   "cell_type": "markdown",
   "metadata": {},
   "source": [
    "#### Most of the structure of this section is inspired by the following Kaggle Notebook:\n",
    "\n",
    "#### https://www.kaggle.com/code/ahmedashrafahmed/customer-churn-prediction-eda-and-model-98-acc#notebook-container"
   ]
  },
  {
   "cell_type": "markdown",
   "metadata": {},
   "source": [
    "## Baseline Model Accuracy"
   ]
  },
  {
   "cell_type": "markdown",
   "metadata": {},
   "source": [
    "Summary and Model Explanation\n",
    "\n",
    "Here’s a brief overview of each model:\n",
    "\n",
    "1.\tRandomForest: A robust model that builds multiple decision trees and combines their results. It’s usually strong for many datasets because it reduces the risk of overfitting on training data.\n",
    "2.\tXGBoost (Extreme Gradient Boosting): A boosting algorithm that sequentially improves weak models, typically strong for structured/tabular data but requires specific libraries (like libomp) for optimal performance.\n",
    "3.\tLGBM (LightGBM): Similar to XGBoost, this model builds trees for faster and efficient boosting. It’s often faster on larger datasets.\n",
    "4.\tDecisionTree: A simpler model that makes decisions based on if-else rules. It can overfit easily, meaning it may not perform as well on new data.\n",
    "5.\tKNN (K-Nearest Neighbors): A non-parametric model that classifies data based on the most common class among nearest neighbors. KNN is sensitive to how data is scaled.\n",
    "6.\tSVC (Support Vector Classifier): This model tries to find the best boundary between classes. It performs better with fewer features and requires careful parameter tuning.\n",
    "7.\tLogisticRegression: A basic model for binary classification that calculates probabilities for each class. Scaling data and more iterations often help improve its convergence.\n",
    "8.\tCatBoost: Another boosting model specifically optimized for categorical features, which is why it’s performing well.\n",
    "9.\tGradientBoosting and AdaBoost: Both are boosting methods that correct errors from weaker models by adjusting weights or modifying the input data. They’re generally strong choices, particularly for structured data.\n",
    "10.\tNaiveBayes: A probabilistic model often used for text classification. It’s less complex but works well for certain types of data.\n"
   ]
  },
  {
   "cell_type": "code",
   "execution_count": 11,
   "metadata": {},
   "outputs": [
    {
     "name": "stdout",
     "output_type": "stream",
     "text": [
      "Cross-validating LogisticRegression...\n",
      "Mean accuracy for LogisticRegression: 0.8432\n"
     ]
    }
   ],
   "source": [
    "models = {\n",
    "    'LogisticRegression': LogisticRegression(random_state=42, max_iter=10000),\n",
    "}\n",
    "\n",
    "pipeline = Pipeline([\n",
    "    ('scaler', StandardScaler()),\n",
    "    ('model', models['LogisticRegression'])\n",
    "])\n",
    "\n",
    "### Validation Score\n",
    "cv_results = {}\n",
    "for model_name, model in models.items():\n",
    "    print(f\"Cross-validating {model_name}...\")\n",
    "    cv_scores = cross_val_score(pipeline, X_train, y_train, cv=5, scoring='accuracy', n_jobs=-1, verbose=0)\n",
    "    cv_results[model_name] = cv_scores.mean()\n",
    "    print(f\"Mean accuracy for {model_name}: {cv_scores.mean():.4f}\")"
   ]
  },
  {
   "cell_type": "markdown",
   "metadata": {},
   "source": [
    "As can be seen from the above average accuracy for each model, the MLP model outperforms."
   ]
  },
  {
   "cell_type": "code",
   "execution_count": 12,
   "metadata": {},
   "outputs": [
    {
     "data": {
      "text/html": [
       "<div>\n",
       "<style scoped>\n",
       "    .dataframe tbody tr th:only-of-type {\n",
       "        vertical-align: middle;\n",
       "    }\n",
       "\n",
       "    .dataframe tbody tr th {\n",
       "        vertical-align: top;\n",
       "    }\n",
       "\n",
       "    .dataframe thead th {\n",
       "        text-align: right;\n",
       "    }\n",
       "</style>\n",
       "<table border=\"1\" class=\"dataframe\">\n",
       "  <thead>\n",
       "    <tr style=\"text-align: right;\">\n",
       "      <th></th>\n",
       "      <th>Model</th>\n",
       "      <th>Mean Accuracy</th>\n",
       "    </tr>\n",
       "  </thead>\n",
       "  <tbody>\n",
       "    <tr>\n",
       "      <th>0</th>\n",
       "      <td>LogisticRegression</td>\n",
       "      <td>0.843205</td>\n",
       "    </tr>\n",
       "  </tbody>\n",
       "</table>\n",
       "</div>"
      ],
      "text/plain": [
       "                Model  Mean Accuracy\n",
       "0  LogisticRegression       0.843205"
      ]
     },
     "execution_count": 12,
     "metadata": {},
     "output_type": "execute_result"
    }
   ],
   "source": [
    "cv_results_df = pd.DataFrame(list(cv_results.items()), columns=['Model', 'Mean Accuracy'])\n",
    "cv_results_df = cv_results_df.sort_values(by='Mean Accuracy', ascending=False).reset_index(drop=True)\n",
    "cv_results_df"
   ]
  },
  {
   "cell_type": "code",
   "execution_count": 13,
   "metadata": {},
   "outputs": [
    {
     "name": "stdout",
     "output_type": "stream",
     "text": [
      "\n",
      "Best model from CV: LogisticRegression\n"
     ]
    }
   ],
   "source": [
    "best_model_name = cv_results_df.iloc[0]['Model']\n",
    "print(f\"\\nBest model from CV: {best_model_name}\")"
   ]
  },
  {
   "cell_type": "markdown",
   "metadata": {},
   "source": [
    "## Optimizing Parameters for Best Cross-Validation Score"
   ]
  },
  {
   "cell_type": "markdown",
   "metadata": {},
   "source": [
    "##### This next cell takes approximately 12 minutes to run."
   ]
  },
  {
   "cell_type": "markdown",
   "metadata": {},
   "source": [
    "### Parameter Grid Explanation for Logistic Regression\n",
    "\n",
    "In the `param_grids` dictionary, we define the hyperparameters that will be tuned using `GridSearchCV` for the `LogisticRegression` model. Below is a detailed explanation of each parameter:\n",
    "\n",
    "- **`C`**: This parameter represents the inverse of regularization strength. It controls the amount of regularization applied to the model. A smaller value of `C` implies stronger regularization, which can prevent overfitting but may lead to underfitting if too small. The values in the grid `[0.01, 0.1, 1, 10]` are chosen to test different levels of regularization:\n",
    "  - `0.01`: High regularization (strong penalty)\n",
    "  - `0.1`: Moderate regularization\n",
    "  - `1`: Default value (no additional regularization)\n",
    "  - `10`: Low regularization (weak penalty)\n",
    "\n",
    "- **`penalty`**: This parameter specifies the type of regularization used in the model. The options included are:\n",
    "  - `'l1'`: L1 regularization, which adds a penalty equal to the absolute value of the magnitude of coefficients. This can lead to sparse solutions (some coefficients may become zero).\n",
    "  - `'l2'`: L2 regularization, which adds a penalty equal to the square of the magnitude of coefficients. This helps distribute errors uniformly across all coefficients and is more commonly used than L1.\n",
    "\n",
    "- **`solver`**: This parameter determines the algorithm used to optimize the loss function. The options are:\n",
    "  - `'liblinear'`: A good choice for smaller datasets and supports L1 and L2 regularization. It works well with `penalty='l1'` and `penalty='l2'`.\n",
    "  - `'saga'`: An extension of the `sag` solver that supports both L1 and L2 regularization. It is suitable for large-scale datasets and is capable of handling the `penalty='l1'`.\n",
    "\n",
    "By setting up a grid with these combinations, `GridSearchCV` will perform cross-validation to determine which combination of `C`, `penalty`, and `solver` yields the best model performance based on the chosen scoring metric (`accuracy` in this case)."
   ]
  },
  {
   "cell_type": "code",
   "execution_count": 14,
   "metadata": {},
   "outputs": [
    {
     "name": "stdout",
     "output_type": "stream",
     "text": [
      "\n",
      "Performing GridSearchCV for LogisticRegression...\n",
      "Best parameters for LogisticRegression: {'C': 10, 'penalty': 'l1', 'solver': 'liblinear'}\n",
      "Best cross-validation score for LogisticRegression: 0.8434\n"
     ]
    }
   ],
   "source": [
    "param_grids = {\n",
    "    'LogisticRegression': {\n",
    "        'C': [0.01, 0.1, 1, 10],\n",
    "        'penalty': ['l1', 'l2'],\n",
    "        'solver': ['liblinear', 'saga']\n",
    "    }\n",
    "}\n",
    "\n",
    "best_results = []\n",
    "\n",
    "# Existing model tuning with GridSearchCV\n",
    "for model_name, model in models.items():\n",
    "        print(f\"\\nPerforming GridSearchCV for {model_name}...\")\n",
    "        grid_search = GridSearchCV(estimator=pipeline[1], param_grid=param_grids[model_name], cv=5, scoring='accuracy', verbose=0, n_jobs=-1)\n",
    "        grid_search.fit(X_train, y_train)\n",
    "        best_params = grid_search.best_params_\n",
    "        best_score = grid_search.best_score_\n",
    "        best_results.append({'Model': model_name, 'Best Score': best_score, 'Best Params': best_params})\n",
    "        print(f\"Best parameters for {model_name}: {best_params}\")\n",
    "        print(f\"Best cross-validation score for {model_name}: {best_score:.4f}\")"
   ]
  },
  {
   "cell_type": "code",
   "execution_count": 15,
   "metadata": {},
   "outputs": [
    {
     "data": {
      "text/html": [
       "<div>\n",
       "<style scoped>\n",
       "    .dataframe tbody tr th:only-of-type {\n",
       "        vertical-align: middle;\n",
       "    }\n",
       "\n",
       "    .dataframe tbody tr th {\n",
       "        vertical-align: top;\n",
       "    }\n",
       "\n",
       "    .dataframe thead th {\n",
       "        text-align: right;\n",
       "    }\n",
       "</style>\n",
       "<table border=\"1\" class=\"dataframe\">\n",
       "  <thead>\n",
       "    <tr style=\"text-align: right;\">\n",
       "      <th></th>\n",
       "      <th>Model</th>\n",
       "      <th>Best Score</th>\n",
       "      <th>Best Params</th>\n",
       "    </tr>\n",
       "  </thead>\n",
       "  <tbody>\n",
       "    <tr>\n",
       "      <th>0</th>\n",
       "      <td>LogisticRegression</td>\n",
       "      <td>0.843408</td>\n",
       "      <td>{'C': 10, 'penalty': 'l1', 'solver': 'liblinear'}</td>\n",
       "    </tr>\n",
       "  </tbody>\n",
       "</table>\n",
       "</div>"
      ],
      "text/plain": [
       "                Model  Best Score  \\\n",
       "0  LogisticRegression    0.843408   \n",
       "\n",
       "                                         Best Params  \n",
       "0  {'C': 10, 'penalty': 'l1', 'solver': 'liblinear'}  "
      ]
     },
     "execution_count": 15,
     "metadata": {},
     "output_type": "execute_result"
    }
   ],
   "source": [
    "best_results_df = pd.DataFrame(best_results)\n",
    "best_results_df = best_results_df.sort_values(by='Best Score', ascending=False)\n",
    "best_results_df"
   ]
  },
  {
   "cell_type": "code",
   "execution_count": 16,
   "metadata": {},
   "outputs": [
    {
     "name": "stdout",
     "output_type": "stream",
     "text": [
      "\n",
      "Best model : LogisticRegression\n",
      "\n",
      "Best Parameters : {'C': 10, 'penalty': 'l1', 'solver': 'liblinear'}\n"
     ]
    }
   ],
   "source": [
    "best_model_name, best_model_param = best_results_df.iloc[0]['Model'], best_results_df.iloc[0]['Best Params']\n",
    "print(f\"\\nBest model : {best_model_name}\")\n",
    "print(f\"\\nBest Parameters : {best_model_param}\")"
   ]
  },
  {
   "cell_type": "code",
   "execution_count": 17,
   "metadata": {},
   "outputs": [
    {
     "data": {
      "text/plain": [
       "{'C': 10, 'penalty': 'l1', 'solver': 'liblinear'}"
      ]
     },
     "execution_count": 17,
     "metadata": {},
     "output_type": "execute_result"
    }
   ],
   "source": [
    "best_model_param"
   ]
  },
  {
   "cell_type": "markdown",
   "metadata": {},
   "source": [
    "## Evaluating Best Model"
   ]
  },
  {
   "cell_type": "code",
   "execution_count": 18,
   "metadata": {},
   "outputs": [
    {
     "name": "stdout",
     "output_type": "stream",
     "text": [
      "=========================================================\n",
      "  Model: L1 Penalized Logistic Regression\n",
      "=========================================================\n",
      "Optimal parameters:\n",
      "cv_model.best_params_\n",
      "\n",
      "Accuracy-Maximizing Threshold: 0.5031661604509585\n",
      "\n",
      "Accuracy: 0.8499763369616659\n",
      "              precision    recall  f1-score   support\n",
      "\n",
      "    No Churn     0.8781    0.9240    0.9005      1552\n",
      "       Churn     0.7542    0.6453    0.6955       561\n",
      "\n",
      "    accuracy                         0.8500      2113\n",
      "   macro avg     0.8162    0.7846    0.7980      2113\n",
      "weighted avg     0.8452    0.8500    0.8460      2113\n",
      "\n"
     ]
    }
   ],
   "source": [
    "# Using best model determined from GridSearchCV\n",
    "cv_model = grid_search\n",
    "\n",
    "# Determining the best model\n",
    "best_model = cv_model.best_estimator_\n",
    "print(\"=========================================================\")\n",
    "print(\"  Model: L1 Penalized Logistic Regression\")\n",
    "print(\"=========================================================\")\n",
    "print(\"Optimal parameters:\")\n",
    "print(f'cv_model.best_params_\\n')\n",
    "\n",
    "# Make predictions on the test and establish ROC Curve\n",
    "y_pred_probs = best_model.predict_proba(X_test)[:, 1]\n",
    "fpr, tpr, thresholds = roc_curve(y_test, y_pred_probs)\n",
    "\n",
    "# Make predictions; if we were able to find probabilities, use\n",
    "# the threshold that maximizes the accuracy in the training set.\n",
    "y_train_pred_probs = best_model.predict_proba(X_train)[:, 1]\n",
    "fpr_train, tpr_train, thresholds_train = roc_curve(y_train, y_train_pred_probs)\n",
    "\n",
    "true_pos_train = tpr_train * (y_train.sum())\n",
    "true_neg_train = (1 - fpr_train) * (1 - y_train).sum()\n",
    "\n",
    "best_threshold_index = np.argmax(true_pos_train + true_neg_train)\n",
    "best_threshold = 1 if best_threshold_index == 0 else thresholds_train[best_threshold_index]\n",
    "\n",
    "print(f'Accuracy-Maximizing Threshold: {str(best_threshold)}')\n",
    "\n",
    "y_train_preds = (y_train_pred_probs > best_threshold)\n",
    "y_pred = (y_pred_probs > best_threshold)\n",
    "print()\n",
    "print(f'Accuracy: {accuracy_score(y_test, y_pred)}')\n",
    "print(classification_report(y_test, y_pred, target_names=['No Churn', 'Churn'], digits=4))\n"
   ]
  },
  {
   "cell_type": "code",
   "execution_count": 19,
   "metadata": {},
   "outputs": [
    {
     "data": {
      "image/png": "[encoded data removed]",
      "text/plain": [
       "<Figure size 1300x450 with 4 Axes>"
      ]
     },
     "metadata": {},
     "output_type": "display_data"
    }
   ],
   "source": [
    "plt.figure(figsize = (13, 4.5))\n",
    "\n",
    "plt.subplot(2, 2, 1)\n",
    "\n",
    "plt.title(\"ROC Curve (AUC = %0.2f)\"% roc_auc_score(y_test, y_pred_probs))\n",
    "plt.plot(fpr, tpr, 'b')\n",
    "plt.plot([0,1],[0,1],'r--')\n",
    "plt.xlim([0,1]); plt.ylim([0,1])\n",
    "plt.ylabel('True Positive Rate')\n",
    "plt.xlabel('False Positive Rate')\n",
    "\n",
    "plt.subplot(2, 2, 3)\n",
    "\n",
    "plt.plot(thresholds, tpr, 'b', label = 'Sensitivity')\n",
    "plt.plot(thresholds, 1 -fpr, 'r', label = 'Specificity')\n",
    "plt.legend(loc = 'lower right')\n",
    "plt.xlim([0,1]); plt.ylim([0,1])\n",
    "plt.xlabel('Threshold')\n",
    "\n",
    "plt.subplot(2, 2, 2)\n",
    "\n",
    "fp_0, mpv_0 = calibration_curve(y_test, y_pred_probs, n_bins = 10)\n",
    "plt.plot([0,1], [0,1], 'k:', label='Perfectly calibrated')\n",
    "plt.plot(mpv_0, fp_0, 's-')\n",
    "plt.ylabel('Fraction of Positives')\n",
    "plt.xlim([0,1]); plt.ylim([0,1])\n",
    "plt.legend(loc ='upper left')\n",
    "\n",
    "plt.subplot(2, 2, 4)\n",
    "\n",
    "plt.hist(y_pred_probs, range=(0, 1), bins=10, histtype=\"step\", lw=2)\n",
    "plt.xlim([0,1]); plt.ylim([0,20000])\n",
    "plt.xlabel('Mean Predicted Probability')\n",
    "plt.ylabel('Count')\n",
    "\n",
    "plt.show()"
   ]
  },
  {
   "cell_type": "code",
   "execution_count": 20,
   "metadata": {},
   "outputs": [
    {
     "data": {
      "text/plain": [
       "array([ True, False,  True, ..., False, False, False])"
      ]
     },
     "execution_count": 20,
     "metadata": {},
     "output_type": "execute_result"
    }
   ],
   "source": [
    "y_pred"
   ]
  },
  {
   "cell_type": "code",
   "execution_count": 21,
   "metadata": {},
   "outputs": [
    {
     "name": "stdout",
     "output_type": "stream",
     "text": [
      "Confusion Matrix:\n",
      " [[1434  118]\n",
      " [ 199  362]]\n"
     ]
    },
    {
     "data": {
      "image/png": "[encoded data removed]",
      "text/plain": [
       "<Figure size 800x500 with 2 Axes>"
      ]
     },
     "metadata": {},
     "output_type": "display_data"
    }
   ],
   "source": [
    "# Confusion Matrix for test set\n",
    "cm = confusion_matrix(y_test, y_pred=y_pred)\n",
    "print('Confusion Matrix:\\n', cm)\n",
    "plt.figure(figsize=(8, 5))\n",
    "sns.heatmap(data=cm, annot=True, fmt='g', cmap=\"Blues\", xticklabels=['NO', 'YES'], yticklabels=['NO', 'YES'])\n",
    "plt.xlabel('Predicted values')\n",
    "plt.ylabel('Actual values')\n",
    "plt.title('Confusion Matrix for L1 Penalized Logistic Regression')\n",
    "plt.show()"
   ]
  },
  {
   "cell_type": "code",
   "execution_count": 22,
   "metadata": {},
   "outputs": [
    {
     "data": {
      "text/plain": [
       "Index(['Age', 'Number of Dependents', 'Number of Referrals',\n",
       "       'Tenure in Months', 'Monthly Charge', 'Gender_Male', 'Under 30_Yes',\n",
       "       'Senior Citizen_Yes', 'Married_Yes', 'Dependents_Yes',\n",
       "       'Referred a Friend_Yes', 'Offer_Offer A', 'Offer_Offer B',\n",
       "       'Offer_Offer C', 'Offer_Offer D', 'Offer_Offer E', 'Phone Service_Yes',\n",
       "       'Multiple Lines_Yes', 'Internet Service_Yes', 'Internet Type_DSL',\n",
       "       'Internet Type_Fiber Optic', 'Internet Type_No Internet',\n",
       "       'Online Security_Yes', 'Online Backup_Yes',\n",
       "       'Device Protection Plan_Yes', 'Premium Tech Support_Yes',\n",
       "       'Streaming TV_Yes', 'Streaming Movies_Yes', 'Streaming Music_Yes',\n",
       "       'Unlimited Data_Yes', 'Contract_One Year', 'Contract_Two Year',\n",
       "       'Paperless Billing_Yes', 'Payment Method_Credit Card',\n",
       "       'Payment Method_Mailed Check'],\n",
       "      dtype='object')"
      ]
     },
     "execution_count": 22,
     "metadata": {},
     "output_type": "execute_result"
    }
   ],
   "source": [
    "X.columns"
   ]
  },
  {
   "cell_type": "code",
   "execution_count": 23,
   "metadata": {},
   "outputs": [
    {
     "data": {
      "text/plain": [
       "[31, 16, 20, 9, 18, 34, 8, 7, 11, 10]"
      ]
     },
     "execution_count": 23,
     "metadata": {},
     "output_type": "execute_result"
    }
   ],
   "source": [
    "# Extracting the top and bottom index row numbers\n",
    "top_and_bottom_idx = list(np.argsort(best_model.coef_)[0, :5]) + list(np.argsort(best_model.coef_)[0, -5:])\n",
    "top_and_bottom_idx"
   ]
  },
  {
   "cell_type": "code",
   "execution_count": 24,
   "metadata": {},
   "outputs": [
    {
     "data": {
      "text/plain": [
       "0   -2.786647\n",
       "1   -2.096674\n",
       "2   -1.685337\n",
       "3   -1.502499\n",
       "4   -1.347874\n",
       "5    0.540099\n",
       "6    0.584481\n",
       "7    0.724653\n",
       "8    1.293109\n",
       "9    1.296971\n",
       "dtype: float64"
      ]
     },
     "execution_count": 24,
     "metadata": {},
     "output_type": "execute_result"
    }
   ],
   "source": [
    "# Extracing the values based on the index rows\n",
    "bplot = pd.Series(best_model.coef_[0, top_and_bottom_idx])\n",
    "bplot"
   ]
  },
  {
   "cell_type": "code",
   "execution_count": 25,
   "metadata": {},
   "outputs": [
    {
     "data": {
      "text/plain": [
       "Index(['Contract_Two Year', 'Phone Service_Yes', 'Internet Type_Fiber Optic',\n",
       "       'Dependents_Yes', 'Internet Service_Yes', 'Payment Method_Mailed Check',\n",
       "       'Married_Yes', 'Senior Citizen_Yes', 'Offer_Offer A',\n",
       "       'Referred a Friend_Yes'],\n",
       "      dtype='object')"
      ]
     },
     "execution_count": 25,
     "metadata": {},
     "output_type": "execute_result"
    }
   ],
   "source": [
    "# Extracting the features based on the highest and lowest coefficients indexes \n",
    "xticks = X_train.columns[top_and_bottom_idx]\n",
    "xticks"
   ]
  },
  {
   "cell_type": "code",
   "execution_count": 26,
   "metadata": {},
   "outputs": [
    {
     "data": {
      "image/png": "[encoded data removed]",
      "text/plain": [
       "<Figure size 640x480 with 1 Axes>"
      ]
     },
     "metadata": {},
     "output_type": "display_data"
    }
   ],
   "source": [
    "## plot top 3 features with the most positive (and negative) weights \n",
    "p1 = bplot.plot(kind='bar',rot=90)\n",
    "p1.set_xticklabels(xticks)\n",
    "plt.title('Most significant features of L1 Penalized Logistic Regression Classification Model')\n",
    "plt.show()"
   ]
  },
  {
   "cell_type": "code",
   "execution_count": 27,
   "metadata": {},
   "outputs": [
    {
     "name": "stdout",
     "output_type": "stream",
     "text": [
      "Training Accuracy: 0.85\n",
      "Training Precision: 0.74\n",
      "Training Recall: 0.67\n",
      "Training F1-Score: 0.70\n",
      "---\n",
      "Test Accuracy: 0.85\n",
      "Test Precision: 0.75\n",
      "Test Recall: 0.65\n",
      "Test F1-Score: 0.70\n"
     ]
    },
    {
     "data": {
      "text/html": [
       "<div>\n",
       "<style scoped>\n",
       "    .dataframe tbody tr th:only-of-type {\n",
       "        vertical-align: middle;\n",
       "    }\n",
       "\n",
       "    .dataframe tbody tr th {\n",
       "        vertical-align: top;\n",
       "    }\n",
       "\n",
       "    .dataframe thead th {\n",
       "        text-align: right;\n",
       "    }\n",
       "</style>\n",
       "<table border=\"1\" class=\"dataframe\">\n",
       "  <thead>\n",
       "    <tr style=\"text-align: right;\">\n",
       "      <th></th>\n",
       "      <th>Training Accuracy</th>\n",
       "      <th>Training Precision</th>\n",
       "      <th>Training Recall</th>\n",
       "      <th>Training F1-Score</th>\n",
       "      <th>Test Accuracy</th>\n",
       "      <th>Test Precision</th>\n",
       "      <th>Test Recall</th>\n",
       "      <th>Test F1-Score</th>\n",
       "    </tr>\n",
       "  </thead>\n",
       "  <tbody>\n",
       "    <tr>\n",
       "      <th>0</th>\n",
       "      <td>0.85</td>\n",
       "      <td>0.74</td>\n",
       "      <td>0.67</td>\n",
       "      <td>0.7</td>\n",
       "      <td>0.85</td>\n",
       "      <td>0.75</td>\n",
       "      <td>0.65</td>\n",
       "      <td>0.7</td>\n",
       "    </tr>\n",
       "  </tbody>\n",
       "</table>\n",
       "</div>"
      ],
      "text/plain": [
       "   Training Accuracy  Training Precision  Training Recall  Training F1-Score  \\\n",
       "0               0.85                0.74             0.67                0.7   \n",
       "\n",
       "   Test Accuracy  Test Precision  Test Recall  Test F1-Score  \n",
       "0           0.85            0.75         0.65            0.7  "
      ]
     },
     "execution_count": 27,
     "metadata": {},
     "output_type": "execute_result"
    }
   ],
   "source": [
    "# Calculate metrics for training data\n",
    "train_accuracy = accuracy_score(y_train, y_train_preds)\n",
    "train_precision = precision_score(y_train, y_train_preds)\n",
    "train_recall = recall_score(y_train, y_train_preds)\n",
    "train_f1 = f1_score(y_train, y_train_preds)\n",
    "\n",
    "# Calculate metrics for test data\n",
    "test_accuracy = accuracy_score(y_test, y_pred)\n",
    "test_precision = precision_score(y_test, y_pred)\n",
    "test_recall = recall_score(y_test, y_pred)\n",
    "test_f1 = f1_score(y_test, y_pred)\n",
    "\n",
    "# Display metrics\n",
    "print(f\"Training Accuracy: {train_accuracy:.2f}\")\n",
    "print(f\"Training Precision: {train_precision:.2f}\")\n",
    "print(f\"Training Recall: {train_recall:.2f}\")\n",
    "print(f\"Training F1-Score: {train_f1:.2f}\")\n",
    "print(\"---\")\n",
    "print(f\"Test Accuracy: {test_accuracy:.2f}\")\n",
    "print(f\"Test Precision: {test_precision:.2f}\")\n",
    "print(f\"Test Recall: {test_recall:.2f}\")\n",
    "print(f\"Test F1-Score: {test_f1:.2f}\")\n",
    "\n",
    "metric_df = pd.DataFrame({\n",
    "    'Training Accuracy':round(train_accuracy, 2),\n",
    "    'Training Precision':round(train_precision, 2),\n",
    "    'Training Recall':round(train_recall, 2),\n",
    "    'Training F1-Score':round(train_f1, 2),\n",
    "    'Test Accuracy':round(test_accuracy, 2),\n",
    "    'Test Precision':round(test_precision, 2),\n",
    "    'Test Recall':round(test_recall, 2),\n",
    "    'Test F1-Score':round(test_f1, 2)\n",
    "}, index=[0])\n",
    "\n",
    "metric_df"
   ]
  },
  {
   "cell_type": "markdown",
   "metadata": {},
   "source": [
    "# Creating Baseline Churn Rate"
   ]
  },
  {
   "cell_type": "markdown",
   "metadata": {},
   "source": [
    "We need to create baseline feature conditions to establish a baseline churn rate. The assumption is that Telco would not be operating with a Data Science team to detect and predict churn rates among the current customer base or future customer acquisition."
   ]
  },
  {
   "cell_type": "code",
   "execution_count": 28,
   "metadata": {},
   "outputs": [],
   "source": [
    "df['Baseline_Predicted_Churn'] = (\n",
    "   # Condition 1: Customer has 6 or 7 dependents \n",
    "   (df['Number of Dependents'].isin([6, 7])) |\n",
    "   # Condition 2: Customer is not married and does not have any dependents\n",
    "   ((df['Married'] == 'No') & (df['Number of Dependents'] == 0)) |\n",
    "   # Condition 3: Customer uses Fiber Optic\n",
    "   (df['Internet Type'] == 'Fiber Optic') |\n",
    "   # Condition 4: Offer 'E' Customer\n",
    "   (df['Offer'] == 'Offer E') |\n",
    "   # Condition 5: Customer uses Paperless Billing, Bank Withdrawal, or Mailed Check\n",
    "   ((df['Paperless Billing'] == 'Yes') & (df['Payment Method'].isin(['Bank Withdrawal', 'Mailed Check']))) |\n",
    "   # Condition 6: Customer has referred 1 person\n",
    "   (df['Number of Referrals'] == 1) | \n",
    "   # Condition 8: Customer is a Senior Citizen\n",
    "   (df['Senior Citizen'] == 'Yes')\n",
    ")\n"
   ]
  },
  {
   "cell_type": "code",
   "execution_count": 29,
   "metadata": {},
   "outputs": [
    {
     "data": {
      "text/plain": [
       "Baseline_Predicted_Churn\n",
       "True     5913\n",
       "False    1130\n",
       "Name: count, dtype: int64"
      ]
     },
     "execution_count": 29,
     "metadata": {},
     "output_type": "execute_result"
    }
   ],
   "source": [
    "df['Baseline_Predicted_Churn'].value_counts()"
   ]
  },
  {
   "cell_type": "code",
   "execution_count": 30,
   "metadata": {},
   "outputs": [],
   "source": [
    "df['Baseline_Predicted_Churn'] = df['Baseline_Predicted_Churn'].astype(int)"
   ]
  },
  {
   "cell_type": "code",
   "execution_count": 31,
   "metadata": {},
   "outputs": [
    {
     "data": {
      "text/plain": [
       "Churn\n",
       "No     5174\n",
       "Yes    1869\n",
       "Name: count, dtype: int64"
      ]
     },
     "execution_count": 31,
     "metadata": {},
     "output_type": "execute_result"
    }
   ],
   "source": [
    "df['Churn'].value_counts()"
   ]
  },
  {
   "cell_type": "code",
   "execution_count": 32,
   "metadata": {},
   "outputs": [
    {
     "data": {
      "text/plain": [
       "Baseline_Predicted_Churn  Churn\n",
       "0                         No       1107\n",
       "                          Yes        23\n",
       "1                         No       4067\n",
       "                          Yes      1846\n",
       "Name: count, dtype: int64"
      ]
     },
     "execution_count": 32,
     "metadata": {},
     "output_type": "execute_result"
    }
   ],
   "source": [
    "df.groupby('Baseline_Predicted_Churn')['Churn'].value_counts()"
   ]
  },
  {
   "cell_type": "markdown",
   "metadata": {},
   "source": [
    "## Creating a Confusion Matrix for Baseline"
   ]
  },
  {
   "cell_type": "markdown",
   "metadata": {},
   "source": [
    "We want to ensure that the baseline predicted churn is using the same data as the Logistic Regression model to accurately compare the confusion matrices. "
   ]
  },
  {
   "cell_type": "code",
   "execution_count": 33,
   "metadata": {},
   "outputs": [
    {
     "data": {
      "text/plain": [
       "2113"
      ]
     },
     "execution_count": 33,
     "metadata": {},
     "output_type": "execute_result"
    }
   ],
   "source": [
    "len(y_test)"
   ]
  },
  {
   "cell_type": "code",
   "execution_count": 34,
   "metadata": {},
   "outputs": [],
   "source": [
    "baseline_df = df.copy()\n",
    "baseline_df = baseline_df.iloc[-len(y_test):]"
   ]
  },
  {
   "cell_type": "code",
   "execution_count": 35,
   "metadata": {},
   "outputs": [
    {
     "data": {
      "text/plain": [
       "2113"
      ]
     },
     "execution_count": 35,
     "metadata": {},
     "output_type": "execute_result"
    }
   ],
   "source": [
    "len(baseline_df)"
   ]
  },
  {
   "cell_type": "code",
   "execution_count": 36,
   "metadata": {},
   "outputs": [
    {
     "name": "stdout",
     "output_type": "stream",
     "text": [
      "Test Accuracy: 0.37\n",
      "Test Precision: 0.26\n",
      "Test Recall: 0.74\n",
      "Test F1-Score: 0.39\n"
     ]
    },
    {
     "data": {
      "text/html": [
       "<div>\n",
       "<style scoped>\n",
       "    .dataframe tbody tr th:only-of-type {\n",
       "        vertical-align: middle;\n",
       "    }\n",
       "\n",
       "    .dataframe tbody tr th {\n",
       "        vertical-align: top;\n",
       "    }\n",
       "\n",
       "    .dataframe thead th {\n",
       "        text-align: right;\n",
       "    }\n",
       "</style>\n",
       "<table border=\"1\" class=\"dataframe\">\n",
       "  <thead>\n",
       "    <tr style=\"text-align: right;\">\n",
       "      <th></th>\n",
       "      <th>Test Accuracy</th>\n",
       "      <th>Test Precision</th>\n",
       "      <th>Test Recall</th>\n",
       "      <th>Test F1-Score</th>\n",
       "    </tr>\n",
       "  </thead>\n",
       "  <tbody>\n",
       "    <tr>\n",
       "      <th>0</th>\n",
       "      <td>0.37</td>\n",
       "      <td>0.26</td>\n",
       "      <td>0.74</td>\n",
       "      <td>0.39</td>\n",
       "    </tr>\n",
       "  </tbody>\n",
       "</table>\n",
       "</div>"
      ],
      "text/plain": [
       "   Test Accuracy  Test Precision  Test Recall  Test F1-Score\n",
       "0           0.37            0.26         0.74           0.39"
      ]
     },
     "execution_count": 36,
     "metadata": {},
     "output_type": "execute_result"
    }
   ],
   "source": [
    "# Calculate metrics for test data\n",
    "test_accuracy_baseline = accuracy_score(y_test, baseline_df['Baseline_Predicted_Churn'])\n",
    "test_precision_baseline = precision_score(y_test, baseline_df['Baseline_Predicted_Churn'])\n",
    "test_recall_baseline = recall_score(y_test, baseline_df['Baseline_Predicted_Churn'])\n",
    "test_f1_baseline = f1_score(y_test, baseline_df['Baseline_Predicted_Churn'])\n",
    "\n",
    "# Display metrics\n",
    "print(f\"Test Accuracy: {test_accuracy_baseline:.2f}\")\n",
    "print(f\"Test Precision: {test_precision_baseline:.2f}\")\n",
    "print(f\"Test Recall: {test_recall_baseline:.2f}\")\n",
    "print(f\"Test F1-Score: {test_f1_baseline:.2f}\")\n",
    "\n",
    "metric_df_baseline = pd.DataFrame({\n",
    "    'Test Accuracy':round(test_accuracy_baseline, 2),\n",
    "    'Test Precision':round(test_precision_baseline, 2),\n",
    "    'Test Recall':round(test_recall_baseline, 2),\n",
    "    'Test F1-Score':round(test_f1_baseline, 2)\n",
    "}, index=[0])\n",
    "\n",
    "metric_df_baseline"
   ]
  },
  {
   "cell_type": "code",
   "execution_count": 37,
   "metadata": {},
   "outputs": [
    {
     "name": "stdout",
     "output_type": "stream",
     "text": [
      "Baseline Confusion Matrix:\n",
      " [[ 374 1178]\n",
      " [ 144  417]]\n"
     ]
    },
    {
     "data": {
      "image/png": "[encoded data removed]",
      "text/plain": [
       "<Figure size 800x500 with 2 Axes>"
      ]
     },
     "metadata": {},
     "output_type": "display_data"
    }
   ],
   "source": [
    "# Confusion Matrix for test set\n",
    "cm_baseline = confusion_matrix(y_test, baseline_df['Baseline_Predicted_Churn'])\n",
    "print('Baseline Confusion Matrix:\\n', cm_baseline)\n",
    "plt.figure(figsize=(8, 5))\n",
    "sns.heatmap(data=cm_baseline, annot=True, fmt='g', cmap=\"Blues\", xticklabels=['NO', 'YES'], yticklabels=['NO', 'YES'])\n",
    "plt.xlabel('Predicted values')\n",
    "plt.ylabel('Actual values')\n",
    "plt.title('Baseline Confusion Matrix')\n",
    "plt.show()"
   ]
  },
  {
   "cell_type": "markdown",
   "metadata": {},
   "source": [
    "# Comparing Our Model to Baseline"
   ]
  },
  {
   "cell_type": "code",
   "execution_count": 38,
   "metadata": {},
   "outputs": [
    {
     "data": {
      "text/html": [
       "<div>\n",
       "<style scoped>\n",
       "    .dataframe tbody tr th:only-of-type {\n",
       "        vertical-align: middle;\n",
       "    }\n",
       "\n",
       "    .dataframe tbody tr th {\n",
       "        vertical-align: top;\n",
       "    }\n",
       "\n",
       "    .dataframe thead th {\n",
       "        text-align: right;\n",
       "    }\n",
       "</style>\n",
       "<table border=\"1\" class=\"dataframe\">\n",
       "  <thead>\n",
       "    <tr style=\"text-align: right;\">\n",
       "      <th></th>\n",
       "      <th>Test Accuracy</th>\n",
       "      <th>Test Precision</th>\n",
       "      <th>Test Recall</th>\n",
       "      <th>Test F1-Score</th>\n",
       "    </tr>\n",
       "  </thead>\n",
       "  <tbody>\n",
       "    <tr>\n",
       "      <th>0</th>\n",
       "      <td>0.85</td>\n",
       "      <td>0.75</td>\n",
       "      <td>0.65</td>\n",
       "      <td>0.7</td>\n",
       "    </tr>\n",
       "  </tbody>\n",
       "</table>\n",
       "</div>"
      ],
      "text/plain": [
       "   Test Accuracy  Test Precision  Test Recall  Test F1-Score\n",
       "0           0.85            0.75         0.65            0.7"
      ]
     },
     "execution_count": 38,
     "metadata": {},
     "output_type": "execute_result"
    }
   ],
   "source": [
    "test_metric_df = metric_df[['Test Accuracy', 'Test Precision', 'Test Recall', 'Test F1-Score']]\n",
    "test_metric_df"
   ]
  },
  {
   "cell_type": "code",
   "execution_count": 39,
   "metadata": {},
   "outputs": [],
   "source": [
    "comparison_metric_df = pd.concat([test_metric_df, metric_df_baseline]).reset_index(drop=True)"
   ]
  },
  {
   "cell_type": "code",
   "execution_count": 40,
   "metadata": {},
   "outputs": [
    {
     "data": {
      "text/html": [
       "<div>\n",
       "<style scoped>\n",
       "    .dataframe tbody tr th:only-of-type {\n",
       "        vertical-align: middle;\n",
       "    }\n",
       "\n",
       "    .dataframe tbody tr th {\n",
       "        vertical-align: top;\n",
       "    }\n",
       "\n",
       "    .dataframe thead th {\n",
       "        text-align: right;\n",
       "    }\n",
       "</style>\n",
       "<table border=\"1\" class=\"dataframe\">\n",
       "  <thead>\n",
       "    <tr style=\"text-align: right;\">\n",
       "      <th></th>\n",
       "      <th>Test Accuracy</th>\n",
       "      <th>Test Precision</th>\n",
       "      <th>Test Recall</th>\n",
       "      <th>Test F1-Score</th>\n",
       "    </tr>\n",
       "  </thead>\n",
       "  <tbody>\n",
       "    <tr>\n",
       "      <th>0</th>\n",
       "      <td>0.85</td>\n",
       "      <td>0.75</td>\n",
       "      <td>0.65</td>\n",
       "      <td>0.70</td>\n",
       "    </tr>\n",
       "    <tr>\n",
       "      <th>1</th>\n",
       "      <td>0.37</td>\n",
       "      <td>0.26</td>\n",
       "      <td>0.74</td>\n",
       "      <td>0.39</td>\n",
       "    </tr>\n",
       "  </tbody>\n",
       "</table>\n",
       "</div>"
      ],
      "text/plain": [
       "   Test Accuracy  Test Precision  Test Recall  Test F1-Score\n",
       "0           0.85            0.75         0.65           0.70\n",
       "1           0.37            0.26         0.74           0.39"
      ]
     },
     "execution_count": 40,
     "metadata": {},
     "output_type": "execute_result"
    }
   ],
   "source": [
    "comparison_metric_df"
   ]
  },
  {
   "cell_type": "code",
   "execution_count": 41,
   "metadata": {},
   "outputs": [],
   "source": [
    "comparison_metric_df.rename(index={0:(f\"{best_model_name}: {best_model_param}\"), 1:'Baseline Model'}, inplace=True)"
   ]
  },
  {
   "cell_type": "code",
   "execution_count": 42,
   "metadata": {},
   "outputs": [
    {
     "data": {
      "text/html": [
       "<div>\n",
       "<style scoped>\n",
       "    .dataframe tbody tr th:only-of-type {\n",
       "        vertical-align: middle;\n",
       "    }\n",
       "\n",
       "    .dataframe tbody tr th {\n",
       "        vertical-align: top;\n",
       "    }\n",
       "\n",
       "    .dataframe thead th {\n",
       "        text-align: right;\n",
       "    }\n",
       "</style>\n",
       "<table border=\"1\" class=\"dataframe\">\n",
       "  <thead>\n",
       "    <tr style=\"text-align: right;\">\n",
       "      <th></th>\n",
       "      <th>Test Accuracy</th>\n",
       "      <th>Test Precision</th>\n",
       "      <th>Test Recall</th>\n",
       "      <th>Test F1-Score</th>\n",
       "    </tr>\n",
       "  </thead>\n",
       "  <tbody>\n",
       "    <tr>\n",
       "      <th>LogisticRegression: {'C': 10, 'penalty': 'l1', 'solver': 'liblinear'}</th>\n",
       "      <td>0.85</td>\n",
       "      <td>0.75</td>\n",
       "      <td>0.65</td>\n",
       "      <td>0.70</td>\n",
       "    </tr>\n",
       "    <tr>\n",
       "      <th>Baseline Model</th>\n",
       "      <td>0.37</td>\n",
       "      <td>0.26</td>\n",
       "      <td>0.74</td>\n",
       "      <td>0.39</td>\n",
       "    </tr>\n",
       "  </tbody>\n",
       "</table>\n",
       "</div>"
      ],
      "text/plain": [
       "                                                    Test Accuracy  \\\n",
       "LogisticRegression: {'C': 10, 'penalty': 'l1', ...           0.85   \n",
       "Baseline Model                                               0.37   \n",
       "\n",
       "                                                    Test Precision  \\\n",
       "LogisticRegression: {'C': 10, 'penalty': 'l1', ...            0.75   \n",
       "Baseline Model                                                0.26   \n",
       "\n",
       "                                                    Test Recall  Test F1-Score  \n",
       "LogisticRegression: {'C': 10, 'penalty': 'l1', ...         0.65           0.70  \n",
       "Baseline Model                                             0.74           0.39  "
      ]
     },
     "execution_count": 42,
     "metadata": {},
     "output_type": "execute_result"
    }
   ],
   "source": [
    "comparison_metric_df"
   ]
  }
 ],
 "metadata": {
  "kernelspec": {
   "display_name": "Python 3 (ipykernel)",
   "language": "python",
   "name": "python3"
  },
  "language_info": {
   "codemirror_mode": {
    "name": "ipython",
    "version": 3
   },
   "file_extension": ".py",
   "mimetype": "text/x-python",
   "name": "python",
   "nbconvert_exporter": "python",
   "pygments_lexer": "ipython3",
   "version": "3.10.12"
  }
 },
 "nbformat": 4,
 "nbformat_minor": 4
}
