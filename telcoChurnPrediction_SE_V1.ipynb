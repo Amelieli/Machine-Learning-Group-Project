{
 "cells": [
  {
   "cell_type": "markdown",
   "metadata": {},
   "source": [
    "# Import Libraries"
   ]
  },
  {
   "cell_type": "code",
   "execution_count": 1,
   "metadata": {},
   "outputs": [],
   "source": [
    "# Load general utilities\n",
    "# ----------------------\n",
    "import time\n",
    "import numpy as np\n",
    "import pandas as pd\n",
    "import seaborn as sns\n",
    "import matplotlib.pyplot as plt\n",
    "\n",
    "# Load sklearn utilities\n",
    "# ----------------------\n",
    "from sklearn import preprocessing\n",
    "from sklearn.preprocessing import StandardScaler\n",
    "from sklearn.calibration import calibration_curve\n",
    "from sklearn.model_selection import train_test_split\n",
    "from sklearn.model_selection import GridSearchCV, cross_val_score, StratifiedKFold\n",
    "from sklearn.metrics import accuracy_score, precision_score, recall_score, f1_score, roc_auc_score, roc_curve, confusion_matrix\n",
    "\n",
    "# Load classifiers\n",
    "# ----------------\n",
    "from sklearn.svm import SVC\n",
    "from sklearn.naive_bayes import GaussianNB\n",
    "from sklearn.tree import DecisionTreeClassifier\n",
    "from sklearn.neural_network import MLPClassifier\n",
    "from sklearn.linear_model import RidgeClassifier\n",
    "from sklearn.neighbors import KNeighborsClassifier\n",
    "from sklearn.linear_model import LogisticRegression\n",
    "from sklearn.ensemble import GradientBoostingClassifier\n",
    "from sklearn.tree import DecisionTreeClassifier, plot_tree\n",
    "from sklearn.ensemble import BaggingClassifier, RandomForestClassifier, GradientBoostingClassifier, AdaBoostClassifier\n",
    "\n",
    "# PyTorch Libraries\n",
    "# -----------------\n",
    "import torch\n",
    "import torch.nn as nn\n",
    "import torch.optim as optim\n",
    "from torch.utils.data import DataLoader, TensorDataset\n",
    "\n",
    "# Other Model Packages\n",
    "# --------------\n",
    "from xgboost import XGBClassifier\n",
    "from lightgbm import LGBMClassifier\n",
    "from imblearn.combine import SMOTEENN\n",
    "from catboost import CatBoostClassifier\n",
    "\n",
    "# Other Libraries\n",
    "# ---------------\n",
    "import plotly.express as px\n",
    "\n",
    "# ignore warning\n",
    "import warnings\n",
    "warnings.filterwarnings('ignore')"
   ]
  },
  {
   "cell_type": "markdown",
   "metadata": {},
   "source": [
    "# Load Telco Dataset"
   ]
  },
  {
   "cell_type": "code",
   "execution_count": 7,
   "metadata": {},
   "outputs": [],
   "source": [
    "filename = 'WA_Fn-UseC_-Telco-Customer-Churn.csv.xls'\n",
    "df = pd.read_csv(filename)"
   ]
  },
  {
   "cell_type": "code",
   "execution_count": 8,
   "metadata": {},
   "outputs": [
    {
     "data": {
      "text/html": [
       "<div>\n",
       "<style scoped>\n",
       "    .dataframe tbody tr th:only-of-type {\n",
       "        vertical-align: middle;\n",
       "    }\n",
       "\n",
       "    .dataframe tbody tr th {\n",
       "        vertical-align: top;\n",
       "    }\n",
       "\n",
       "    .dataframe thead th {\n",
       "        text-align: right;\n",
       "    }\n",
       "</style>\n",
       "<table border=\"1\" class=\"dataframe\">\n",
       "  <thead>\n",
       "    <tr style=\"text-align: right;\">\n",
       "      <th></th>\n",
       "      <th>customerID</th>\n",
       "      <th>gender</th>\n",
       "      <th>SeniorCitizen</th>\n",
       "      <th>Partner</th>\n",
       "      <th>Dependents</th>\n",
       "      <th>tenure</th>\n",
       "      <th>PhoneService</th>\n",
       "      <th>MultipleLines</th>\n",
       "      <th>InternetService</th>\n",
       "      <th>OnlineSecurity</th>\n",
       "      <th>...</th>\n",
       "      <th>DeviceProtection</th>\n",
       "      <th>TechSupport</th>\n",
       "      <th>StreamingTV</th>\n",
       "      <th>StreamingMovies</th>\n",
       "      <th>Contract</th>\n",
       "      <th>PaperlessBilling</th>\n",
       "      <th>PaymentMethod</th>\n",
       "      <th>MonthlyCharges</th>\n",
       "      <th>TotalCharges</th>\n",
       "      <th>Churn</th>\n",
       "    </tr>\n",
       "  </thead>\n",
       "  <tbody>\n",
       "    <tr>\n",
       "      <th>0</th>\n",
       "      <td>7590-VHVEG</td>\n",
       "      <td>Female</td>\n",
       "      <td>0</td>\n",
       "      <td>Yes</td>\n",
       "      <td>No</td>\n",
       "      <td>1</td>\n",
       "      <td>No</td>\n",
       "      <td>No phone service</td>\n",
       "      <td>DSL</td>\n",
       "      <td>No</td>\n",
       "      <td>...</td>\n",
       "      <td>No</td>\n",
       "      <td>No</td>\n",
       "      <td>No</td>\n",
       "      <td>No</td>\n",
       "      <td>Month-to-month</td>\n",
       "      <td>Yes</td>\n",
       "      <td>Electronic check</td>\n",
       "      <td>29.85</td>\n",
       "      <td>29.85</td>\n",
       "      <td>No</td>\n",
       "    </tr>\n",
       "    <tr>\n",
       "      <th>1</th>\n",
       "      <td>5575-GNVDE</td>\n",
       "      <td>Male</td>\n",
       "      <td>0</td>\n",
       "      <td>No</td>\n",
       "      <td>No</td>\n",
       "      <td>34</td>\n",
       "      <td>Yes</td>\n",
       "      <td>No</td>\n",
       "      <td>DSL</td>\n",
       "      <td>Yes</td>\n",
       "      <td>...</td>\n",
       "      <td>Yes</td>\n",
       "      <td>No</td>\n",
       "      <td>No</td>\n",
       "      <td>No</td>\n",
       "      <td>One year</td>\n",
       "      <td>No</td>\n",
       "      <td>Mailed check</td>\n",
       "      <td>56.95</td>\n",
       "      <td>1889.5</td>\n",
       "      <td>No</td>\n",
       "    </tr>\n",
       "    <tr>\n",
       "      <th>2</th>\n",
       "      <td>3668-QPYBK</td>\n",
       "      <td>Male</td>\n",
       "      <td>0</td>\n",
       "      <td>No</td>\n",
       "      <td>No</td>\n",
       "      <td>2</td>\n",
       "      <td>Yes</td>\n",
       "      <td>No</td>\n",
       "      <td>DSL</td>\n",
       "      <td>Yes</td>\n",
       "      <td>...</td>\n",
       "      <td>No</td>\n",
       "      <td>No</td>\n",
       "      <td>No</td>\n",
       "      <td>No</td>\n",
       "      <td>Month-to-month</td>\n",
       "      <td>Yes</td>\n",
       "      <td>Mailed check</td>\n",
       "      <td>53.85</td>\n",
       "      <td>108.15</td>\n",
       "      <td>Yes</td>\n",
       "    </tr>\n",
       "    <tr>\n",
       "      <th>3</th>\n",
       "      <td>7795-CFOCW</td>\n",
       "      <td>Male</td>\n",
       "      <td>0</td>\n",
       "      <td>No</td>\n",
       "      <td>No</td>\n",
       "      <td>45</td>\n",
       "      <td>No</td>\n",
       "      <td>No phone service</td>\n",
       "      <td>DSL</td>\n",
       "      <td>Yes</td>\n",
       "      <td>...</td>\n",
       "      <td>Yes</td>\n",
       "      <td>Yes</td>\n",
       "      <td>No</td>\n",
       "      <td>No</td>\n",
       "      <td>One year</td>\n",
       "      <td>No</td>\n",
       "      <td>Bank transfer (automatic)</td>\n",
       "      <td>42.30</td>\n",
       "      <td>1840.75</td>\n",
       "      <td>No</td>\n",
       "    </tr>\n",
       "    <tr>\n",
       "      <th>4</th>\n",
       "      <td>9237-HQITU</td>\n",
       "      <td>Female</td>\n",
       "      <td>0</td>\n",
       "      <td>No</td>\n",
       "      <td>No</td>\n",
       "      <td>2</td>\n",
       "      <td>Yes</td>\n",
       "      <td>No</td>\n",
       "      <td>Fiber optic</td>\n",
       "      <td>No</td>\n",
       "      <td>...</td>\n",
       "      <td>No</td>\n",
       "      <td>No</td>\n",
       "      <td>No</td>\n",
       "      <td>No</td>\n",
       "      <td>Month-to-month</td>\n",
       "      <td>Yes</td>\n",
       "      <td>Electronic check</td>\n",
       "      <td>70.70</td>\n",
       "      <td>151.65</td>\n",
       "      <td>Yes</td>\n",
       "    </tr>\n",
       "    <tr>\n",
       "      <th>...</th>\n",
       "      <td>...</td>\n",
       "      <td>...</td>\n",
       "      <td>...</td>\n",
       "      <td>...</td>\n",
       "      <td>...</td>\n",
       "      <td>...</td>\n",
       "      <td>...</td>\n",
       "      <td>...</td>\n",
       "      <td>...</td>\n",
       "      <td>...</td>\n",
       "      <td>...</td>\n",
       "      <td>...</td>\n",
       "      <td>...</td>\n",
       "      <td>...</td>\n",
       "      <td>...</td>\n",
       "      <td>...</td>\n",
       "      <td>...</td>\n",
       "      <td>...</td>\n",
       "      <td>...</td>\n",
       "      <td>...</td>\n",
       "      <td>...</td>\n",
       "    </tr>\n",
       "    <tr>\n",
       "      <th>7038</th>\n",
       "      <td>6840-RESVB</td>\n",
       "      <td>Male</td>\n",
       "      <td>0</td>\n",
       "      <td>Yes</td>\n",
       "      <td>Yes</td>\n",
       "      <td>24</td>\n",
       "      <td>Yes</td>\n",
       "      <td>Yes</td>\n",
       "      <td>DSL</td>\n",
       "      <td>Yes</td>\n",
       "      <td>...</td>\n",
       "      <td>Yes</td>\n",
       "      <td>Yes</td>\n",
       "      <td>Yes</td>\n",
       "      <td>Yes</td>\n",
       "      <td>One year</td>\n",
       "      <td>Yes</td>\n",
       "      <td>Mailed check</td>\n",
       "      <td>84.80</td>\n",
       "      <td>1990.5</td>\n",
       "      <td>No</td>\n",
       "    </tr>\n",
       "    <tr>\n",
       "      <th>7039</th>\n",
       "      <td>2234-XADUH</td>\n",
       "      <td>Female</td>\n",
       "      <td>0</td>\n",
       "      <td>Yes</td>\n",
       "      <td>Yes</td>\n",
       "      <td>72</td>\n",
       "      <td>Yes</td>\n",
       "      <td>Yes</td>\n",
       "      <td>Fiber optic</td>\n",
       "      <td>No</td>\n",
       "      <td>...</td>\n",
       "      <td>Yes</td>\n",
       "      <td>No</td>\n",
       "      <td>Yes</td>\n",
       "      <td>Yes</td>\n",
       "      <td>One year</td>\n",
       "      <td>Yes</td>\n",
       "      <td>Credit card (automatic)</td>\n",
       "      <td>103.20</td>\n",
       "      <td>7362.9</td>\n",
       "      <td>No</td>\n",
       "    </tr>\n",
       "    <tr>\n",
       "      <th>7040</th>\n",
       "      <td>4801-JZAZL</td>\n",
       "      <td>Female</td>\n",
       "      <td>0</td>\n",
       "      <td>Yes</td>\n",
       "      <td>Yes</td>\n",
       "      <td>11</td>\n",
       "      <td>No</td>\n",
       "      <td>No phone service</td>\n",
       "      <td>DSL</td>\n",
       "      <td>Yes</td>\n",
       "      <td>...</td>\n",
       "      <td>No</td>\n",
       "      <td>No</td>\n",
       "      <td>No</td>\n",
       "      <td>No</td>\n",
       "      <td>Month-to-month</td>\n",
       "      <td>Yes</td>\n",
       "      <td>Electronic check</td>\n",
       "      <td>29.60</td>\n",
       "      <td>346.45</td>\n",
       "      <td>No</td>\n",
       "    </tr>\n",
       "    <tr>\n",
       "      <th>7041</th>\n",
       "      <td>8361-LTMKD</td>\n",
       "      <td>Male</td>\n",
       "      <td>1</td>\n",
       "      <td>Yes</td>\n",
       "      <td>No</td>\n",
       "      <td>4</td>\n",
       "      <td>Yes</td>\n",
       "      <td>Yes</td>\n",
       "      <td>Fiber optic</td>\n",
       "      <td>No</td>\n",
       "      <td>...</td>\n",
       "      <td>No</td>\n",
       "      <td>No</td>\n",
       "      <td>No</td>\n",
       "      <td>No</td>\n",
       "      <td>Month-to-month</td>\n",
       "      <td>Yes</td>\n",
       "      <td>Mailed check</td>\n",
       "      <td>74.40</td>\n",
       "      <td>306.6</td>\n",
       "      <td>Yes</td>\n",
       "    </tr>\n",
       "    <tr>\n",
       "      <th>7042</th>\n",
       "      <td>3186-AJIEK</td>\n",
       "      <td>Male</td>\n",
       "      <td>0</td>\n",
       "      <td>No</td>\n",
       "      <td>No</td>\n",
       "      <td>66</td>\n",
       "      <td>Yes</td>\n",
       "      <td>No</td>\n",
       "      <td>Fiber optic</td>\n",
       "      <td>Yes</td>\n",
       "      <td>...</td>\n",
       "      <td>Yes</td>\n",
       "      <td>Yes</td>\n",
       "      <td>Yes</td>\n",
       "      <td>Yes</td>\n",
       "      <td>Two year</td>\n",
       "      <td>Yes</td>\n",
       "      <td>Bank transfer (automatic)</td>\n",
       "      <td>105.65</td>\n",
       "      <td>6844.5</td>\n",
       "      <td>No</td>\n",
       "    </tr>\n",
       "  </tbody>\n",
       "</table>\n",
       "<p>7043 rows × 21 columns</p>\n",
       "</div>"
      ],
      "text/plain": [
       "      customerID  gender  SeniorCitizen Partner Dependents  tenure  \\\n",
       "0     7590-VHVEG  Female              0     Yes         No       1   \n",
       "1     5575-GNVDE    Male              0      No         No      34   \n",
       "2     3668-QPYBK    Male              0      No         No       2   \n",
       "3     7795-CFOCW    Male              0      No         No      45   \n",
       "4     9237-HQITU  Female              0      No         No       2   \n",
       "...          ...     ...            ...     ...        ...     ...   \n",
       "7038  6840-RESVB    Male              0     Yes        Yes      24   \n",
       "7039  2234-XADUH  Female              0     Yes        Yes      72   \n",
       "7040  4801-JZAZL  Female              0     Yes        Yes      11   \n",
       "7041  8361-LTMKD    Male              1     Yes         No       4   \n",
       "7042  3186-AJIEK    Male              0      No         No      66   \n",
       "\n",
       "     PhoneService     MultipleLines InternetService OnlineSecurity  ...  \\\n",
       "0              No  No phone service             DSL             No  ...   \n",
       "1             Yes                No             DSL            Yes  ...   \n",
       "2             Yes                No             DSL            Yes  ...   \n",
       "3              No  No phone service             DSL            Yes  ...   \n",
       "4             Yes                No     Fiber optic             No  ...   \n",
       "...           ...               ...             ...            ...  ...   \n",
       "7038          Yes               Yes             DSL            Yes  ...   \n",
       "7039          Yes               Yes     Fiber optic             No  ...   \n",
       "7040           No  No phone service             DSL            Yes  ...   \n",
       "7041          Yes               Yes     Fiber optic             No  ...   \n",
       "7042          Yes                No     Fiber optic            Yes  ...   \n",
       "\n",
       "     DeviceProtection TechSupport StreamingTV StreamingMovies        Contract  \\\n",
       "0                  No          No          No              No  Month-to-month   \n",
       "1                 Yes          No          No              No        One year   \n",
       "2                  No          No          No              No  Month-to-month   \n",
       "3                 Yes         Yes          No              No        One year   \n",
       "4                  No          No          No              No  Month-to-month   \n",
       "...               ...         ...         ...             ...             ...   \n",
       "7038              Yes         Yes         Yes             Yes        One year   \n",
       "7039              Yes          No         Yes             Yes        One year   \n",
       "7040               No          No          No              No  Month-to-month   \n",
       "7041               No          No          No              No  Month-to-month   \n",
       "7042              Yes         Yes         Yes             Yes        Two year   \n",
       "\n",
       "     PaperlessBilling              PaymentMethod MonthlyCharges  TotalCharges  \\\n",
       "0                 Yes           Electronic check          29.85         29.85   \n",
       "1                  No               Mailed check          56.95        1889.5   \n",
       "2                 Yes               Mailed check          53.85        108.15   \n",
       "3                  No  Bank transfer (automatic)          42.30       1840.75   \n",
       "4                 Yes           Electronic check          70.70        151.65   \n",
       "...               ...                        ...            ...           ...   \n",
       "7038              Yes               Mailed check          84.80        1990.5   \n",
       "7039              Yes    Credit card (automatic)         103.20        7362.9   \n",
       "7040              Yes           Electronic check          29.60        346.45   \n",
       "7041              Yes               Mailed check          74.40         306.6   \n",
       "7042              Yes  Bank transfer (automatic)         105.65        6844.5   \n",
       "\n",
       "     Churn  \n",
       "0       No  \n",
       "1       No  \n",
       "2      Yes  \n",
       "3       No  \n",
       "4      Yes  \n",
       "...    ...  \n",
       "7038    No  \n",
       "7039    No  \n",
       "7040    No  \n",
       "7041   Yes  \n",
       "7042    No  \n",
       "\n",
       "[7043 rows x 21 columns]"
      ]
     },
     "execution_count": 8,
     "metadata": {},
     "output_type": "execute_result"
    }
   ],
   "source": [
    "df"
   ]
  },
  {
   "cell_type": "code",
   "execution_count": 2,
   "metadata": {},
   "outputs": [],
   "source": [
    "df2 = pd.read_csv('/Users/lixiaohua/Documents/MSBA/ML2/project/data/telco.csv')"
   ]
  },
  {
   "cell_type": "code",
   "execution_count": 11,
   "metadata": {},
   "outputs": [
    {
     "data": {
      "text/plain": [
       "Index(['customerID', 'gender', 'SeniorCitizen', 'Partner', 'Dependents',\n",
       "       'tenure', 'PhoneService', 'MultipleLines', 'InternetService',\n",
       "       'OnlineSecurity', 'OnlineBackup', 'DeviceProtection', 'TechSupport',\n",
       "       'StreamingTV', 'StreamingMovies', 'Contract', 'PaperlessBilling',\n",
       "       'PaymentMethod', 'MonthlyCharges', 'TotalCharges', 'Churn'],\n",
       "      dtype='object')"
      ]
     },
     "execution_count": 11,
     "metadata": {},
     "output_type": "execute_result"
    }
   ],
   "source": [
    "df.columns"
   ]
  },
  {
   "cell_type": "code",
   "execution_count": 4,
   "metadata": {},
   "outputs": [
    {
     "data": {
      "text/plain": [
       "Index(['Customer ID', 'Gender', 'Age', 'Under 30', 'Senior Citizen', 'Married',\n",
       "       'Dependents', 'Number of Dependents', 'Country', 'State', 'City',\n",
       "       'Zip Code', 'Latitude', 'Longitude', 'Population', 'Quarter',\n",
       "       'Referred a Friend', 'Number of Referrals', 'Tenure in Months', 'Offer',\n",
       "       'Phone Service', 'Avg Monthly Long Distance Charges', 'Multiple Lines',\n",
       "       'Internet Service', 'Internet Type', 'Avg Monthly GB Download',\n",
       "       'Online Security', 'Online Backup', 'Device Protection Plan',\n",
       "       'Premium Tech Support', 'Streaming TV', 'Streaming Movies',\n",
       "       'Streaming Music', 'Unlimited Data', 'Contract', 'Paperless Billing',\n",
       "       'Payment Method', 'Monthly Charge', 'Total Charges', 'Total Refunds',\n",
       "       'Total Extra Data Charges', 'Total Long Distance Charges',\n",
       "       'Total Revenue', 'Satisfaction Score', 'Customer Status', 'Churn Label',\n",
       "       'Churn Score', 'CLTV', 'Churn Category', 'Churn Reason'],\n",
       "      dtype='object')"
      ]
     },
     "execution_count": 4,
     "metadata": {},
     "output_type": "execute_result"
    }
   ],
   "source": [
    "df2.columns"
   ]
  },
  {
   "cell_type": "code",
   "execution_count": 26,
   "metadata": {},
   "outputs": [
    {
     "data": {
      "text/plain": [
       "Index(['Age', 'Avg Monthly GB Download', 'Avg Monthly Long Distance Charges',\n",
       "       'CLTV', 'Churn Category', 'Churn Label', 'Churn Reason', 'Churn Score',\n",
       "       'City', 'Country', 'Customer ID', 'Customer Status',\n",
       "       'Device Protection Plan', 'Gender', 'Internet Service', 'Internet Type',\n",
       "       'Latitude', 'Longitude', 'Married', 'Monthly Charge', 'Multiple Lines',\n",
       "       'Number of Dependents', 'Number of Referrals', 'Offer', 'Online Backup',\n",
       "       'Online Security', 'Paperless Billing', 'Payment Method',\n",
       "       'Phone Service', 'Population', 'Premium Tech Support', 'Quarter',\n",
       "       'Referred a Friend', 'Satisfaction Score', 'Senior Citizen', 'State',\n",
       "       'Streaming Movies', 'Streaming Music', 'Streaming TV',\n",
       "       'Tenure in Months', 'Total Charges', 'Total Extra Data Charges',\n",
       "       'Total Long Distance Charges', 'Total Refunds', 'Total Revenue',\n",
       "       'Under 30', 'Unlimited Data', 'Zip Code'],\n",
       "      dtype='object')"
      ]
     },
     "execution_count": 26,
     "metadata": {},
     "output_type": "execute_result"
    }
   ],
   "source": [
    "diff = df2.columns.difference(df.columns)\n",
    "diff"
   ]
  },
  {
   "cell_type": "code",
   "execution_count": 4,
   "metadata": {},
   "outputs": [
    {
     "name": "stdout",
     "output_type": "stream",
     "text": [
      "<class 'pandas.core.frame.DataFrame'>\n",
      "RangeIndex: 7043 entries, 0 to 7042\n",
      "Data columns (total 21 columns):\n",
      " #   Column            Non-Null Count  Dtype  \n",
      "---  ------            --------------  -----  \n",
      " 0   customerID        7043 non-null   object \n",
      " 1   gender            7043 non-null   object \n",
      " 2   SeniorCitizen     7043 non-null   int64  \n",
      " 3   Partner           7043 non-null   object \n",
      " 4   Dependents        7043 non-null   object \n",
      " 5   tenure            7043 non-null   int64  \n",
      " 6   PhoneService      7043 non-null   object \n",
      " 7   MultipleLines     7043 non-null   object \n",
      " 8   InternetService   7043 non-null   object \n",
      " 9   OnlineSecurity    7043 non-null   object \n",
      " 10  OnlineBackup      7043 non-null   object \n",
      " 11  DeviceProtection  7043 non-null   object \n",
      " 12  TechSupport       7043 non-null   object \n",
      " 13  StreamingTV       7043 non-null   object \n",
      " 14  StreamingMovies   7043 non-null   object \n",
      " 15  Contract          7043 non-null   object \n",
      " 16  PaperlessBilling  7043 non-null   object \n",
      " 17  PaymentMethod     7043 non-null   object \n",
      " 18  MonthlyCharges    7043 non-null   float64\n",
      " 19  TotalCharges      7043 non-null   object \n",
      " 20  Churn             7043 non-null   object \n",
      "dtypes: float64(1), int64(2), object(18)\n",
      "memory usage: 1.1+ MB\n"
     ]
    }
   ],
   "source": [
    "df.info()"
   ]
  },
  {
   "cell_type": "markdown",
   "metadata": {},
   "source": [
    "# Peform Exploratory Data Analysis (EDA)"
   ]
  },
  {
   "cell_type": "markdown",
   "metadata": {},
   "source": [
    "### Checking For Null Values"
   ]
  },
  {
   "cell_type": "code",
   "execution_count": 5,
   "metadata": {},
   "outputs": [
    {
     "data": {
      "text/html": [
       "<div>\n",
       "<style scoped>\n",
       "    .dataframe tbody tr th:only-of-type {\n",
       "        vertical-align: middle;\n",
       "    }\n",
       "\n",
       "    .dataframe tbody tr th {\n",
       "        vertical-align: top;\n",
       "    }\n",
       "\n",
       "    .dataframe thead th {\n",
       "        text-align: right;\n",
       "    }\n",
       "</style>\n",
       "<table border=\"1\" class=\"dataframe\">\n",
       "  <thead>\n",
       "    <tr style=\"text-align: right;\">\n",
       "      <th></th>\n",
       "      <th>Count</th>\n",
       "      <th>Total_Loans</th>\n",
       "      <th>Percent_Null</th>\n",
       "    </tr>\n",
       "  </thead>\n",
       "  <tbody>\n",
       "  </tbody>\n",
       "</table>\n",
       "</div>"
      ],
      "text/plain": [
       "Empty DataFrame\n",
       "Columns: [Count, Total_Loans, Percent_Null]\n",
       "Index: []"
      ]
     },
     "execution_count": 5,
     "metadata": {},
     "output_type": "execute_result"
    }
   ],
   "source": [
    "# Create a dataframe showing all null values in the df\n",
    "df_null = pd.DataFrame(\n",
    "    {'Count':df.isnull().sum(),\n",
    "     'Total_Loans':len(df),\n",
    "     'Percent_Null':100 * df.isnull().sum() / len(df)}\n",
    ")\n",
    "\n",
    "# Subset the df_null dataframe to only see columns that \n",
    "# contain null values\n",
    "df_null[df_null['Count'] > 0]"
   ]
  },
  {
   "cell_type": "markdown",
   "metadata": {},
   "source": [
    "There are no Null values which is fantastic!"
   ]
  },
  {
   "cell_type": "code",
   "execution_count": 25,
   "metadata": {},
   "outputs": [
    {
     "data": {
      "text/html": [
       "<div>\n",
       "<style scoped>\n",
       "    .dataframe tbody tr th:only-of-type {\n",
       "        vertical-align: middle;\n",
       "    }\n",
       "\n",
       "    .dataframe tbody tr th {\n",
       "        vertical-align: top;\n",
       "    }\n",
       "\n",
       "    .dataframe thead th {\n",
       "        text-align: right;\n",
       "    }\n",
       "</style>\n",
       "<table border=\"1\" class=\"dataframe\">\n",
       "  <thead>\n",
       "    <tr style=\"text-align: right;\">\n",
       "      <th></th>\n",
       "      <th>Count</th>\n",
       "      <th>target_dist</th>\n",
       "    </tr>\n",
       "    <tr>\n",
       "      <th>Churn</th>\n",
       "      <th></th>\n",
       "      <th></th>\n",
       "    </tr>\n",
       "  </thead>\n",
       "  <tbody>\n",
       "    <tr>\n",
       "      <th>No</th>\n",
       "      <td>5174</td>\n",
       "      <td>73.463013</td>\n",
       "    </tr>\n",
       "    <tr>\n",
       "      <th>Yes</th>\n",
       "      <td>1869</td>\n",
       "      <td>26.536987</td>\n",
       "    </tr>\n",
       "  </tbody>\n",
       "</table>\n",
       "</div>"
      ],
      "text/plain": [
       "       Count  target_dist\n",
       "Churn                    \n",
       "No      5174    73.463013\n",
       "Yes     1869    26.536987"
      ]
     },
     "execution_count": 25,
     "metadata": {},
     "output_type": "execute_result"
    }
   ],
   "source": [
    "df_target = pd.DataFrame(\n",
    "    {'Count':df['Churn'].value_counts(),\n",
    "     'target_dist': 100 * df['Churn'].value_counts(normalize=0) / len(df)}\n",
    ")\n",
    "df_target"
   ]
  },
  {
   "cell_type": "markdown",
   "metadata": {},
   "source": [
    "### Feature Engineering\n",
    "\n",
    "We'll inspect each feature individually, and do the following:\n",
    "\n",
    "- Drop the feature if it is not useful for predicting customer churn.\n",
    "- View summary statistics and visualize the data, plotting against the churn status.\n",
    "- Modify the feature to make it useful for modeling, if necessary."
   ]
  },
  {
   "cell_type": "code",
   "execution_count": 6,
   "metadata": {},
   "outputs": [],
   "source": [
    "def plot_var(col_name, full_name, continuous):\n",
    "    \"\"\"\n",
    "    Visualize a variable with and without faceting on the Churn status.\n",
    "    - col_name is the variable name in the dataframe\n",
    "    - full_name is the full variable name\n",
    "    - continuous is True if the variable is continuous, False otherwise\n",
    "    \"\"\"\n",
    "    f, (ax1, ax2) = plt.subplots(nrows=1, ncols=2, figsize=(12,3), dpi=90)\n",
    "    \n",
    "    # Plot without churn status\n",
    "    if continuous:\n",
    "        sns.histplot(df.loc[df[col_name].notnull(), col_name], kde=False, ax=ax1)\n",
    "    else:\n",
    "        sns.countplot(df[col_name], order=sorted(df[col_name].unique()), color='#5975A4', saturation=1, ax=ax1)\n",
    "    ax1.set_xlabel(full_name)\n",
    "    ax1.set_ylabel('Count')\n",
    "    ax1.set_title(full_name)\n",
    "\n",
    "    # Plot with churn status\n",
    "    if continuous:\n",
    "        sns.boxplot(x=col_name, y='Churn', data=df, ax=ax2)\n",
    "        ax2.set_ylabel('')\n",
    "        ax2.set_title(full_name + ' by Churn Status')\n",
    "    else:\n",
    "        churn_rates = df.groupby(col_name)['Churn'].value_counts(normalize=True).loc[:, 'Yes']\n",
    "        sns.barplot(x=churn_rates.index, y=churn_rates.values, color='#5975A4', saturation=1, ax=ax2)\n",
    "        ax2.set_ylabel('Churn Rate')\n",
    "        ax2.set_title('Churn Rate by ' + full_name)\n",
    "    ax2.set_xlabel(full_name)\n",
    "    \n",
    "    plt.tight_layout()"
   ]
  },
  {
   "cell_type": "markdown",
   "metadata": {},
   "source": [
    "#### 1. gender\n",
    "\n",
    "- Yes: Indicates that the customer is a Male\n",
    "- No: Indicates that the customer is a Female"
   ]
  },
  {
   "cell_type": "code",
   "execution_count": 7,
   "metadata": {},
   "outputs": [
    {
     "data": {
      "text/plain": [
       "gender\n",
       "Male      3555\n",
       "Female    3488\n",
       "Name: count, dtype: int64"
      ]
     },
     "execution_count": 7,
     "metadata": {},
     "output_type": "execute_result"
    }
   ],
   "source": [
    "df['gender'].value_counts(normalize=False)"
   ]
  },
  {
   "cell_type": "code",
   "execution_count": 8,
   "metadata": {},
   "outputs": [
    {
     "data": {
      "image/png": "[encoded data removed]",
      "text/plain": [
       "<Figure size 1080x270 with 2 Axes>"
      ]
     },
     "metadata": {},
     "output_type": "display_data"
    }
   ],
   "source": [
    "plot_var(col_name='gender', full_name='Gender', continuous=False)"
   ]
  },
  {
   "cell_type": "code",
   "execution_count": 9,
   "metadata": {},
   "outputs": [
    {
     "data": {
      "text/plain": [
       "gender  Churn\n",
       "Female  No       0.730791\n",
       "        Yes      0.269209\n",
       "Male    No       0.738397\n",
       "        Yes      0.261603\n",
       "Name: proportion, dtype: float64"
      ]
     },
     "execution_count": 9,
     "metadata": {},
     "output_type": "execute_result"
    }
   ],
   "source": [
    "df.groupby('gender')['Churn'].value_counts(normalize=True)"
   ]
  },
  {
   "cell_type": "markdown",
   "metadata": {},
   "source": [
    "It appears that the gender column is fairly balanced among genders. I don't see any disparities that exist."
   ]
  },
  {
   "cell_type": "markdown",
   "metadata": {},
   "source": [
    "#### 2. SeniorCitizen\n",
    "\n",
    "- 0: Represents that customer is not a senior citizen\n",
    "- 1: Represents that customer is a senior citizen"
   ]
  },
  {
   "cell_type": "code",
   "execution_count": 10,
   "metadata": {},
   "outputs": [
    {
     "data": {
      "text/plain": [
       "SeniorCitizen\n",
       "0    0.837853\n",
       "1    0.162147\n",
       "Name: proportion, dtype: float64"
      ]
     },
     "execution_count": 10,
     "metadata": {},
     "output_type": "execute_result"
    }
   ],
   "source": [
    "df['SeniorCitizen'].value_counts(normalize=True)"
   ]
  },
  {
   "cell_type": "markdown",
   "metadata": {},
   "source": [
    "The data type is integer which may cause some issues with the variable plots. Let's convert this into a boolean."
   ]
  },
  {
   "cell_type": "code",
   "execution_count": 11,
   "metadata": {},
   "outputs": [],
   "source": [
    "df['SeniorCitizen'] = np.where(df['SeniorCitizen'] == 1, \"Senior_Citizen\", 'Not_Senior_Citizen')"
   ]
  },
  {
   "cell_type": "code",
   "execution_count": 12,
   "metadata": {},
   "outputs": [
    {
     "data": {
      "image/png": "[encoded data removed]",
      "text/plain": [
       "<Figure size 1080x270 with 2 Axes>"
      ]
     },
     "metadata": {},
     "output_type": "display_data"
    }
   ],
   "source": [
    "plot_var(col_name='SeniorCitizen', full_name=\"Senior Citizen\", continuous=False)"
   ]
  },
  {
   "cell_type": "code",
   "execution_count": 13,
   "metadata": {},
   "outputs": [
    {
     "data": {
      "text/plain": [
       "SeniorCitizen       Churn\n",
       "Not_Senior_Citizen  No       0.763938\n",
       "                    Yes      0.236062\n",
       "Senior_Citizen      No       0.583187\n",
       "                    Yes      0.416813\n",
       "Name: proportion, dtype: float64"
      ]
     },
     "execution_count": 13,
     "metadata": {},
     "output_type": "execute_result"
    }
   ],
   "source": [
    "df.groupby('SeniorCitizen')['Churn'].value_counts(normalize=True)"
   ]
  },
  {
   "cell_type": "markdown",
   "metadata": {},
   "source": [
    "The SeniorCitizen frequencies are quite imbalanced which may cause our models to predict better churn rates on non senior citizen. \n",
    "\n",
    "**Note**: The churn rate also increases with Senior Citizens; however, this could simply be due to less sample size causing the senior citizens that do cancel to take up a larger amount proportionally to the whole. "
   ]
  },
  {
   "cell_type": "markdown",
   "metadata": {},
   "source": [
    "#### 3. Partner\n",
    "\n",
    "- Yes: Represents that the customer has a partner\n",
    "- No: Represents that the customer is single"
   ]
  },
  {
   "cell_type": "code",
   "execution_count": 14,
   "metadata": {},
   "outputs": [
    {
     "data": {
      "text/plain": [
       "Partner\n",
       "No     3641\n",
       "Yes    3402\n",
       "Name: count, dtype: int64"
      ]
     },
     "execution_count": 14,
     "metadata": {},
     "output_type": "execute_result"
    }
   ],
   "source": [
    "df['Partner'].value_counts()"
   ]
  },
  {
   "cell_type": "code",
   "execution_count": 15,
   "metadata": {},
   "outputs": [
    {
     "data": {
      "image/png": "[encoded data removed]",
      "text/plain": [
       "<Figure size 1080x270 with 2 Axes>"
      ]
     },
     "metadata": {},
     "output_type": "display_data"
    }
   ],
   "source": [
    "plot_var('Partner', 'Partner', False)"
   ]
  },
  {
   "cell_type": "code",
   "execution_count": 16,
   "metadata": {},
   "outputs": [
    {
     "data": {
      "text/plain": [
       "Partner  Churn\n",
       "No       No       0.670420\n",
       "         Yes      0.329580\n",
       "Yes      No       0.803351\n",
       "         Yes      0.196649\n",
       "Name: proportion, dtype: float64"
      ]
     },
     "execution_count": 16,
     "metadata": {},
     "output_type": "execute_result"
    }
   ],
   "source": [
    "df.groupby('Partner')['Churn'].value_counts(normalize=True)"
   ]
  },
  {
   "cell_type": "markdown",
   "metadata": {},
   "source": [
    "We can see that those who are single tend to churn more often than those without a partner."
   ]
  },
  {
   "cell_type": "markdown",
   "metadata": {},
   "source": [
    "#### 4. Dependents\n",
    "\n",
    "- Yes: Represents customers who have dependents\n",
    "- No: Represents customers who do not have dependents"
   ]
  },
  {
   "cell_type": "code",
   "execution_count": 17,
   "metadata": {},
   "outputs": [
    {
     "data": {
      "text/plain": [
       "Dependents\n",
       "No     4933\n",
       "Yes    2110\n",
       "Name: count, dtype: int64"
      ]
     },
     "execution_count": 17,
     "metadata": {},
     "output_type": "execute_result"
    }
   ],
   "source": [
    "df['Dependents'].value_counts()"
   ]
  },
  {
   "cell_type": "code",
   "execution_count": 18,
   "metadata": {},
   "outputs": [
    {
     "data": {
      "image/png": "[encoded data removed]",
      "text/plain": [
       "<Figure size 1080x270 with 2 Axes>"
      ]
     },
     "metadata": {},
     "output_type": "display_data"
    }
   ],
   "source": [
    "plot_var('Dependents', 'Dependents', False)"
   ]
  },
  {
   "cell_type": "code",
   "execution_count": 19,
   "metadata": {},
   "outputs": [
    {
     "data": {
      "text/plain": [
       "Dependents  Churn\n",
       "No          No       0.687209\n",
       "            Yes      0.312791\n",
       "Yes         No       0.845498\n",
       "            Yes      0.154502\n",
       "Name: proportion, dtype: float64"
      ]
     },
     "execution_count": 19,
     "metadata": {},
     "output_type": "execute_result"
    }
   ],
   "source": [
    "df.groupby('Dependents')['Churn'].value_counts(normalize=True)"
   ]
  },
  {
   "cell_type": "markdown",
   "metadata": {},
   "source": [
    "We can see that churn rates tend to be higher for customers without dependents. "
   ]
  },
  {
   "cell_type": "markdown",
   "metadata": {},
   "source": [
    "#### 5. tenure\n",
    "\n",
    "Number of months the customer has stayed with the company"
   ]
  },
  {
   "cell_type": "code",
   "execution_count": 20,
   "metadata": {},
   "outputs": [
    {
     "data": {
      "image/png": "[encoded data removed]",
      "text/plain": [
       "<Figure size 1080x270 with 2 Axes>"
      ]
     },
     "metadata": {},
     "output_type": "display_data"
    }
   ],
   "source": [
    "plot_var('tenure', 'Tenure', True)"
   ]
  },
  {
   "cell_type": "code",
   "execution_count": 21,
   "metadata": {},
   "outputs": [
    {
     "data": {
      "text/html": [
       "<div>\n",
       "<style scoped>\n",
       "    .dataframe tbody tr th:only-of-type {\n",
       "        vertical-align: middle;\n",
       "    }\n",
       "\n",
       "    .dataframe tbody tr th {\n",
       "        vertical-align: top;\n",
       "    }\n",
       "\n",
       "    .dataframe thead th {\n",
       "        text-align: right;\n",
       "    }\n",
       "</style>\n",
       "<table border=\"1\" class=\"dataframe\">\n",
       "  <thead>\n",
       "    <tr style=\"text-align: right;\">\n",
       "      <th></th>\n",
       "      <th>count</th>\n",
       "      <th>mean</th>\n",
       "      <th>std</th>\n",
       "      <th>min</th>\n",
       "      <th>25%</th>\n",
       "      <th>50%</th>\n",
       "      <th>75%</th>\n",
       "      <th>max</th>\n",
       "    </tr>\n",
       "    <tr>\n",
       "      <th>Churn</th>\n",
       "      <th></th>\n",
       "      <th></th>\n",
       "      <th></th>\n",
       "      <th></th>\n",
       "      <th></th>\n",
       "      <th></th>\n",
       "      <th></th>\n",
       "      <th></th>\n",
       "    </tr>\n",
       "  </thead>\n",
       "  <tbody>\n",
       "    <tr>\n",
       "      <th>No</th>\n",
       "      <td>5174.0</td>\n",
       "      <td>37.569965</td>\n",
       "      <td>24.113777</td>\n",
       "      <td>0.0</td>\n",
       "      <td>15.0</td>\n",
       "      <td>38.0</td>\n",
       "      <td>61.0</td>\n",
       "      <td>72.0</td>\n",
       "    </tr>\n",
       "    <tr>\n",
       "      <th>Yes</th>\n",
       "      <td>1869.0</td>\n",
       "      <td>17.979133</td>\n",
       "      <td>19.531123</td>\n",
       "      <td>1.0</td>\n",
       "      <td>2.0</td>\n",
       "      <td>10.0</td>\n",
       "      <td>29.0</td>\n",
       "      <td>72.0</td>\n",
       "    </tr>\n",
       "  </tbody>\n",
       "</table>\n",
       "</div>"
      ],
      "text/plain": [
       "        count       mean        std  min   25%   50%   75%   max\n",
       "Churn                                                           \n",
       "No     5174.0  37.569965  24.113777  0.0  15.0  38.0  61.0  72.0\n",
       "Yes    1869.0  17.979133  19.531123  1.0   2.0  10.0  29.0  72.0"
      ]
     },
     "execution_count": 21,
     "metadata": {},
     "output_type": "execute_result"
    }
   ],
   "source": [
    "df.groupby('Churn')['tenure'].describe()"
   ]
  },
  {
   "cell_type": "markdown",
   "metadata": {},
   "source": [
    "As can be seen from the above charts, customers that have stayed with Telco longer tend not to churn. This is very intuitive and the data proves this. "
   ]
  },
  {
   "cell_type": "markdown",
   "metadata": {},
   "source": [
    "#### 6. PhoneService\n",
    "\n",
    "- Yes: Represents that the customer has a phone service.\n",
    "- No: Represents that the customer does not have a phone service. "
   ]
  },
  {
   "cell_type": "code",
   "execution_count": 22,
   "metadata": {},
   "outputs": [
    {
     "data": {
      "text/plain": [
       "PhoneService\n",
       "Yes    6361\n",
       "No      682\n",
       "Name: count, dtype: int64"
      ]
     },
     "execution_count": 22,
     "metadata": {},
     "output_type": "execute_result"
    }
   ],
   "source": [
    "df['PhoneService'].value_counts()"
   ]
  },
  {
   "cell_type": "code",
   "execution_count": 23,
   "metadata": {},
   "outputs": [
    {
     "data": {
      "image/png": "[encoded data removed]",
      "text/plain": [
       "<Figure size 1080x270 with 2 Axes>"
      ]
     },
     "metadata": {},
     "output_type": "display_data"
    }
   ],
   "source": [
    "plot_var('PhoneService', 'Phone Service', False)"
   ]
  },
  {
   "cell_type": "code",
   "execution_count": 24,
   "metadata": {},
   "outputs": [
    {
     "data": {
      "text/plain": [
       "PhoneService  Churn\n",
       "No            No       0.750733\n",
       "              Yes      0.249267\n",
       "Yes           No       0.732904\n",
       "              Yes      0.267096\n",
       "Name: proportion, dtype: float64"
      ]
     },
     "execution_count": 24,
     "metadata": {},
     "output_type": "execute_result"
    }
   ],
   "source": [
    "df.groupby('PhoneService')['Churn'].value_counts(normalize=True)"
   ]
  },
  {
   "cell_type": "markdown",
   "metadata": {},
   "source": [
    "We can see that the churn rate by phone service is pretty equal. This means that, at first glance, this doesn't necessarily help us predict churn. \n",
    "\n",
    "**Note**: The frequency of customers that have a phone service far outweigh those that do. This is a really imbalanced feature. "
   ]
  },
  {
   "cell_type": "markdown",
   "metadata": {},
   "source": [
    "#### 7. MultipleLines\n",
    "\n",
    "- Yes: Represents that the customer has multiple phone lines\n",
    "- No: Represents that the customer does not have multiple phone lines\n",
    "- No phone service: Represents that the customer does not have any phone services"
   ]
  },
  {
   "cell_type": "code",
   "execution_count": 25,
   "metadata": {},
   "outputs": [
    {
     "data": {
      "text/plain": [
       "MultipleLines\n",
       "No                  3390\n",
       "Yes                 2971\n",
       "No phone service     682\n",
       "Name: count, dtype: int64"
      ]
     },
     "execution_count": 25,
     "metadata": {},
     "output_type": "execute_result"
    }
   ],
   "source": [
    "df['MultipleLines'].value_counts()"
   ]
  },
  {
   "cell_type": "code",
   "execution_count": 26,
   "metadata": {},
   "outputs": [
    {
     "data": {
      "image/png": "[encoded data removed]",
      "text/plain": [
       "<Figure size 1080x270 with 2 Axes>"
      ]
     },
     "metadata": {},
     "output_type": "display_data"
    }
   ],
   "source": [
    "plot_var('MultipleLines', 'Multiple Lines', False)"
   ]
  },
  {
   "cell_type": "code",
   "execution_count": 27,
   "metadata": {},
   "outputs": [
    {
     "data": {
      "text/plain": [
       "MultipleLines     Churn\n",
       "No                No       0.749558\n",
       "                  Yes      0.250442\n",
       "No phone service  No       0.750733\n",
       "                  Yes      0.249267\n",
       "Yes               No       0.713901\n",
       "                  Yes      0.286099\n",
       "Name: proportion, dtype: float64"
      ]
     },
     "execution_count": 27,
     "metadata": {},
     "output_type": "execute_result"
    }
   ],
   "source": [
    "df.groupby('MultipleLines')['Churn'].value_counts(normalize=True)"
   ]
  },
  {
   "cell_type": "markdown",
   "metadata": {},
   "source": [
    "The frequency of churn is fairly equal amongst all possible values within MultipleLines. \n",
    "\n",
    "**Note**: The frequency of \"No Phone Service\" customers seems to be very small compared to the other two categories. We could consider transforming this variable into \"No\" for MultipleLines becuase it would mean something very simlilar. "
   ]
  },
  {
   "cell_type": "markdown",
   "metadata": {},
   "source": [
    "#### 8. InternetService\n",
    "\n",
    "- DSL: Represents a customer who is using a Digital Subscriber Line\n",
    "- Fiber optic: Represents a customer who is using Fiber Optic service\n",
    "- No: Represents customers who do not use the Internet Service"
   ]
  },
  {
   "cell_type": "code",
   "execution_count": 28,
   "metadata": {},
   "outputs": [
    {
     "data": {
      "text/plain": [
       "InternetService\n",
       "Fiber optic    3096\n",
       "DSL            2421\n",
       "No             1526\n",
       "Name: count, dtype: int64"
      ]
     },
     "execution_count": 28,
     "metadata": {},
     "output_type": "execute_result"
    }
   ],
   "source": [
    "df['InternetService'].value_counts()"
   ]
  },
  {
   "cell_type": "code",
   "execution_count": 29,
   "metadata": {},
   "outputs": [
    {
     "data": {
      "image/png": "[encoded data removed]",
      "text/plain": [
       "<Figure size 1080x270 with 2 Axes>"
      ]
     },
     "metadata": {},
     "output_type": "display_data"
    }
   ],
   "source": [
    "plot_var('InternetService', 'Internet Service', False)"
   ]
  },
  {
   "cell_type": "code",
   "execution_count": 30,
   "metadata": {},
   "outputs": [
    {
     "data": {
      "text/plain": [
       "InternetService  Churn\n",
       "DSL              No       0.810409\n",
       "                 Yes      0.189591\n",
       "Fiber optic      No       0.581072\n",
       "                 Yes      0.418928\n",
       "No               No       0.925950\n",
       "                 Yes      0.074050\n",
       "Name: proportion, dtype: float64"
      ]
     },
     "execution_count": 30,
     "metadata": {},
     "output_type": "execute_result"
    }
   ],
   "source": [
    "df.groupby('InternetService')['Churn'].value_counts(normalize=True)"
   ]
  },
  {
   "cell_type": "markdown",
   "metadata": {},
   "source": [
    "The customers that use Fiber optic services tend to churn a lot more than those that do not. This could be very intersting and maybe customers are not satisifed with the fiber optic service that is provided. "
   ]
  },
  {
   "cell_type": "markdown",
   "metadata": {},
   "source": [
    "#### 9. OnlineSecurity\n",
    "\n",
    "- Yes: The customer uses the Online Security Service\n",
    "- No: The customer does ust the Online Security Service\n",
    "- No internet service: The customer does not even use the internet service. "
   ]
  },
  {
   "cell_type": "code",
   "execution_count": 31,
   "metadata": {},
   "outputs": [
    {
     "data": {
      "text/plain": [
       "OnlineSecurity\n",
       "No                     3498\n",
       "Yes                    2019\n",
       "No internet service    1526\n",
       "Name: count, dtype: int64"
      ]
     },
     "execution_count": 31,
     "metadata": {},
     "output_type": "execute_result"
    }
   ],
   "source": [
    "df['OnlineSecurity'].value_counts()"
   ]
  },
  {
   "cell_type": "code",
   "execution_count": 32,
   "metadata": {},
   "outputs": [
    {
     "data": {
      "image/png": "[encoded data removed]",
      "text/plain": [
       "<Figure size 1080x270 with 2 Axes>"
      ]
     },
     "metadata": {},
     "output_type": "display_data"
    }
   ],
   "source": [
    "plot_var('OnlineSecurity', 'Online Securrity', False)"
   ]
  },
  {
   "cell_type": "code",
   "execution_count": 33,
   "metadata": {},
   "outputs": [
    {
     "data": {
      "text/plain": [
       "OnlineSecurity       Churn\n",
       "No                   No       0.582333\n",
       "                     Yes      0.417667\n",
       "No internet service  No       0.925950\n",
       "                     Yes      0.074050\n",
       "Yes                  No       0.853888\n",
       "                     Yes      0.146112\n",
       "Name: proportion, dtype: float64"
      ]
     },
     "execution_count": 33,
     "metadata": {},
     "output_type": "execute_result"
    }
   ],
   "source": [
    "df.groupby('OnlineSecurity')['Churn'].value_counts(normalize=True)"
   ]
  },
  {
   "cell_type": "markdown",
   "metadata": {},
   "source": [
    "It appears that customers who do not use the online security service tend to chrun more than the other categories. "
   ]
  },
  {
   "cell_type": "markdown",
   "metadata": {},
   "source": [
    "#### 10. OnlineBackup\n",
    "\n",
    "- No: Represents customers who do not have Online Backup\n",
    "- Yes: Represents customers who do have an Online Backup\n",
    "- No internet service: Represents customers who do have any internet at all"
   ]
  },
  {
   "cell_type": "code",
   "execution_count": 34,
   "metadata": {},
   "outputs": [
    {
     "data": {
      "text/plain": [
       "OnlineBackup\n",
       "No                     3088\n",
       "Yes                    2429\n",
       "No internet service    1526\n",
       "Name: count, dtype: int64"
      ]
     },
     "execution_count": 34,
     "metadata": {},
     "output_type": "execute_result"
    }
   ],
   "source": [
    "df['OnlineBackup'].value_counts()"
   ]
  },
  {
   "cell_type": "code",
   "execution_count": 35,
   "metadata": {},
   "outputs": [
    {
     "data": {
      "image/png": "[encoded data removed]",
      "text/plain": [
       "<Figure size 1080x270 with 2 Axes>"
      ]
     },
     "metadata": {},
     "output_type": "display_data"
    }
   ],
   "source": [
    "plot_var('OnlineBackup', 'Online Backup', False)"
   ]
  },
  {
   "cell_type": "code",
   "execution_count": 36,
   "metadata": {},
   "outputs": [
    {
     "data": {
      "text/plain": [
       "OnlineBackup         Churn\n",
       "No                   No       0.600712\n",
       "                     Yes      0.399288\n",
       "No internet service  No       0.925950\n",
       "                     Yes      0.074050\n",
       "Yes                  No       0.784685\n",
       "                     Yes      0.215315\n",
       "Name: proportion, dtype: float64"
      ]
     },
     "execution_count": 36,
     "metadata": {},
     "output_type": "execute_result"
    }
   ],
   "source": [
    "df.groupby('OnlineBackup')['Churn'].value_counts(normalize=True)"
   ]
  },
  {
   "cell_type": "markdown",
   "metadata": {},
   "source": [
    "Customers who have internet but do not have an online back up tend to churn more than the alternatives. "
   ]
  },
  {
   "cell_type": "markdown",
   "metadata": {},
   "source": [
    "#### 11. DeviceProtection\n",
    "\n",
    "- Yes: Represents customers that have have device protection\n",
    "- No: Represents customers that do not have device protection\n",
    "- No internet service: Represents customers who do not have internet services"
   ]
  },
  {
   "cell_type": "code",
   "execution_count": 37,
   "metadata": {},
   "outputs": [
    {
     "data": {
      "text/plain": [
       "DeviceProtection\n",
       "No                     3095\n",
       "Yes                    2422\n",
       "No internet service    1526\n",
       "Name: count, dtype: int64"
      ]
     },
     "execution_count": 37,
     "metadata": {},
     "output_type": "execute_result"
    }
   ],
   "source": [
    "df['DeviceProtection'].value_counts()"
   ]
  },
  {
   "cell_type": "code",
   "execution_count": 38,
   "metadata": {},
   "outputs": [
    {
     "data": {
      "image/png": "[encoded data removed]",
      "text/plain": [
       "<Figure size 1080x270 with 2 Axes>"
      ]
     },
     "metadata": {},
     "output_type": "display_data"
    }
   ],
   "source": [
    "plot_var('DeviceProtection', 'Device Protection', False)"
   ]
  },
  {
   "cell_type": "code",
   "execution_count": 39,
   "metadata": {},
   "outputs": [
    {
     "data": {
      "text/plain": [
       "DeviceProtection     Churn\n",
       "No                   No       0.608724\n",
       "                     Yes      0.391276\n",
       "No internet service  No       0.925950\n",
       "                     Yes      0.074050\n",
       "Yes                  No       0.774979\n",
       "                     Yes      0.225021\n",
       "Name: proportion, dtype: float64"
      ]
     },
     "execution_count": 39,
     "metadata": {},
     "output_type": "execute_result"
    }
   ],
   "source": [
    "df.groupby('DeviceProtection')['Churn'].value_counts(normalize=True)"
   ]
  },
  {
   "cell_type": "markdown",
   "metadata": {},
   "source": [
    "We can see that customers who do have internet service, but no device protection tend to churn more than the alternatives. "
   ]
  },
  {
   "cell_type": "markdown",
   "metadata": {},
   "source": [
    "#### 12. TechSupport\n",
    "\n",
    "- Yes: Customers who have tech support services\n",
    "- No: Customers who do not have tech support services\n",
    "- No internet service: Customers who do not have any internet service"
   ]
  },
  {
   "cell_type": "code",
   "execution_count": 40,
   "metadata": {},
   "outputs": [
    {
     "data": {
      "text/plain": [
       "TechSupport\n",
       "No                     3473\n",
       "Yes                    2044\n",
       "No internet service    1526\n",
       "Name: count, dtype: int64"
      ]
     },
     "execution_count": 40,
     "metadata": {},
     "output_type": "execute_result"
    }
   ],
   "source": [
    "df['TechSupport'].value_counts()"
   ]
  },
  {
   "cell_type": "code",
   "execution_count": 41,
   "metadata": {},
   "outputs": [
    {
     "data": {
      "image/png": "[encoded data removed]",
      "text/plain": [
       "<Figure size 1080x270 with 2 Axes>"
      ]
     },
     "metadata": {},
     "output_type": "display_data"
    }
   ],
   "source": [
    "plot_var('TechSupport', 'Tech Support', False)"
   ]
  },
  {
   "cell_type": "code",
   "execution_count": 42,
   "metadata": {},
   "outputs": [
    {
     "data": {
      "text/plain": [
       "TechSupport          Churn\n",
       "No                   No       0.583645\n",
       "                     Yes      0.416355\n",
       "No internet service  No       0.925950\n",
       "                     Yes      0.074050\n",
       "Yes                  No       0.848337\n",
       "                     Yes      0.151663\n",
       "Name: proportion, dtype: float64"
      ]
     },
     "execution_count": 42,
     "metadata": {},
     "output_type": "execute_result"
    }
   ],
   "source": [
    "df.groupby('TechSupport')['Churn'].value_counts(normalize=True)"
   ]
  },
  {
   "cell_type": "markdown",
   "metadata": {},
   "source": [
    "We can see that customers who have internet service, but no tech support services tend to churn more than the alternatives. "
   ]
  },
  {
   "cell_type": "markdown",
   "metadata": {},
   "source": [
    "#### 13. StreamingTV\n",
    "\n",
    "- Yes: Customers who have Streaming TV services\n",
    "- No: Customers who do not have Streaming TV services\n",
    "- No internet service: Customers who do not have any internet services"
   ]
  },
  {
   "cell_type": "code",
   "execution_count": 43,
   "metadata": {},
   "outputs": [
    {
     "data": {
      "text/plain": [
       "StreamingTV\n",
       "No                     2810\n",
       "Yes                    2707\n",
       "No internet service    1526\n",
       "Name: count, dtype: int64"
      ]
     },
     "execution_count": 43,
     "metadata": {},
     "output_type": "execute_result"
    }
   ],
   "source": [
    "df['StreamingTV'].value_counts()"
   ]
  },
  {
   "cell_type": "code",
   "execution_count": 44,
   "metadata": {},
   "outputs": [
    {
     "data": {
      "image/png": "[encoded data removed]",
      "text/plain": [
       "<Figure size 1080x270 with 2 Axes>"
      ]
     },
     "metadata": {},
     "output_type": "display_data"
    }
   ],
   "source": [
    "plot_var('StreamingTV', 'Streaming TV Services', False)"
   ]
  },
  {
   "cell_type": "code",
   "execution_count": 45,
   "metadata": {},
   "outputs": [
    {
     "data": {
      "text/plain": [
       "StreamingTV          Churn\n",
       "No                   No       0.664769\n",
       "                     Yes      0.335231\n",
       "No internet service  No       0.925950\n",
       "                     Yes      0.074050\n",
       "Yes                  No       0.699298\n",
       "                     Yes      0.300702\n",
       "Name: proportion, dtype: float64"
      ]
     },
     "execution_count": 45,
     "metadata": {},
     "output_type": "execute_result"
    }
   ],
   "source": [
    "df.groupby('StreamingTV')['Churn'].value_counts(normalize=True)"
   ]
  },
  {
   "cell_type": "markdown",
   "metadata": {},
   "source": [
    "We can see that customers who have internet services along with Streaming TV services tned to churn more often than customers who do not have internet services. This could mean that the internet services provided are of poor quality or too expensive compared to competitors. "
   ]
  },
  {
   "cell_type": "markdown",
   "metadata": {},
   "source": [
    "#### 14. StreamingMovies\n",
    "\n",
    "- Yes: Represents customers who have Streaming Movie services\n",
    "- No: Represents customers who do not have Streaming Movie services\n",
    "- No internet service: Represents customers who do not have any internet service"
   ]
  },
  {
   "cell_type": "code",
   "execution_count": 46,
   "metadata": {},
   "outputs": [
    {
     "data": {
      "text/plain": [
       "StreamingMovies\n",
       "No                     2785\n",
       "Yes                    2732\n",
       "No internet service    1526\n",
       "Name: count, dtype: int64"
      ]
     },
     "execution_count": 46,
     "metadata": {},
     "output_type": "execute_result"
    }
   ],
   "source": [
    "df['StreamingMovies'].value_counts()"
   ]
  },
  {
   "cell_type": "code",
   "execution_count": 47,
   "metadata": {},
   "outputs": [
    {
     "data": {
      "image/png": "[encoded data removed]",
      "text/plain": [
       "<Figure size 1080x270 with 2 Axes>"
      ]
     },
     "metadata": {},
     "output_type": "display_data"
    }
   ],
   "source": [
    "plot_var('StreamingMovies', 'Streaming Movies', False)"
   ]
  },
  {
   "cell_type": "code",
   "execution_count": 48,
   "metadata": {},
   "outputs": [
    {
     "data": {
      "text/plain": [
       "StreamingMovies      Churn\n",
       "No                   No       0.663196\n",
       "                     Yes      0.336804\n",
       "No internet service  No       0.925950\n",
       "                     Yes      0.074050\n",
       "Yes                  No       0.700586\n",
       "                     Yes      0.299414\n",
       "Name: proportion, dtype: float64"
      ]
     },
     "execution_count": 48,
     "metadata": {},
     "output_type": "execute_result"
    }
   ],
   "source": [
    "df.groupby('StreamingMovies')['Churn'].value_counts(normalize=True)"
   ]
  },
  {
   "cell_type": "markdown",
   "metadata": {},
   "source": [
    "We can see that customers who have internet services along with Streaming Movie services tned to churn more often than customers who do not have internet services. This could mean that the internet services provided are of poor quality or too expensive compared to competitors. "
   ]
  },
  {
   "cell_type": "markdown",
   "metadata": {},
   "source": [
    "#### 15. Contract\n",
    "\n",
    "- Month-to-month: Represents customers who have a monthly subscription service\n",
    "- Two year: Represents customers who have a contract for 2 years\n",
    "- One year: Represents customers who have a contract for 1 year"
   ]
  },
  {
   "cell_type": "code",
   "execution_count": 49,
   "metadata": {},
   "outputs": [
    {
     "data": {
      "text/plain": [
       "Contract\n",
       "Month-to-month    0.550192\n",
       "Two year          0.240664\n",
       "One year          0.209144\n",
       "Name: proportion, dtype: float64"
      ]
     },
     "execution_count": 49,
     "metadata": {},
     "output_type": "execute_result"
    }
   ],
   "source": [
    "df['Contract'].value_counts(normalize=True)"
   ]
  },
  {
   "cell_type": "code",
   "execution_count": 50,
   "metadata": {},
   "outputs": [
    {
     "data": {
      "image/png": "[encoded data removed]",
      "text/plain": [
       "<Figure size 1080x270 with 2 Axes>"
      ]
     },
     "metadata": {},
     "output_type": "display_data"
    }
   ],
   "source": [
    "plot_var('Contract', 'Contract Type', False)"
   ]
  },
  {
   "cell_type": "code",
   "execution_count": 51,
   "metadata": {},
   "outputs": [
    {
     "data": {
      "text/plain": [
       "Contract        Churn\n",
       "Month-to-month  No       0.572903\n",
       "                Yes      0.427097\n",
       "One year        No       0.887305\n",
       "                Yes      0.112695\n",
       "Two year        No       0.971681\n",
       "                Yes      0.028319\n",
       "Name: proportion, dtype: float64"
      ]
     },
     "execution_count": 51,
     "metadata": {},
     "output_type": "execute_result"
    }
   ],
   "source": [
    "df.groupby('Contract')['Churn'].value_counts(normalize=True)"
   ]
  },
  {
   "cell_type": "markdown",
   "metadata": {},
   "source": [
    "Month-to-month subscription services churn the most proportionally throuhgout the dataset. This makes intutive sense as customers who are monthly can decide to quit this service for a competitor or whatever various reason they choose to leave.\n",
    "\n",
    "**Note**: Month-to-month customers represent over half the dataset, so this could also lead to higher volume of churn proportional to alternative contract types. "
   ]
  },
  {
   "cell_type": "markdown",
   "metadata": {},
   "source": [
    "#### 16. PaperlessBilling\n",
    "\n",
    "- Yes: Represents the customers who use PaperlessBilling\n",
    "- No: Represents the customers who do not use PaperlessBilling"
   ]
  },
  {
   "cell_type": "code",
   "execution_count": 52,
   "metadata": {},
   "outputs": [
    {
     "data": {
      "text/plain": [
       "PaperlessBilling\n",
       "Yes    0.592219\n",
       "No     0.407781\n",
       "Name: proportion, dtype: float64"
      ]
     },
     "execution_count": 52,
     "metadata": {},
     "output_type": "execute_result"
    }
   ],
   "source": [
    "df['PaperlessBilling'].value_counts(normalize=True)"
   ]
  },
  {
   "cell_type": "code",
   "execution_count": 53,
   "metadata": {},
   "outputs": [
    {
     "data": {
      "image/png": "[encoded data removed]",
      "text/plain": [
       "<Figure size 1080x270 with 2 Axes>"
      ]
     },
     "metadata": {},
     "output_type": "display_data"
    }
   ],
   "source": [
    "plot_var('PaperlessBilling', 'Paperless Billing', False)"
   ]
  },
  {
   "cell_type": "code",
   "execution_count": 54,
   "metadata": {},
   "outputs": [
    {
     "data": {
      "text/plain": [
       "PaperlessBilling  Churn\n",
       "No                No       0.836699\n",
       "                  Yes      0.163301\n",
       "Yes               No       0.664349\n",
       "                  Yes      0.335651\n",
       "Name: proportion, dtype: float64"
      ]
     },
     "execution_count": 54,
     "metadata": {},
     "output_type": "execute_result"
    }
   ],
   "source": [
    "df.groupby('PaperlessBilling')['Churn'].value_counts(normalize=True)"
   ]
  },
  {
   "cell_type": "markdown",
   "metadata": {},
   "source": [
    "Customers who use Paperless Billing tend to churn more oftent than those that do not participate in Paperless Billing."
   ]
  },
  {
   "cell_type": "markdown",
   "metadata": {},
   "source": [
    "#### 17. PaymentMethod\n",
    "\n",
    "- Electronic check: Customers who choose to pay via Electronic check\n",
    "- Mailed check: Customers who choose to pay via Mailed check\n",
    "- Bank transfer (automatic): Customers who choose to pay via Bank Transfer (automatic)\n",
    "- Credit card (automatic): Customers who choose to pay via Credit card (automatic)"
   ]
  },
  {
   "cell_type": "code",
   "execution_count": 55,
   "metadata": {},
   "outputs": [
    {
     "data": {
      "text/plain": [
       "PaymentMethod\n",
       "Electronic check             0.335794\n",
       "Mailed check                 0.228880\n",
       "Bank transfer (automatic)    0.219225\n",
       "Credit card (automatic)      0.216101\n",
       "Name: proportion, dtype: float64"
      ]
     },
     "execution_count": 55,
     "metadata": {},
     "output_type": "execute_result"
    }
   ],
   "source": [
    "df['PaymentMethod'].value_counts(normalize=True)"
   ]
  },
  {
   "cell_type": "code",
   "execution_count": 56,
   "metadata": {},
   "outputs": [
    {
     "data": {
      "image/png": "[encoded data removed]",
      "text/plain": [
       "<Figure size 1080x270 with 2 Axes>"
      ]
     },
     "metadata": {},
     "output_type": "display_data"
    }
   ],
   "source": [
    "plot_var('PaymentMethod', 'Payment Method', False)"
   ]
  },
  {
   "cell_type": "code",
   "execution_count": 57,
   "metadata": {},
   "outputs": [
    {
     "data": {
      "text/plain": [
       "PaymentMethod              Churn\n",
       "Bank transfer (automatic)  No       0.832902\n",
       "                           Yes      0.167098\n",
       "Credit card (automatic)    No       0.847569\n",
       "                           Yes      0.152431\n",
       "Electronic check           No       0.547146\n",
       "                           Yes      0.452854\n",
       "Mailed check               No       0.808933\n",
       "                           Yes      0.191067\n",
       "Name: proportion, dtype: float64"
      ]
     },
     "execution_count": 57,
     "metadata": {},
     "output_type": "execute_result"
    }
   ],
   "source": [
    "df.groupby('PaymentMethod')['Churn'].value_counts(normalize=True)"
   ]
  },
  {
   "cell_type": "markdown",
   "metadata": {},
   "source": [
    "Surprisingly, many customers choose to pay via Electronic check; however, they are the leading payment method regarding churn rate."
   ]
  },
  {
   "cell_type": "markdown",
   "metadata": {},
   "source": [
    "#### 18. MonthlyCharges"
   ]
  },
  {
   "cell_type": "code",
   "execution_count": 58,
   "metadata": {},
   "outputs": [
    {
     "data": {
      "text/plain": [
       "count    7043.000000\n",
       "mean       64.761692\n",
       "std        30.090047\n",
       "min        18.250000\n",
       "25%        35.500000\n",
       "50%        70.350000\n",
       "75%        89.850000\n",
       "max       118.750000\n",
       "Name: MonthlyCharges, dtype: float64"
      ]
     },
     "execution_count": 58,
     "metadata": {},
     "output_type": "execute_result"
    }
   ],
   "source": [
    "df['MonthlyCharges'].describe()"
   ]
  },
  {
   "cell_type": "code",
   "execution_count": 59,
   "metadata": {},
   "outputs": [
    {
     "data": {
      "image/png": "[encoded data removed]",
      "text/plain": [
       "<Figure size 1080x270 with 2 Axes>"
      ]
     },
     "metadata": {},
     "output_type": "display_data"
    }
   ],
   "source": [
    "plot_var('MonthlyCharges', 'Monthly Charges', True)"
   ]
  },
  {
   "cell_type": "code",
   "execution_count": 60,
   "metadata": {},
   "outputs": [
    {
     "data": {
      "text/html": [
       "<div>\n",
       "<style scoped>\n",
       "    .dataframe tbody tr th:only-of-type {\n",
       "        vertical-align: middle;\n",
       "    }\n",
       "\n",
       "    .dataframe tbody tr th {\n",
       "        vertical-align: top;\n",
       "    }\n",
       "\n",
       "    .dataframe thead th {\n",
       "        text-align: right;\n",
       "    }\n",
       "</style>\n",
       "<table border=\"1\" class=\"dataframe\">\n",
       "  <thead>\n",
       "    <tr style=\"text-align: right;\">\n",
       "      <th></th>\n",
       "      <th>count</th>\n",
       "      <th>mean</th>\n",
       "      <th>std</th>\n",
       "      <th>min</th>\n",
       "      <th>25%</th>\n",
       "      <th>50%</th>\n",
       "      <th>75%</th>\n",
       "      <th>max</th>\n",
       "    </tr>\n",
       "    <tr>\n",
       "      <th>Churn</th>\n",
       "      <th></th>\n",
       "      <th></th>\n",
       "      <th></th>\n",
       "      <th></th>\n",
       "      <th></th>\n",
       "      <th></th>\n",
       "      <th></th>\n",
       "      <th></th>\n",
       "    </tr>\n",
       "  </thead>\n",
       "  <tbody>\n",
       "    <tr>\n",
       "      <th>No</th>\n",
       "      <td>5174.0</td>\n",
       "      <td>61.265124</td>\n",
       "      <td>31.092648</td>\n",
       "      <td>18.25</td>\n",
       "      <td>25.10</td>\n",
       "      <td>64.425</td>\n",
       "      <td>88.4</td>\n",
       "      <td>118.75</td>\n",
       "    </tr>\n",
       "    <tr>\n",
       "      <th>Yes</th>\n",
       "      <td>1869.0</td>\n",
       "      <td>74.441332</td>\n",
       "      <td>24.666053</td>\n",
       "      <td>18.85</td>\n",
       "      <td>56.15</td>\n",
       "      <td>79.650</td>\n",
       "      <td>94.2</td>\n",
       "      <td>118.35</td>\n",
       "    </tr>\n",
       "  </tbody>\n",
       "</table>\n",
       "</div>"
      ],
      "text/plain": [
       "        count       mean        std    min    25%     50%   75%     max\n",
       "Churn                                                                  \n",
       "No     5174.0  61.265124  31.092648  18.25  25.10  64.425  88.4  118.75\n",
       "Yes    1869.0  74.441332  24.666053  18.85  56.15  79.650  94.2  118.35"
      ]
     },
     "execution_count": 60,
     "metadata": {},
     "output_type": "execute_result"
    }
   ],
   "source": [
    "df.groupby('Churn')['MonthlyCharges'].describe()"
   ]
  },
  {
   "cell_type": "markdown",
   "metadata": {},
   "source": [
    "Customers who incure highly Monthly Charges tend to churn more often than customers who pay less monthly. "
   ]
  },
  {
   "cell_type": "markdown",
   "metadata": {},
   "source": [
    "#### 19. TotalCharges"
   ]
  },
  {
   "cell_type": "code",
   "execution_count": 61,
   "metadata": {},
   "outputs": [
    {
     "data": {
      "text/plain": [
       "0         29.85\n",
       "1        1889.5\n",
       "2        108.15\n",
       "3       1840.75\n",
       "4        151.65\n",
       "         ...   \n",
       "7038     1990.5\n",
       "7039     7362.9\n",
       "7040     346.45\n",
       "7041      306.6\n",
       "7042     6844.5\n",
       "Name: TotalCharges, Length: 7043, dtype: object"
      ]
     },
     "execution_count": 61,
     "metadata": {},
     "output_type": "execute_result"
    }
   ],
   "source": [
    "df['TotalCharges']"
   ]
  },
  {
   "cell_type": "code",
   "execution_count": 62,
   "metadata": {},
   "outputs": [
    {
     "name": "stdout",
     "output_type": "stream",
     "text": [
      "<class 'pandas.core.frame.DataFrame'>\n",
      "RangeIndex: 7043 entries, 0 to 7042\n",
      "Data columns (total 21 columns):\n",
      " #   Column            Non-Null Count  Dtype  \n",
      "---  ------            --------------  -----  \n",
      " 0   customerID        7043 non-null   object \n",
      " 1   gender            7043 non-null   object \n",
      " 2   SeniorCitizen     7043 non-null   object \n",
      " 3   Partner           7043 non-null   object \n",
      " 4   Dependents        7043 non-null   object \n",
      " 5   tenure            7043 non-null   int64  \n",
      " 6   PhoneService      7043 non-null   object \n",
      " 7   MultipleLines     7043 non-null   object \n",
      " 8   InternetService   7043 non-null   object \n",
      " 9   OnlineSecurity    7043 non-null   object \n",
      " 10  OnlineBackup      7043 non-null   object \n",
      " 11  DeviceProtection  7043 non-null   object \n",
      " 12  TechSupport       7043 non-null   object \n",
      " 13  StreamingTV       7043 non-null   object \n",
      " 14  StreamingMovies   7043 non-null   object \n",
      " 15  Contract          7043 non-null   object \n",
      " 16  PaperlessBilling  7043 non-null   object \n",
      " 17  PaymentMethod     7043 non-null   object \n",
      " 18  MonthlyCharges    7043 non-null   float64\n",
      " 19  TotalCharges      7043 non-null   object \n",
      " 20  Churn             7043 non-null   object \n",
      "dtypes: float64(1), int64(1), object(19)\n",
      "memory usage: 1.1+ MB\n"
     ]
    }
   ],
   "source": [
    "df.info()"
   ]
  },
  {
   "cell_type": "markdown",
   "metadata": {},
   "source": [
    "Need to convert TotalCharges column into float datatype. There are strings in this column that are causing it to be an object datatype. "
   ]
  },
  {
   "cell_type": "code",
   "execution_count": 63,
   "metadata": {},
   "outputs": [
    {
     "name": "stdout",
     "output_type": "stream",
     "text": [
      "      customerID TotalCharges\n",
      "488   4472-LVYGI             \n",
      "753   3115-CZMZD             \n",
      "936   5709-LVOEQ             \n",
      "1082  4367-NUYAO             \n",
      "1340  1371-DWPAZ             \n",
      "3331  7644-OMVMY             \n",
      "3826  3213-VVOLG             \n",
      "4380  2520-SGTTA             \n",
      "5218  2923-ARZLG             \n",
      "6670  4075-WKNIU             \n",
      "6754  2775-SEFEE             \n"
     ]
    }
   ],
   "source": [
    "# Step 1: Identify non-numeric values in the 'TotalCharges' column\n",
    "non_numeric_rows = df[pd.to_numeric(df['TotalCharges'], errors='coerce').isna()]\n",
    "\n",
    "# Display rows with customerID for easy identification\n",
    "print(non_numeric_rows[['customerID', 'TotalCharges']])"
   ]
  },
  {
   "cell_type": "code",
   "execution_count": 64,
   "metadata": {},
   "outputs": [
    {
     "data": {
      "text/html": [
       "<div>\n",
       "<style scoped>\n",
       "    .dataframe tbody tr th:only-of-type {\n",
       "        vertical-align: middle;\n",
       "    }\n",
       "\n",
       "    .dataframe tbody tr th {\n",
       "        vertical-align: top;\n",
       "    }\n",
       "\n",
       "    .dataframe thead th {\n",
       "        text-align: right;\n",
       "    }\n",
       "</style>\n",
       "<table border=\"1\" class=\"dataframe\">\n",
       "  <thead>\n",
       "    <tr style=\"text-align: right;\">\n",
       "      <th></th>\n",
       "      <th>MonthlyCharges</th>\n",
       "      <th>tenure</th>\n",
       "      <th>TotalCharges</th>\n",
       "    </tr>\n",
       "  </thead>\n",
       "  <tbody>\n",
       "    <tr>\n",
       "      <th>0</th>\n",
       "      <td>29.85</td>\n",
       "      <td>1</td>\n",
       "      <td>29.85</td>\n",
       "    </tr>\n",
       "    <tr>\n",
       "      <th>1</th>\n",
       "      <td>56.95</td>\n",
       "      <td>34</td>\n",
       "      <td>1889.5</td>\n",
       "    </tr>\n",
       "    <tr>\n",
       "      <th>2</th>\n",
       "      <td>53.85</td>\n",
       "      <td>2</td>\n",
       "      <td>108.15</td>\n",
       "    </tr>\n",
       "    <tr>\n",
       "      <th>3</th>\n",
       "      <td>42.30</td>\n",
       "      <td>45</td>\n",
       "      <td>1840.75</td>\n",
       "    </tr>\n",
       "    <tr>\n",
       "      <th>4</th>\n",
       "      <td>70.70</td>\n",
       "      <td>2</td>\n",
       "      <td>151.65</td>\n",
       "    </tr>\n",
       "    <tr>\n",
       "      <th>...</th>\n",
       "      <td>...</td>\n",
       "      <td>...</td>\n",
       "      <td>...</td>\n",
       "    </tr>\n",
       "    <tr>\n",
       "      <th>7038</th>\n",
       "      <td>84.80</td>\n",
       "      <td>24</td>\n",
       "      <td>1990.5</td>\n",
       "    </tr>\n",
       "    <tr>\n",
       "      <th>7039</th>\n",
       "      <td>103.20</td>\n",
       "      <td>72</td>\n",
       "      <td>7362.9</td>\n",
       "    </tr>\n",
       "    <tr>\n",
       "      <th>7040</th>\n",
       "      <td>29.60</td>\n",
       "      <td>11</td>\n",
       "      <td>346.45</td>\n",
       "    </tr>\n",
       "    <tr>\n",
       "      <th>7041</th>\n",
       "      <td>74.40</td>\n",
       "      <td>4</td>\n",
       "      <td>306.6</td>\n",
       "    </tr>\n",
       "    <tr>\n",
       "      <th>7042</th>\n",
       "      <td>105.65</td>\n",
       "      <td>66</td>\n",
       "      <td>6844.5</td>\n",
       "    </tr>\n",
       "  </tbody>\n",
       "</table>\n",
       "<p>7043 rows × 3 columns</p>\n",
       "</div>"
      ],
      "text/plain": [
       "      MonthlyCharges  tenure TotalCharges\n",
       "0              29.85       1        29.85\n",
       "1              56.95      34       1889.5\n",
       "2              53.85       2       108.15\n",
       "3              42.30      45      1840.75\n",
       "4              70.70       2       151.65\n",
       "...              ...     ...          ...\n",
       "7038           84.80      24       1990.5\n",
       "7039          103.20      72       7362.9\n",
       "7040           29.60      11       346.45\n",
       "7041           74.40       4        306.6\n",
       "7042          105.65      66       6844.5\n",
       "\n",
       "[7043 rows x 3 columns]"
      ]
     },
     "execution_count": 64,
     "metadata": {},
     "output_type": "execute_result"
    }
   ],
   "source": [
    "df[['MonthlyCharges', 'tenure', 'TotalCharges']]"
   ]
  },
  {
   "cell_type": "markdown",
   "metadata": {},
   "source": [
    "There are a few rows without Total Charges. These values in the column are input as empty strings causing an issue to easily convert column to float datatype. \n",
    "\n",
    "Since the amount of rows is so small, we could impute the these empty strings using MonthlyCharges * tenure. This is a logical approach since the total charges a customer incurs would be very closely aligned with how long they have been a customer multiplied by their total monthly charges.\n",
    "\n",
    "Doing a quick sanity check of MonthlyCharges * tenure, I found that it is a very close approximation, but not always exact. The error in using this calcution is estremaly small and not very meaningful. Also, the amount of rows to impute are very small as well so this shouldn't adversely impact the analysis. "
   ]
  },
  {
   "cell_type": "code",
   "execution_count": 65,
   "metadata": {},
   "outputs": [
    {
     "data": {
      "text/html": [
       "<div>\n",
       "<style scoped>\n",
       "    .dataframe tbody tr th:only-of-type {\n",
       "        vertical-align: middle;\n",
       "    }\n",
       "\n",
       "    .dataframe tbody tr th {\n",
       "        vertical-align: top;\n",
       "    }\n",
       "\n",
       "    .dataframe thead th {\n",
       "        text-align: right;\n",
       "    }\n",
       "</style>\n",
       "<table border=\"1\" class=\"dataframe\">\n",
       "  <thead>\n",
       "    <tr style=\"text-align: right;\">\n",
       "      <th></th>\n",
       "      <th>customerID</th>\n",
       "      <th>MonthlyCharges</th>\n",
       "      <th>tenure</th>\n",
       "      <th>TotalCharges</th>\n",
       "      <th>Churn</th>\n",
       "    </tr>\n",
       "  </thead>\n",
       "  <tbody>\n",
       "    <tr>\n",
       "      <th>488</th>\n",
       "      <td>4472-LVYGI</td>\n",
       "      <td>52.55</td>\n",
       "      <td>0</td>\n",
       "      <td>0.0</td>\n",
       "      <td>No</td>\n",
       "    </tr>\n",
       "    <tr>\n",
       "      <th>753</th>\n",
       "      <td>3115-CZMZD</td>\n",
       "      <td>20.25</td>\n",
       "      <td>0</td>\n",
       "      <td>0.0</td>\n",
       "      <td>No</td>\n",
       "    </tr>\n",
       "    <tr>\n",
       "      <th>936</th>\n",
       "      <td>5709-LVOEQ</td>\n",
       "      <td>80.85</td>\n",
       "      <td>0</td>\n",
       "      <td>0.0</td>\n",
       "      <td>No</td>\n",
       "    </tr>\n",
       "    <tr>\n",
       "      <th>1082</th>\n",
       "      <td>4367-NUYAO</td>\n",
       "      <td>25.75</td>\n",
       "      <td>0</td>\n",
       "      <td>0.0</td>\n",
       "      <td>No</td>\n",
       "    </tr>\n",
       "    <tr>\n",
       "      <th>1340</th>\n",
       "      <td>1371-DWPAZ</td>\n",
       "      <td>56.05</td>\n",
       "      <td>0</td>\n",
       "      <td>0.0</td>\n",
       "      <td>No</td>\n",
       "    </tr>\n",
       "    <tr>\n",
       "      <th>3331</th>\n",
       "      <td>7644-OMVMY</td>\n",
       "      <td>19.85</td>\n",
       "      <td>0</td>\n",
       "      <td>0.0</td>\n",
       "      <td>No</td>\n",
       "    </tr>\n",
       "    <tr>\n",
       "      <th>3826</th>\n",
       "      <td>3213-VVOLG</td>\n",
       "      <td>25.35</td>\n",
       "      <td>0</td>\n",
       "      <td>0.0</td>\n",
       "      <td>No</td>\n",
       "    </tr>\n",
       "    <tr>\n",
       "      <th>4380</th>\n",
       "      <td>2520-SGTTA</td>\n",
       "      <td>20.00</td>\n",
       "      <td>0</td>\n",
       "      <td>0.0</td>\n",
       "      <td>No</td>\n",
       "    </tr>\n",
       "    <tr>\n",
       "      <th>5218</th>\n",
       "      <td>2923-ARZLG</td>\n",
       "      <td>19.70</td>\n",
       "      <td>0</td>\n",
       "      <td>0.0</td>\n",
       "      <td>No</td>\n",
       "    </tr>\n",
       "    <tr>\n",
       "      <th>6670</th>\n",
       "      <td>4075-WKNIU</td>\n",
       "      <td>73.35</td>\n",
       "      <td>0</td>\n",
       "      <td>0.0</td>\n",
       "      <td>No</td>\n",
       "    </tr>\n",
       "    <tr>\n",
       "      <th>6754</th>\n",
       "      <td>2775-SEFEE</td>\n",
       "      <td>61.90</td>\n",
       "      <td>0</td>\n",
       "      <td>0.0</td>\n",
       "      <td>No</td>\n",
       "    </tr>\n",
       "  </tbody>\n",
       "</table>\n",
       "</div>"
      ],
      "text/plain": [
       "      customerID  MonthlyCharges  tenure  TotalCharges Churn\n",
       "488   4472-LVYGI           52.55       0           0.0    No\n",
       "753   3115-CZMZD           20.25       0           0.0    No\n",
       "936   5709-LVOEQ           80.85       0           0.0    No\n",
       "1082  4367-NUYAO           25.75       0           0.0    No\n",
       "1340  1371-DWPAZ           56.05       0           0.0    No\n",
       "3331  7644-OMVMY           19.85       0           0.0    No\n",
       "3826  3213-VVOLG           25.35       0           0.0    No\n",
       "4380  2520-SGTTA           20.00       0           0.0    No\n",
       "5218  2923-ARZLG           19.70       0           0.0    No\n",
       "6670  4075-WKNIU           73.35       0           0.0    No\n",
       "6754  2775-SEFEE           61.90       0           0.0    No"
      ]
     },
     "execution_count": 65,
     "metadata": {},
     "output_type": "execute_result"
    }
   ],
   "source": [
    "# Convert TotalCharges to numeric, coercing errors to NaN\n",
    "df['TotalCharges'] = pd.to_numeric(df['TotalCharges'], errors='coerce')\n",
    "\n",
    "# Impute missing TotalCharges as MonthlyCharges * tenure for rows where TotalCharges is NaN\n",
    "df.loc[df['TotalCharges'].isna(), 'TotalCharges'] = (df['MonthlyCharges'] * df['tenure']).round(2)\n",
    "\n",
    "# Convert the TotalCharges column to float datatype\n",
    "df['TotalCharges'] = df['TotalCharges'].astype(float)\n",
    "\n",
    "df.loc[non_numeric_rows.index, ['customerID', 'MonthlyCharges', 'tenure', 'TotalCharges', 'Churn']]"
   ]
  },
  {
   "cell_type": "markdown",
   "metadata": {},
   "source": [
    "It appears that these customers are actually not incurring any charges due to being brand new and not having made a payment at the time of this dataset. Therefore, the TotalCharges will be $0.00. "
   ]
  },
  {
   "cell_type": "code",
   "execution_count": 66,
   "metadata": {},
   "outputs": [
    {
     "data": {
      "text/plain": [
       "count    7043.000000\n",
       "mean     2279.734304\n",
       "std      2266.794470\n",
       "min         0.000000\n",
       "25%       398.550000\n",
       "50%      1394.550000\n",
       "75%      3786.600000\n",
       "max      8684.800000\n",
       "Name: TotalCharges, dtype: float64"
      ]
     },
     "execution_count": 66,
     "metadata": {},
     "output_type": "execute_result"
    }
   ],
   "source": [
    "df['TotalCharges'].describe()"
   ]
  },
  {
   "cell_type": "code",
   "execution_count": 67,
   "metadata": {},
   "outputs": [
    {
     "data": {
      "image/png": "[encoded data removed]",
      "text/plain": [
       "<Figure size 1080x270 with 2 Axes>"
      ]
     },
     "metadata": {},
     "output_type": "display_data"
    }
   ],
   "source": [
    "plot_var('TotalCharges', 'Total Charges', True)"
   ]
  },
  {
   "cell_type": "code",
   "execution_count": 68,
   "metadata": {},
   "outputs": [
    {
     "data": {
      "text/html": [
       "<div>\n",
       "<style scoped>\n",
       "    .dataframe tbody tr th:only-of-type {\n",
       "        vertical-align: middle;\n",
       "    }\n",
       "\n",
       "    .dataframe tbody tr th {\n",
       "        vertical-align: top;\n",
       "    }\n",
       "\n",
       "    .dataframe thead th {\n",
       "        text-align: right;\n",
       "    }\n",
       "</style>\n",
       "<table border=\"1\" class=\"dataframe\">\n",
       "  <thead>\n",
       "    <tr style=\"text-align: right;\">\n",
       "      <th></th>\n",
       "      <th>count</th>\n",
       "      <th>mean</th>\n",
       "      <th>std</th>\n",
       "      <th>min</th>\n",
       "      <th>25%</th>\n",
       "      <th>50%</th>\n",
       "      <th>75%</th>\n",
       "      <th>max</th>\n",
       "    </tr>\n",
       "    <tr>\n",
       "      <th>Churn</th>\n",
       "      <th></th>\n",
       "      <th></th>\n",
       "      <th></th>\n",
       "      <th></th>\n",
       "      <th></th>\n",
       "      <th></th>\n",
       "      <th></th>\n",
       "      <th></th>\n",
       "    </tr>\n",
       "  </thead>\n",
       "  <tbody>\n",
       "    <tr>\n",
       "      <th>No</th>\n",
       "      <td>5174.0</td>\n",
       "      <td>2549.911442</td>\n",
       "      <td>2329.954215</td>\n",
       "      <td>0.00</td>\n",
       "      <td>572.9</td>\n",
       "      <td>1679.525</td>\n",
       "      <td>4262.85</td>\n",
       "      <td>8672.45</td>\n",
       "    </tr>\n",
       "    <tr>\n",
       "      <th>Yes</th>\n",
       "      <td>1869.0</td>\n",
       "      <td>1531.796094</td>\n",
       "      <td>1890.822994</td>\n",
       "      <td>18.85</td>\n",
       "      <td>134.5</td>\n",
       "      <td>703.550</td>\n",
       "      <td>2331.30</td>\n",
       "      <td>8684.80</td>\n",
       "    </tr>\n",
       "  </tbody>\n",
       "</table>\n",
       "</div>"
      ],
      "text/plain": [
       "        count         mean          std    min    25%       50%      75%  \\\n",
       "Churn                                                                      \n",
       "No     5174.0  2549.911442  2329.954215   0.00  572.9  1679.525  4262.85   \n",
       "Yes    1869.0  1531.796094  1890.822994  18.85  134.5   703.550  2331.30   \n",
       "\n",
       "           max  \n",
       "Churn           \n",
       "No     8672.45  \n",
       "Yes    8684.80  "
      ]
     },
     "execution_count": 68,
     "metadata": {},
     "output_type": "execute_result"
    }
   ],
   "source": [
    "df.groupby('Churn')['TotalCharges'].describe()"
   ]
  },
  {
   "cell_type": "markdown",
   "metadata": {},
   "source": [
    "Customers who churn actually pay less in TotalCharges than cusomters who do not churn. This is the case because tenure plays a role in TotalCharges. The longer the customer stays, the more money they will pay over that time. Since they stay longer, this also results in less churn. \n",
    "\n",
    "**Note** The distribution of Churn versus non-Churn customers are exactly the same count as the MonthlyCharges."
   ]
  },
  {
   "cell_type": "markdown",
   "metadata": {},
   "source": [
    "#### Churn"
   ]
  },
  {
   "cell_type": "code",
   "execution_count": 69,
   "metadata": {},
   "outputs": [
    {
     "data": {
      "text/plain": [
       "Churn\n",
       "No     0.73463\n",
       "Yes    0.26537\n",
       "Name: proportion, dtype: float64"
      ]
     },
     "execution_count": 69,
     "metadata": {},
     "output_type": "execute_result"
    }
   ],
   "source": [
    "df['Churn'].value_counts(normalize=True)"
   ]
  },
  {
   "cell_type": "code",
   "execution_count": 70,
   "metadata": {},
   "outputs": [
    {
     "data": {
      "image/png": "[encoded data removed]",
      "text/plain": [
       "<Figure size 640x480 with 1 Axes>"
      ]
     },
     "metadata": {},
     "output_type": "display_data"
    }
   ],
   "source": [
    "sns.countplot(df['Churn'])\n",
    "plt.show()"
   ]
  },
  {
   "cell_type": "markdown",
   "metadata": {},
   "source": [
    "This dataset is comprised of approximately 73% No Churn and the remaining as Churn. This is very unbalanced which means our models will be very good at predicted No Churn. Consequently, our models should be pretty good at predicting Churn as this is a binary outcome. "
   ]
  },
  {
   "cell_type": "markdown",
   "metadata": {},
   "source": [
    "# Preparing Data for Machine Learning Models"
   ]
  },
  {
   "cell_type": "code",
   "execution_count": 71,
   "metadata": {},
   "outputs": [],
   "source": [
    "# Convert Churn into a binary outcome suitable for machine learning models\n",
    "df['Churn'] = df['Churn'].apply(lambda x: 1 if x == 'Yes' else 0)"
   ]
  },
  {
   "cell_type": "code",
   "execution_count": 72,
   "metadata": {},
   "outputs": [],
   "source": [
    "# Customer ID is not relevant for predicting Churn\n",
    "df = df.drop(columns='customerID', axis=1).reset_index(drop=True)"
   ]
  },
  {
   "cell_type": "code",
   "execution_count": 73,
   "metadata": {},
   "outputs": [],
   "source": [
    "# One-hot encode categorical columns\n",
    "df = pd.get_dummies(df, drop_first=True, dtype=int)"
   ]
  },
  {
   "cell_type": "code",
   "execution_count": 74,
   "metadata": {},
   "outputs": [],
   "source": [
    "# Separate features and target\n",
    "X = df.drop(columns='Churn')\n",
    "y = df['Churn']\n",
    "\n",
    "# Split the data\n",
    "X_train, X_test, y_train, y_test = train_test_split(X, y, test_size=0.3, random_state=42, stratify=y)"
   ]
  },
  {
   "cell_type": "markdown",
   "metadata": {},
   "source": [
    "The stratify=y parameter helps to maintain the same proportion of the target variable (Churn) in both the training and test sets."
   ]
  },
  {
   "cell_type": "code",
   "execution_count": 75,
   "metadata": {},
   "outputs": [
    {
     "data": {
      "text/plain": [
       "Churn\n",
       "0    0.734686\n",
       "1    0.265314\n",
       "Name: proportion, dtype: float64"
      ]
     },
     "execution_count": 75,
     "metadata": {},
     "output_type": "execute_result"
    }
   ],
   "source": [
    "y_train.value_counts(normalize=True)"
   ]
  },
  {
   "cell_type": "code",
   "execution_count": 76,
   "metadata": {},
   "outputs": [
    {
     "data": {
      "text/plain": [
       "Churn\n",
       "0    0.734501\n",
       "1    0.265499\n",
       "Name: proportion, dtype: float64"
      ]
     },
     "execution_count": 76,
     "metadata": {},
     "output_type": "execute_result"
    }
   ],
   "source": [
    "y_test.value_counts(normalize=True)"
   ]
  },
  {
   "cell_type": "code",
   "execution_count": 77,
   "metadata": {},
   "outputs": [],
   "source": [
    "# Initialize scaler\n",
    "scaler = StandardScaler()\n",
    "\n",
    "# Fit only on the training set to avoid data leakage\n",
    "X_train_scaled = scaler.fit_transform(X_train)\n",
    "X_test_scaled = scaler.transform(X_test)"
   ]
  },
  {
   "cell_type": "code",
   "execution_count": 78,
   "metadata": {},
   "outputs": [
    {
     "data": {
      "text/plain": [
       "array([[-1.11472828,  0.50428615, -0.83650447, ..., -0.52555704,\n",
       "         1.40735673, -0.54312331],\n",
       "       [-1.19588443,  0.72418915, -0.90774191, ..., -0.52555704,\n",
       "         1.40735673, -0.54312331],\n",
       "       [-1.19588443,  0.33729214, -0.9095741 , ...,  1.90274305,\n",
       "        -0.7105519 , -0.54312331],\n",
       "       ...,\n",
       "       [ 1.56342466,  1.46491504,  2.3582526 , ..., -0.52555704,\n",
       "         1.40735673, -0.54312331],\n",
       "       [-0.34374486, -1.47318743, -0.79351335, ...,  1.90274305,\n",
       "        -0.7105519 , -0.54312331],\n",
       "       [-1.07415021, -1.4649204 , -0.95644773, ..., -0.52555704,\n",
       "        -0.7105519 ,  1.84120252]])"
      ]
     },
     "execution_count": 78,
     "metadata": {},
     "output_type": "execute_result"
    }
   ],
   "source": [
    "X_train_scaled"
   ]
  },
  {
   "cell_type": "code",
   "execution_count": 99,
   "metadata": {},
   "outputs": [
    {
     "name": "stdout",
     "output_type": "stream",
     "text": [
      "X_resampled shape is (5834, 30)\n",
      "y_resampled shape is (5834,)\n"
     ]
    }
   ],
   "source": [
    "# Apply SMOTEN to the training data\n",
    "smoten = SMOTEENN(random_state=42)\n",
    "X_resampled, y_resampled = smoten.fit_resample(X, y)\n",
    "\n",
    "print(f\"X_resampled shape is {X_resampled.shape}\")\n",
    "print(f\"y_resampled shape is {y_resampled.shape}\")"
   ]
  },
  {
   "cell_type": "markdown",
   "metadata": {},
   "source": [
    "# Classification Models"
   ]
  },
  {
   "cell_type": "markdown",
   "metadata": {},
   "source": [
    "#### Most of the structure of this section is inspired by the following Kaggle Notebook:\n",
    "\n",
    "#### https://www.kaggle.com/code/ahmedashrafahmed/customer-churn-prediction-eda-and-model-98-acc#notebook-container"
   ]
  },
  {
   "cell_type": "markdown",
   "metadata": {},
   "source": [
    "## Baseline Model Accuracy"
   ]
  },
  {
   "cell_type": "markdown",
   "metadata": {},
   "source": [
    "Summary and Model Explanation\n",
    "\n",
    "Here’s a brief overview of each model:\n",
    "\n",
    "1.\tRandomForest: A robust model that builds multiple decision trees and combines their results. It’s usually strong for many datasets because it reduces the risk of overfitting on training data.\n",
    "2.\tXGBoost (Extreme Gradient Boosting): A boosting algorithm that sequentially improves weak models, typically strong for structured/tabular data but requires specific libraries (like libomp) for optimal performance.\n",
    "3.\tLGBM (LightGBM): Similar to XGBoost, this model builds trees for faster and efficient boosting. It’s often faster on larger datasets.\n",
    "4.\tDecisionTree: A simpler model that makes decisions based on if-else rules. It can overfit easily, meaning it may not perform as well on new data.\n",
    "5.\tKNN (K-Nearest Neighbors): A non-parametric model that classifies data based on the most common class among nearest neighbors. KNN is sensitive to how data is scaled.\n",
    "6.\tSVC (Support Vector Classifier): This model tries to find the best boundary between classes. It performs better with fewer features and requires careful parameter tuning.\n",
    "7.\tLogisticRegression: A basic model for binary classification that calculates probabilities for each class. Scaling data and more iterations often help improve its convergence.\n",
    "8.\tCatBoost: Another boosting model specifically optimized for categorical features, which is why it’s performing well.\n",
    "9.\tGradientBoosting and AdaBoost: Both are boosting methods that correct errors from weaker models by adjusting weights or modifying the input data. They’re generally strong choices, particularly for structured data.\n",
    "10.\tNaiveBayes: A probabilistic model often used for text classification. It’s less complex but works well for certain types of data.\n"
   ]
  },
  {
   "cell_type": "code",
   "execution_count": 80,
   "metadata": {},
   "outputs": [
    {
     "name": "stdout",
     "output_type": "stream",
     "text": [
      "Cross-validating RandomForest...\n",
      "Mean accuracy for RandomForest: 0.7927\n",
      "Cross-validating XGBoost...\n",
      "Mean accuracy for XGBoost: 0.7822\n",
      "Cross-validating LGBM...\n",
      "Mean accuracy for LGBM: 0.7935\n",
      "Cross-validating DecisionTree...\n",
      "Mean accuracy for DecisionTree: 0.7302\n",
      "Cross-validating KNN...\n",
      "Mean accuracy for KNN: 0.7574\n",
      "Cross-validating SVC...\n",
      "Mean accuracy for SVC: 0.6588\n",
      "Cross-validating LogisticRegression...\n",
      "Mean accuracy for LogisticRegression: 0.7503\n",
      "Cross-validating CatBoost...\n",
      "Mean accuracy for CatBoost: 0.8004\n",
      "Cross-validating GradientBoosting...\n",
      "Mean accuracy for GradientBoosting: 0.8030\n",
      "Cross-validating AdaBoost...\n",
      "Mean accuracy for AdaBoost: 0.8032\n",
      "Cross-validating NaiveBayes...\n",
      "Mean accuracy for NaiveBayes: 0.6633\n"
     ]
    }
   ],
   "source": [
    "models = {\n",
    "    'RandomForest': RandomForestClassifier(random_state=42),\n",
    "    'XGBoost': XGBClassifier(),\n",
    "    'LGBM': LGBMClassifier(verbose=-1),\n",
    "    'DecisionTree': DecisionTreeClassifier(random_state=42),\n",
    "    'KNN': KNeighborsClassifier(),\n",
    "    'SVC': SVC(random_state=42, class_weight='balanced'),\n",
    "    'LogisticRegression': LogisticRegression(random_state=42, class_weight='balanced', max_iter=1000),\n",
    "    'CatBoost': CatBoostClassifier(logging_level='Silent'),\n",
    "    'GradientBoosting': GradientBoostingClassifier(random_state=42),\n",
    "    'AdaBoost': AdaBoostClassifier(random_state=42),\n",
    "    'NaiveBayes': GaussianNB()\n",
    "}\n",
    "### Validation Score\n",
    "cv_results = {}\n",
    "for model_name, model in models.items():\n",
    "    print(f\"Cross-validating {model_name}...\")\n",
    "    cv_scores = cross_val_score(model, X_train, y_train, cv=5, scoring='accuracy', n_jobs=-1,verbose=0)\n",
    "    cv_results[model_name] = cv_scores.mean()\n",
    "    print(f\"Mean accuracy for {model_name}: {cv_scores.mean():.4f}\")"
   ]
  },
  {
   "cell_type": "markdown",
   "metadata": {},
   "source": [
    "We are going to add a feed-forward neural networks (FFNNs) as these neural networks are best used with tabular preprocessed data and can detect complex non-linear relationships between variables for increased accuracy in classification tasks. \n",
    "\n",
    "Multi-Layer Perceptron (MLP), a type of neural network suitable for tabular data, which will employ forward propagation to learn patterns. We’ll use PyTorch for this implementation, though Keras and TensorFlow are also great options.\n",
    "\n",
    "- MLPClassifier is a neural network with three fully connected layers (fc1, fc2, and fc3) and ReLU activation functions, which help it learn complex patterns.\n",
    "- The output layer uses a softmax activation to return probabilities for each class."
   ]
  },
  {
   "cell_type": "code",
   "execution_count": 91,
   "metadata": {},
   "outputs": [
    {
     "name": "stdout",
     "output_type": "stream",
     "text": [
      "Epoch 1/10, Loss: 0.5330\n",
      "Epoch 2/10, Loss: 0.4998\n",
      "Epoch 3/10, Loss: 0.4955\n",
      "Epoch 4/10, Loss: 0.4932\n",
      "Epoch 5/10, Loss: 0.4913\n",
      "Epoch 6/10, Loss: 0.4892\n",
      "Epoch 7/10, Loss: 0.4875\n",
      "Epoch 8/10, Loss: 0.4880\n",
      "Epoch 9/10, Loss: 0.4827\n",
      "Epoch 10/10, Loss: 0.4815\n",
      "Cross-validating RandomForest...\n",
      "Mean accuracy for RandomForest: 0.7927\n",
      "Cross-validating XGBoost...\n",
      "Mean accuracy for XGBoost: 0.7822\n",
      "Cross-validating LGBM...\n",
      "Mean accuracy for LGBM: 0.7935\n",
      "Cross-validating DecisionTree...\n",
      "Mean accuracy for DecisionTree: 0.7302\n",
      "Cross-validating KNN...\n",
      "Mean accuracy for KNN: 0.7574\n",
      "Cross-validating SVC...\n",
      "Mean accuracy for SVC: 0.6588\n",
      "Cross-validating LogisticRegression...\n",
      "Mean accuracy for LogisticRegression: 0.7503\n",
      "Cross-validating CatBoost...\n",
      "Mean accuracy for CatBoost: 0.8004\n",
      "Cross-validating GradientBoosting...\n",
      "Mean accuracy for GradientBoosting: 0.8030\n",
      "Cross-validating AdaBoost...\n",
      "Mean accuracy for AdaBoost: 0.8032\n",
      "Cross-validating NaiveBayes...\n",
      "Mean accuracy for NaiveBayes: 0.6633\n",
      "Cross-validating MLP...\n",
      "Mean accuracy for MLP: 0.8314\n"
     ]
    }
   ],
   "source": [
    "# Define the MLP model using PyTorch\n",
    "class MLPClassifier(nn.Module):\n",
    "    def __init__(self, input_dim, hidden_dim=64, output_dim=2):\n",
    "        super(MLPClassifier, self).__init__()\n",
    "        # Define the network architecture\n",
    "        self.fc1 = nn.Linear(input_dim, hidden_dim)\n",
    "        self.relu = nn.ReLU()\n",
    "        self.fc2 = nn.Linear(hidden_dim, hidden_dim)\n",
    "        self.fc3 = nn.Linear(hidden_dim, output_dim)\n",
    "        self.softmax = nn.Softmax(dim=1)\n",
    "\n",
    "    def forward(self, x):\n",
    "        x = self.relu(self.fc1(x))\n",
    "        x = self.relu(self.fc2(x))\n",
    "        x = self.softmax(self.fc3(x))\n",
    "        return x\n",
    "    \n",
    "# Convert the data into a PyTorch Dataset\n",
    "train_data = TensorDataset(torch.FloatTensor(X_train_scaled), torch.LongTensor(y_train.values))\n",
    "train_loader = DataLoader(train_data, batch_size=32, shuffle=True)\n",
    "\n",
    "# Define a training function\n",
    "def train_mlp(model, dataloader, epochs=10):\n",
    "    criterion = nn.CrossEntropyLoss()\n",
    "    optimizer = optim.Adam(model.parameters(), lr=0.001)\n",
    "    for epoch in range(epochs):\n",
    "        model.train()\n",
    "        total_loss = 0\n",
    "        for data, target in dataloader:\n",
    "            optimizer.zero_grad()\n",
    "            output = model(data)\n",
    "            loss = criterion(output, target)\n",
    "            loss.backward()\n",
    "            optimizer.step()\n",
    "            total_loss += loss.item()\n",
    "        print(f\"Epoch {epoch + 1}/{epochs}, Loss: {total_loss / len(dataloader):.4f}\")\n",
    "\n",
    "# Instantiate and train the model\n",
    "input_dim = X_train_scaled.shape[1]  # Number of features in your dataset\n",
    "mlp_model = MLPClassifier(input_dim=input_dim, output_dim=len(set(y_train)))  # Adjust output layer to match classes\n",
    "train_mlp(mlp_model, train_loader, epochs=10)\n",
    "\n",
    "# Evaluating the MLP model using cross-validation\n",
    "def evaluate_mlp(model, X, y):\n",
    "    model.eval()\n",
    "    with torch.no_grad():\n",
    "        X_tensor = torch.FloatTensor(X)\n",
    "        output = model(X_tensor)\n",
    "        predictions = torch.argmax(output, dim=1)\n",
    "    return accuracy_score(y, predictions.numpy())\n",
    "\n",
    "# Define the training function for MLP\n",
    "def train_and_evaluate_mlp(X_train, y_train, params):\n",
    "    # Data preparation\n",
    "    scaler = StandardScaler()\n",
    "    X_train_scaled = scaler.fit_transform(X_train)\n",
    "    train_data = TensorDataset(torch.FloatTensor(X_train_scaled), torch.LongTensor(y_train.values))\n",
    "    train_loader = DataLoader(train_data, batch_size=params['batch_size'], shuffle=True)\n",
    "    \n",
    "    # Initialize MLP model\n",
    "    input_dim = X_train_scaled.shape[1]\n",
    "    output_dim = len(set(y_train))\n",
    "    model = MLPClassifier(input_dim=input_dim, hidden_dim=params['hidden_dim'], output_dim=output_dim)\n",
    "    \n",
    "    # Define loss and optimizer\n",
    "    criterion = nn.CrossEntropyLoss()\n",
    "    optimizer = optim.Adam(model.parameters(), lr=params['learning_rate'])\n",
    "    \n",
    "    # Train model\n",
    "    for epoch in range(params['epochs']):\n",
    "        model.train()\n",
    "        total_loss = 0\n",
    "        for data, target in train_loader:\n",
    "            optimizer.zero_grad()\n",
    "            output = model(data)\n",
    "            loss = criterion(output, target)\n",
    "            loss.backward()\n",
    "            optimizer.step()\n",
    "            total_loss += loss.item()\n",
    "    \n",
    "    # Evaluation\n",
    "    model.eval()\n",
    "    with torch.no_grad():\n",
    "        X_train_tensor = torch.FloatTensor(X_train_scaled)\n",
    "        output = model(X_train_tensor)\n",
    "        predictions = torch.argmax(output, dim=1)\n",
    "    accuracy = accuracy_score(y_train, predictions.numpy())\n",
    "    return accuracy, model\n",
    "\n",
    "# Add MLP to the models dictionary and evaluate\n",
    "models['MLP'] = mlp_model\n",
    "cv_results = {}\n",
    "\n",
    "for model_name, model in models.items():\n",
    "    print(f\"Cross-validating {model_name}...\")\n",
    "    if model_name == 'MLP':\n",
    "        # Custom evaluation for MLP\n",
    "        cv_accuracy = evaluate_mlp(mlp_model, X_train_scaled, y_train)\n",
    "        cv_results[model_name] = cv_accuracy\n",
    "        print(f\"Mean accuracy for {model_name}: {cv_accuracy:.4f}\")\n",
    "    else:\n",
    "        # Standard cross-validation for other models\n",
    "        cv_scores = cross_val_score(model, X_train, y_train, cv=5, scoring='accuracy', n_jobs=-1)\n",
    "        cv_results[model_name] = cv_scores.mean()\n",
    "        print(f\"Mean accuracy for {model_name}: {cv_scores.mean():.4f}\")"
   ]
  },
  {
   "cell_type": "markdown",
   "metadata": {},
   "source": [
    "As can be seen from the above average accuracy for each model, the MLP model outperforms."
   ]
  },
  {
   "cell_type": "code",
   "execution_count": null,
   "metadata": {},
   "outputs": [
    {
     "data": {
      "text/html": [
       "<div>\n",
       "<style scoped>\n",
       "    .dataframe tbody tr th:only-of-type {\n",
       "        vertical-align: middle;\n",
       "    }\n",
       "\n",
       "    .dataframe tbody tr th {\n",
       "        vertical-align: top;\n",
       "    }\n",
       "\n",
       "    .dataframe thead th {\n",
       "        text-align: right;\n",
       "    }\n",
       "</style>\n",
       "<table border=\"1\" class=\"dataframe\">\n",
       "  <thead>\n",
       "    <tr style=\"text-align: right;\">\n",
       "      <th></th>\n",
       "      <th>Model</th>\n",
       "      <th>Mean Accuracy</th>\n",
       "    </tr>\n",
       "  </thead>\n",
       "  <tbody>\n",
       "    <tr>\n",
       "      <th>11</th>\n",
       "      <td>MLP</td>\n",
       "      <td>0.833469</td>\n",
       "    </tr>\n",
       "    <tr>\n",
       "      <th>9</th>\n",
       "      <td>AdaBoost</td>\n",
       "      <td>0.803245</td>\n",
       "    </tr>\n",
       "    <tr>\n",
       "      <th>8</th>\n",
       "      <td>GradientBoosting</td>\n",
       "      <td>0.803043</td>\n",
       "    </tr>\n",
       "    <tr>\n",
       "      <th>7</th>\n",
       "      <td>CatBoost</td>\n",
       "      <td>0.800406</td>\n",
       "    </tr>\n",
       "    <tr>\n",
       "      <th>2</th>\n",
       "      <td>LGBM</td>\n",
       "      <td>0.793509</td>\n",
       "    </tr>\n",
       "    <tr>\n",
       "      <th>0</th>\n",
       "      <td>RandomForest</td>\n",
       "      <td>0.792698</td>\n",
       "    </tr>\n",
       "    <tr>\n",
       "      <th>1</th>\n",
       "      <td>XGBoost</td>\n",
       "      <td>0.782150</td>\n",
       "    </tr>\n",
       "    <tr>\n",
       "      <th>4</th>\n",
       "      <td>KNN</td>\n",
       "      <td>0.757404</td>\n",
       "    </tr>\n",
       "    <tr>\n",
       "      <th>6</th>\n",
       "      <td>LogisticRegression</td>\n",
       "      <td>0.750304</td>\n",
       "    </tr>\n",
       "    <tr>\n",
       "      <th>3</th>\n",
       "      <td>DecisionTree</td>\n",
       "      <td>0.730223</td>\n",
       "    </tr>\n",
       "    <tr>\n",
       "      <th>10</th>\n",
       "      <td>NaiveBayes</td>\n",
       "      <td>0.663286</td>\n",
       "    </tr>\n",
       "    <tr>\n",
       "      <th>5</th>\n",
       "      <td>SVC</td>\n",
       "      <td>0.658824</td>\n",
       "    </tr>\n",
       "  </tbody>\n",
       "</table>\n",
       "</div>"
      ],
      "text/plain": [
       "                 Model  Mean Accuracy\n",
       "11                 MLP       0.833469\n",
       "9             AdaBoost       0.803245\n",
       "8     GradientBoosting       0.803043\n",
       "7             CatBoost       0.800406\n",
       "2                 LGBM       0.793509\n",
       "0         RandomForest       0.792698\n",
       "1              XGBoost       0.782150\n",
       "4                  KNN       0.757404\n",
       "6   LogisticRegression       0.750304\n",
       "3         DecisionTree       0.730223\n",
       "10          NaiveBayes       0.663286\n",
       "5                  SVC       0.658824"
      ]
     },
     "execution_count": 84,
     "metadata": {},
     "output_type": "execute_result"
    }
   ],
   "source": [
    "cv_results_df = pd.DataFrame(list(cv_results.items()), columns=['Model', 'Mean Accuracy'])\n",
    "cv_results_df = cv_results_df.sort_values(by='Mean Accuracy', ascending=False).reset_index(drop=True)\n",
    "cv_results_df"
   ]
  },
  {
   "cell_type": "code",
   "execution_count": 85,
   "metadata": {},
   "outputs": [
    {
     "name": "stdout",
     "output_type": "stream",
     "text": [
      "\n",
      "Best model from CV: MLP\n"
     ]
    }
   ],
   "source": [
    "best_model_name = cv_results_df.iloc[0]['Model']\n",
    "print(f\"\\nBest model from CV: {best_model_name}\")"
   ]
  },
  {
   "cell_type": "markdown",
   "metadata": {},
   "source": [
    "## Optimizing Parameters for Best Cross-Validation Score"
   ]
  },
  {
   "cell_type": "markdown",
   "metadata": {},
   "source": [
    "##### This next cell takes approximately 25 minutes to run.\n",
    "\n",
    "The SVC model performs fairly average; however, takes forever to run. So, I omitted it from this iteration. "
   ]
  },
  {
   "cell_type": "code",
   "execution_count": 93,
   "metadata": {},
   "outputs": [
    {
     "name": "stdout",
     "output_type": "stream",
     "text": [
      "\n",
      "Performing GridSearchCV for RandomForest...\n"
     ]
    },
    {
     "name": "stdout",
     "output_type": "stream",
     "text": [
      "Best parameters for RandomForest: {'max_depth': 8, 'min_samples_split': 15, 'n_estimators': 50}\n",
      "Best cross-validation score for RandomForest: 0.8045\n",
      "\n",
      "Performing GridSearchCV for XGBoost...\n",
      "Best parameters for XGBoost: {'learning_rate': 0.1, 'max_depth': 1, 'n_estimators': 200, 'subsample': 1}\n",
      "Best cross-validation score for XGBoost: 0.8055\n",
      "\n",
      "Performing GridSearchCV for LGBM...\n",
      "Best parameters for LGBM: {'learning_rate': 0.05, 'max_depth': None, 'n_estimators': 100}\n",
      "Best cross-validation score for LGBM: 0.8028\n",
      "\n",
      "Performing GridSearchCV for DecisionTree...\n",
      "Best parameters for DecisionTree: {'max_depth': 10, 'min_samples_split': 5}\n",
      "Best cross-validation score for DecisionTree: 0.7659\n",
      "\n",
      "Performing GridSearchCV for KNN...\n",
      "Best parameters for KNN: {'n_neighbors': 7, 'weights': 'uniform'}\n",
      "Best cross-validation score for KNN: 0.7684\n",
      "\n",
      "Performing GridSearchCV for LogisticRegression...\n"
     ]
    },
    {
     "name": "stderr",
     "output_type": "stream",
     "text": [
      "/opt/anaconda3/envs/My/lib/python3.8/site-packages/sklearn/linear_model/_sag.py:350: ConvergenceWarning: The max_iter was reached which means the coef_ did not converge\n",
      "  warnings.warn(\n",
      "/opt/anaconda3/envs/My/lib/python3.8/site-packages/sklearn/linear_model/_sag.py:350: ConvergenceWarning: The max_iter was reached which means the coef_ did not converge\n",
      "  warnings.warn(\n",
      "/opt/anaconda3/envs/My/lib/python3.8/site-packages/sklearn/linear_model/_sag.py:350: ConvergenceWarning: The max_iter was reached which means the coef_ did not converge\n",
      "  warnings.warn(\n",
      "/opt/anaconda3/envs/My/lib/python3.8/site-packages/sklearn/linear_model/_sag.py:350: ConvergenceWarning: The max_iter was reached which means the coef_ did not converge\n",
      "  warnings.warn(\n",
      "/opt/anaconda3/envs/My/lib/python3.8/site-packages/sklearn/linear_model/_sag.py:350: ConvergenceWarning: The max_iter was reached which means the coef_ did not converge\n",
      "  warnings.warn(\n",
      "/opt/anaconda3/envs/My/lib/python3.8/site-packages/sklearn/linear_model/_sag.py:350: ConvergenceWarning: The max_iter was reached which means the coef_ did not converge\n",
      "  warnings.warn(\n",
      "/opt/anaconda3/envs/My/lib/python3.8/site-packages/sklearn/linear_model/_sag.py:350: ConvergenceWarning: The max_iter was reached which means the coef_ did not converge\n",
      "  warnings.warn(\n",
      "/opt/anaconda3/envs/My/lib/python3.8/site-packages/sklearn/linear_model/_sag.py:350: ConvergenceWarning: The max_iter was reached which means the coef_ did not converge\n",
      "  warnings.warn(\n",
      "/opt/anaconda3/envs/My/lib/python3.8/site-packages/sklearn/linear_model/_sag.py:350: ConvergenceWarning: The max_iter was reached which means the coef_ did not converge\n",
      "  warnings.warn(\n",
      "/opt/anaconda3/envs/My/lib/python3.8/site-packages/sklearn/linear_model/_sag.py:350: ConvergenceWarning: The max_iter was reached which means the coef_ did not converge\n",
      "  warnings.warn(\n",
      "/opt/anaconda3/envs/My/lib/python3.8/site-packages/sklearn/linear_model/_sag.py:350: ConvergenceWarning: The max_iter was reached which means the coef_ did not converge\n",
      "  warnings.warn(\n",
      "/opt/anaconda3/envs/My/lib/python3.8/site-packages/sklearn/linear_model/_sag.py:350: ConvergenceWarning: The max_iter was reached which means the coef_ did not converge\n",
      "  warnings.warn(\n",
      "/opt/anaconda3/envs/My/lib/python3.8/site-packages/sklearn/linear_model/_sag.py:350: ConvergenceWarning: The max_iter was reached which means the coef_ did not converge\n",
      "  warnings.warn(\n",
      "/opt/anaconda3/envs/My/lib/python3.8/site-packages/sklearn/linear_model/_sag.py:350: ConvergenceWarning: The max_iter was reached which means the coef_ did not converge\n",
      "  warnings.warn(\n",
      "/opt/anaconda3/envs/My/lib/python3.8/site-packages/sklearn/linear_model/_sag.py:350: ConvergenceWarning: The max_iter was reached which means the coef_ did not converge\n",
      "  warnings.warn(\n",
      "/opt/anaconda3/envs/My/lib/python3.8/site-packages/sklearn/linear_model/_sag.py:350: ConvergenceWarning: The max_iter was reached which means the coef_ did not converge\n",
      "  warnings.warn(\n",
      "/opt/anaconda3/envs/My/lib/python3.8/site-packages/sklearn/linear_model/_sag.py:350: ConvergenceWarning: The max_iter was reached which means the coef_ did not converge\n",
      "  warnings.warn(\n",
      "/opt/anaconda3/envs/My/lib/python3.8/site-packages/sklearn/linear_model/_sag.py:350: ConvergenceWarning: The max_iter was reached which means the coef_ did not converge\n",
      "  warnings.warn(\n",
      "/opt/anaconda3/envs/My/lib/python3.8/site-packages/sklearn/linear_model/_sag.py:350: ConvergenceWarning: The max_iter was reached which means the coef_ did not converge\n",
      "  warnings.warn(\n",
      "/opt/anaconda3/envs/My/lib/python3.8/site-packages/sklearn/linear_model/_sag.py:350: ConvergenceWarning: The max_iter was reached which means the coef_ did not converge\n",
      "  warnings.warn(\n",
      "/opt/anaconda3/envs/My/lib/python3.8/site-packages/sklearn/linear_model/_sag.py:350: ConvergenceWarning: The max_iter was reached which means the coef_ did not converge\n",
      "  warnings.warn(\n",
      "/opt/anaconda3/envs/My/lib/python3.8/site-packages/sklearn/linear_model/_sag.py:350: ConvergenceWarning: The max_iter was reached which means the coef_ did not converge\n",
      "  warnings.warn(\n",
      "/opt/anaconda3/envs/My/lib/python3.8/site-packages/sklearn/linear_model/_sag.py:350: ConvergenceWarning: The max_iter was reached which means the coef_ did not converge\n",
      "  warnings.warn(\n",
      "/opt/anaconda3/envs/My/lib/python3.8/site-packages/sklearn/linear_model/_sag.py:350: ConvergenceWarning: The max_iter was reached which means the coef_ did not converge\n",
      "  warnings.warn(\n",
      "/opt/anaconda3/envs/My/lib/python3.8/site-packages/sklearn/linear_model/_sag.py:350: ConvergenceWarning: The max_iter was reached which means the coef_ did not converge\n",
      "  warnings.warn(\n",
      "/opt/anaconda3/envs/My/lib/python3.8/site-packages/sklearn/linear_model/_sag.py:350: ConvergenceWarning: The max_iter was reached which means the coef_ did not converge\n",
      "  warnings.warn(\n",
      "/opt/anaconda3/envs/My/lib/python3.8/site-packages/sklearn/linear_model/_sag.py:350: ConvergenceWarning: The max_iter was reached which means the coef_ did not converge\n",
      "  warnings.warn(\n",
      "/opt/anaconda3/envs/My/lib/python3.8/site-packages/sklearn/linear_model/_sag.py:350: ConvergenceWarning: The max_iter was reached which means the coef_ did not converge\n",
      "  warnings.warn(\n",
      "/opt/anaconda3/envs/My/lib/python3.8/site-packages/sklearn/linear_model/_sag.py:350: ConvergenceWarning: The max_iter was reached which means the coef_ did not converge\n",
      "  warnings.warn(\n",
      "/opt/anaconda3/envs/My/lib/python3.8/site-packages/sklearn/linear_model/_sag.py:350: ConvergenceWarning: The max_iter was reached which means the coef_ did not converge\n",
      "  warnings.warn(\n",
      "/opt/anaconda3/envs/My/lib/python3.8/site-packages/sklearn/linear_model/_sag.py:350: ConvergenceWarning: The max_iter was reached which means the coef_ did not converge\n",
      "  warnings.warn(\n",
      "/opt/anaconda3/envs/My/lib/python3.8/site-packages/sklearn/linear_model/_sag.py:350: ConvergenceWarning: The max_iter was reached which means the coef_ did not converge\n",
      "  warnings.warn(\n",
      "/opt/anaconda3/envs/My/lib/python3.8/site-packages/sklearn/linear_model/_sag.py:350: ConvergenceWarning: The max_iter was reached which means the coef_ did not converge\n",
      "  warnings.warn(\n",
      "/opt/anaconda3/envs/My/lib/python3.8/site-packages/sklearn/linear_model/_sag.py:350: ConvergenceWarning: The max_iter was reached which means the coef_ did not converge\n",
      "  warnings.warn(\n",
      "/opt/anaconda3/envs/My/lib/python3.8/site-packages/sklearn/linear_model/_sag.py:350: ConvergenceWarning: The max_iter was reached which means the coef_ did not converge\n",
      "  warnings.warn(\n",
      "/opt/anaconda3/envs/My/lib/python3.8/site-packages/sklearn/linear_model/_sag.py:350: ConvergenceWarning: The max_iter was reached which means the coef_ did not converge\n",
      "  warnings.warn(\n",
      "/opt/anaconda3/envs/My/lib/python3.8/site-packages/sklearn/linear_model/_sag.py:350: ConvergenceWarning: The max_iter was reached which means the coef_ did not converge\n",
      "  warnings.warn(\n",
      "/opt/anaconda3/envs/My/lib/python3.8/site-packages/sklearn/linear_model/_sag.py:350: ConvergenceWarning: The max_iter was reached which means the coef_ did not converge\n",
      "  warnings.warn(\n",
      "/opt/anaconda3/envs/My/lib/python3.8/site-packages/sklearn/linear_model/_sag.py:350: ConvergenceWarning: The max_iter was reached which means the coef_ did not converge\n",
      "  warnings.warn(\n",
      "/opt/anaconda3/envs/My/lib/python3.8/site-packages/sklearn/linear_model/_sag.py:350: ConvergenceWarning: The max_iter was reached which means the coef_ did not converge\n",
      "  warnings.warn(\n"
     ]
    },
    {
     "name": "stdout",
     "output_type": "stream",
     "text": [
      "Best parameters for LogisticRegression: {'C': 0.1, 'penalty': 'l2', 'solver': 'liblinear'}\n",
      "Best cross-validation score for LogisticRegression: 0.7513\n",
      "\n",
      "Performing GridSearchCV for CatBoost...\n",
      "Best parameters for CatBoost: {'depth': 6, 'iterations': 100, 'learning_rate': 0.05}\n",
      "Best cross-validation score for CatBoost: 0.8063\n",
      "\n",
      "Performing GridSearchCV for GradientBoosting...\n",
      "Best parameters for GradientBoosting: {'learning_rate': 0.1, 'max_depth': 10, 'n_estimators': 200}\n",
      "Best cross-validation score for GradientBoosting: 0.7866\n",
      "\n",
      "Performing GridSearchCV for AdaBoost...\n",
      "Best parameters for AdaBoost: {'learning_rate': 0.1, 'n_estimators': 200}\n",
      "Best cross-validation score for AdaBoost: 0.8055\n",
      "\n",
      "Performing GridSearchCV for NaiveBayes...\n",
      "Best parameters for NaiveBayes: {}\n",
      "Best cross-validation score for NaiveBayes: 0.6633\n",
      "\n",
      "Performing GridSearch for MLP...\n",
      "Testing parameters: {'hidden_dim': 32, 'num_layers': 1, 'learning_rate': 0.001, 'batch_size': 16, 'epochs': 10}\n",
      "Testing parameters: {'hidden_dim': 32, 'num_layers': 1, 'learning_rate': 0.001, 'batch_size': 16, 'epochs': 20}\n",
      "Testing parameters: {'hidden_dim': 32, 'num_layers': 1, 'learning_rate': 0.001, 'batch_size': 32, 'epochs': 10}\n",
      "Testing parameters: {'hidden_dim': 32, 'num_layers': 1, 'learning_rate': 0.001, 'batch_size': 32, 'epochs': 20}\n",
      "Testing parameters: {'hidden_dim': 32, 'num_layers': 1, 'learning_rate': 0.001, 'batch_size': 64, 'epochs': 10}\n",
      "Testing parameters: {'hidden_dim': 32, 'num_layers': 1, 'learning_rate': 0.001, 'batch_size': 64, 'epochs': 20}\n",
      "Testing parameters: {'hidden_dim': 32, 'num_layers': 1, 'learning_rate': 0.01, 'batch_size': 16, 'epochs': 10}\n",
      "Testing parameters: {'hidden_dim': 32, 'num_layers': 1, 'learning_rate': 0.01, 'batch_size': 16, 'epochs': 20}\n",
      "Testing parameters: {'hidden_dim': 32, 'num_layers': 1, 'learning_rate': 0.01, 'batch_size': 32, 'epochs': 10}\n",
      "Testing parameters: {'hidden_dim': 32, 'num_layers': 1, 'learning_rate': 0.01, 'batch_size': 32, 'epochs': 20}\n",
      "Testing parameters: {'hidden_dim': 32, 'num_layers': 1, 'learning_rate': 0.01, 'batch_size': 64, 'epochs': 10}\n",
      "Testing parameters: {'hidden_dim': 32, 'num_layers': 1, 'learning_rate': 0.01, 'batch_size': 64, 'epochs': 20}\n",
      "Testing parameters: {'hidden_dim': 32, 'num_layers': 2, 'learning_rate': 0.001, 'batch_size': 16, 'epochs': 10}\n",
      "Testing parameters: {'hidden_dim': 32, 'num_layers': 2, 'learning_rate': 0.001, 'batch_size': 16, 'epochs': 20}\n",
      "Testing parameters: {'hidden_dim': 32, 'num_layers': 2, 'learning_rate': 0.001, 'batch_size': 32, 'epochs': 10}\n",
      "Testing parameters: {'hidden_dim': 32, 'num_layers': 2, 'learning_rate': 0.001, 'batch_size': 32, 'epochs': 20}\n",
      "Testing parameters: {'hidden_dim': 32, 'num_layers': 2, 'learning_rate': 0.001, 'batch_size': 64, 'epochs': 10}\n",
      "Testing parameters: {'hidden_dim': 32, 'num_layers': 2, 'learning_rate': 0.001, 'batch_size': 64, 'epochs': 20}\n",
      "Testing parameters: {'hidden_dim': 32, 'num_layers': 2, 'learning_rate': 0.01, 'batch_size': 16, 'epochs': 10}\n",
      "Testing parameters: {'hidden_dim': 32, 'num_layers': 2, 'learning_rate': 0.01, 'batch_size': 16, 'epochs': 20}\n",
      "Testing parameters: {'hidden_dim': 32, 'num_layers': 2, 'learning_rate': 0.01, 'batch_size': 32, 'epochs': 10}\n",
      "Testing parameters: {'hidden_dim': 32, 'num_layers': 2, 'learning_rate': 0.01, 'batch_size': 32, 'epochs': 20}\n",
      "Testing parameters: {'hidden_dim': 32, 'num_layers': 2, 'learning_rate': 0.01, 'batch_size': 64, 'epochs': 10}\n",
      "Testing parameters: {'hidden_dim': 32, 'num_layers': 2, 'learning_rate': 0.01, 'batch_size': 64, 'epochs': 20}\n",
      "Testing parameters: {'hidden_dim': 32, 'num_layers': 3, 'learning_rate': 0.001, 'batch_size': 16, 'epochs': 10}\n",
      "Testing parameters: {'hidden_dim': 32, 'num_layers': 3, 'learning_rate': 0.001, 'batch_size': 16, 'epochs': 20}\n",
      "Testing parameters: {'hidden_dim': 32, 'num_layers': 3, 'learning_rate': 0.001, 'batch_size': 32, 'epochs': 10}\n",
      "Testing parameters: {'hidden_dim': 32, 'num_layers': 3, 'learning_rate': 0.001, 'batch_size': 32, 'epochs': 20}\n",
      "Testing parameters: {'hidden_dim': 32, 'num_layers': 3, 'learning_rate': 0.001, 'batch_size': 64, 'epochs': 10}\n",
      "Testing parameters: {'hidden_dim': 32, 'num_layers': 3, 'learning_rate': 0.001, 'batch_size': 64, 'epochs': 20}\n",
      "Testing parameters: {'hidden_dim': 32, 'num_layers': 3, 'learning_rate': 0.01, 'batch_size': 16, 'epochs': 10}\n",
      "Testing parameters: {'hidden_dim': 32, 'num_layers': 3, 'learning_rate': 0.01, 'batch_size': 16, 'epochs': 20}\n",
      "Testing parameters: {'hidden_dim': 32, 'num_layers': 3, 'learning_rate': 0.01, 'batch_size': 32, 'epochs': 10}\n",
      "Testing parameters: {'hidden_dim': 32, 'num_layers': 3, 'learning_rate': 0.01, 'batch_size': 32, 'epochs': 20}\n",
      "Testing parameters: {'hidden_dim': 32, 'num_layers': 3, 'learning_rate': 0.01, 'batch_size': 64, 'epochs': 10}\n",
      "Testing parameters: {'hidden_dim': 32, 'num_layers': 3, 'learning_rate': 0.01, 'batch_size': 64, 'epochs': 20}\n",
      "Testing parameters: {'hidden_dim': 64, 'num_layers': 1, 'learning_rate': 0.001, 'batch_size': 16, 'epochs': 10}\n",
      "Testing parameters: {'hidden_dim': 64, 'num_layers': 1, 'learning_rate': 0.001, 'batch_size': 16, 'epochs': 20}\n",
      "Testing parameters: {'hidden_dim': 64, 'num_layers': 1, 'learning_rate': 0.001, 'batch_size': 32, 'epochs': 10}\n",
      "Testing parameters: {'hidden_dim': 64, 'num_layers': 1, 'learning_rate': 0.001, 'batch_size': 32, 'epochs': 20}\n",
      "Testing parameters: {'hidden_dim': 64, 'num_layers': 1, 'learning_rate': 0.001, 'batch_size': 64, 'epochs': 10}\n",
      "Testing parameters: {'hidden_dim': 64, 'num_layers': 1, 'learning_rate': 0.001, 'batch_size': 64, 'epochs': 20}\n",
      "Testing parameters: {'hidden_dim': 64, 'num_layers': 1, 'learning_rate': 0.01, 'batch_size': 16, 'epochs': 10}\n",
      "Testing parameters: {'hidden_dim': 64, 'num_layers': 1, 'learning_rate': 0.01, 'batch_size': 16, 'epochs': 20}\n",
      "Testing parameters: {'hidden_dim': 64, 'num_layers': 1, 'learning_rate': 0.01, 'batch_size': 32, 'epochs': 10}\n",
      "Testing parameters: {'hidden_dim': 64, 'num_layers': 1, 'learning_rate': 0.01, 'batch_size': 32, 'epochs': 20}\n",
      "Testing parameters: {'hidden_dim': 64, 'num_layers': 1, 'learning_rate': 0.01, 'batch_size': 64, 'epochs': 10}\n",
      "Testing parameters: {'hidden_dim': 64, 'num_layers': 1, 'learning_rate': 0.01, 'batch_size': 64, 'epochs': 20}\n",
      "Testing parameters: {'hidden_dim': 64, 'num_layers': 2, 'learning_rate': 0.001, 'batch_size': 16, 'epochs': 10}\n",
      "Testing parameters: {'hidden_dim': 64, 'num_layers': 2, 'learning_rate': 0.001, 'batch_size': 16, 'epochs': 20}\n",
      "Testing parameters: {'hidden_dim': 64, 'num_layers': 2, 'learning_rate': 0.001, 'batch_size': 32, 'epochs': 10}\n",
      "Testing parameters: {'hidden_dim': 64, 'num_layers': 2, 'learning_rate': 0.001, 'batch_size': 32, 'epochs': 20}\n",
      "Testing parameters: {'hidden_dim': 64, 'num_layers': 2, 'learning_rate': 0.001, 'batch_size': 64, 'epochs': 10}\n",
      "Testing parameters: {'hidden_dim': 64, 'num_layers': 2, 'learning_rate': 0.001, 'batch_size': 64, 'epochs': 20}\n",
      "Testing parameters: {'hidden_dim': 64, 'num_layers': 2, 'learning_rate': 0.01, 'batch_size': 16, 'epochs': 10}\n",
      "Testing parameters: {'hidden_dim': 64, 'num_layers': 2, 'learning_rate': 0.01, 'batch_size': 16, 'epochs': 20}\n",
      "Testing parameters: {'hidden_dim': 64, 'num_layers': 2, 'learning_rate': 0.01, 'batch_size': 32, 'epochs': 10}\n",
      "Testing parameters: {'hidden_dim': 64, 'num_layers': 2, 'learning_rate': 0.01, 'batch_size': 32, 'epochs': 20}\n",
      "Testing parameters: {'hidden_dim': 64, 'num_layers': 2, 'learning_rate': 0.01, 'batch_size': 64, 'epochs': 10}\n",
      "Testing parameters: {'hidden_dim': 64, 'num_layers': 2, 'learning_rate': 0.01, 'batch_size': 64, 'epochs': 20}\n",
      "Testing parameters: {'hidden_dim': 64, 'num_layers': 3, 'learning_rate': 0.001, 'batch_size': 16, 'epochs': 10}\n",
      "Testing parameters: {'hidden_dim': 64, 'num_layers': 3, 'learning_rate': 0.001, 'batch_size': 16, 'epochs': 20}\n",
      "Testing parameters: {'hidden_dim': 64, 'num_layers': 3, 'learning_rate': 0.001, 'batch_size': 32, 'epochs': 10}\n",
      "Testing parameters: {'hidden_dim': 64, 'num_layers': 3, 'learning_rate': 0.001, 'batch_size': 32, 'epochs': 20}\n",
      "Testing parameters: {'hidden_dim': 64, 'num_layers': 3, 'learning_rate': 0.001, 'batch_size': 64, 'epochs': 10}\n",
      "Testing parameters: {'hidden_dim': 64, 'num_layers': 3, 'learning_rate': 0.001, 'batch_size': 64, 'epochs': 20}\n",
      "Testing parameters: {'hidden_dim': 64, 'num_layers': 3, 'learning_rate': 0.01, 'batch_size': 16, 'epochs': 10}\n",
      "Testing parameters: {'hidden_dim': 64, 'num_layers': 3, 'learning_rate': 0.01, 'batch_size': 16, 'epochs': 20}\n",
      "Testing parameters: {'hidden_dim': 64, 'num_layers': 3, 'learning_rate': 0.01, 'batch_size': 32, 'epochs': 10}\n",
      "Testing parameters: {'hidden_dim': 64, 'num_layers': 3, 'learning_rate': 0.01, 'batch_size': 32, 'epochs': 20}\n",
      "Testing parameters: {'hidden_dim': 64, 'num_layers': 3, 'learning_rate': 0.01, 'batch_size': 64, 'epochs': 10}\n",
      "Testing parameters: {'hidden_dim': 64, 'num_layers': 3, 'learning_rate': 0.01, 'batch_size': 64, 'epochs': 20}\n",
      "Testing parameters: {'hidden_dim': 128, 'num_layers': 1, 'learning_rate': 0.001, 'batch_size': 16, 'epochs': 10}\n",
      "Testing parameters: {'hidden_dim': 128, 'num_layers': 1, 'learning_rate': 0.001, 'batch_size': 16, 'epochs': 20}\n",
      "Testing parameters: {'hidden_dim': 128, 'num_layers': 1, 'learning_rate': 0.001, 'batch_size': 32, 'epochs': 10}\n",
      "Testing parameters: {'hidden_dim': 128, 'num_layers': 1, 'learning_rate': 0.001, 'batch_size': 32, 'epochs': 20}\n",
      "Testing parameters: {'hidden_dim': 128, 'num_layers': 1, 'learning_rate': 0.001, 'batch_size': 64, 'epochs': 10}\n",
      "Testing parameters: {'hidden_dim': 128, 'num_layers': 1, 'learning_rate': 0.001, 'batch_size': 64, 'epochs': 20}\n",
      "Testing parameters: {'hidden_dim': 128, 'num_layers': 1, 'learning_rate': 0.01, 'batch_size': 16, 'epochs': 10}\n",
      "Testing parameters: {'hidden_dim': 128, 'num_layers': 1, 'learning_rate': 0.01, 'batch_size': 16, 'epochs': 20}\n",
      "Testing parameters: {'hidden_dim': 128, 'num_layers': 1, 'learning_rate': 0.01, 'batch_size': 32, 'epochs': 10}\n",
      "Testing parameters: {'hidden_dim': 128, 'num_layers': 1, 'learning_rate': 0.01, 'batch_size': 32, 'epochs': 20}\n",
      "Testing parameters: {'hidden_dim': 128, 'num_layers': 1, 'learning_rate': 0.01, 'batch_size': 64, 'epochs': 10}\n",
      "Testing parameters: {'hidden_dim': 128, 'num_layers': 1, 'learning_rate': 0.01, 'batch_size': 64, 'epochs': 20}\n",
      "Testing parameters: {'hidden_dim': 128, 'num_layers': 2, 'learning_rate': 0.001, 'batch_size': 16, 'epochs': 10}\n",
      "Testing parameters: {'hidden_dim': 128, 'num_layers': 2, 'learning_rate': 0.001, 'batch_size': 16, 'epochs': 20}\n",
      "Testing parameters: {'hidden_dim': 128, 'num_layers': 2, 'learning_rate': 0.001, 'batch_size': 32, 'epochs': 10}\n",
      "Testing parameters: {'hidden_dim': 128, 'num_layers': 2, 'learning_rate': 0.001, 'batch_size': 32, 'epochs': 20}\n",
      "Testing parameters: {'hidden_dim': 128, 'num_layers': 2, 'learning_rate': 0.001, 'batch_size': 64, 'epochs': 10}\n",
      "Testing parameters: {'hidden_dim': 128, 'num_layers': 2, 'learning_rate': 0.001, 'batch_size': 64, 'epochs': 20}\n",
      "Testing parameters: {'hidden_dim': 128, 'num_layers': 2, 'learning_rate': 0.01, 'batch_size': 16, 'epochs': 10}\n",
      "Testing parameters: {'hidden_dim': 128, 'num_layers': 2, 'learning_rate': 0.01, 'batch_size': 16, 'epochs': 20}\n",
      "Testing parameters: {'hidden_dim': 128, 'num_layers': 2, 'learning_rate': 0.01, 'batch_size': 32, 'epochs': 10}\n",
      "Testing parameters: {'hidden_dim': 128, 'num_layers': 2, 'learning_rate': 0.01, 'batch_size': 32, 'epochs': 20}\n",
      "Testing parameters: {'hidden_dim': 128, 'num_layers': 2, 'learning_rate': 0.01, 'batch_size': 64, 'epochs': 10}\n",
      "Testing parameters: {'hidden_dim': 128, 'num_layers': 2, 'learning_rate': 0.01, 'batch_size': 64, 'epochs': 20}\n",
      "Testing parameters: {'hidden_dim': 128, 'num_layers': 3, 'learning_rate': 0.001, 'batch_size': 16, 'epochs': 10}\n",
      "Testing parameters: {'hidden_dim': 128, 'num_layers': 3, 'learning_rate': 0.001, 'batch_size': 16, 'epochs': 20}\n",
      "Testing parameters: {'hidden_dim': 128, 'num_layers': 3, 'learning_rate': 0.001, 'batch_size': 32, 'epochs': 10}\n",
      "Testing parameters: {'hidden_dim': 128, 'num_layers': 3, 'learning_rate': 0.001, 'batch_size': 32, 'epochs': 20}\n",
      "Testing parameters: {'hidden_dim': 128, 'num_layers': 3, 'learning_rate': 0.001, 'batch_size': 64, 'epochs': 10}\n",
      "Testing parameters: {'hidden_dim': 128, 'num_layers': 3, 'learning_rate': 0.001, 'batch_size': 64, 'epochs': 20}\n",
      "Testing parameters: {'hidden_dim': 128, 'num_layers': 3, 'learning_rate': 0.01, 'batch_size': 16, 'epochs': 10}\n",
      "Testing parameters: {'hidden_dim': 128, 'num_layers': 3, 'learning_rate': 0.01, 'batch_size': 16, 'epochs': 20}\n",
      "Testing parameters: {'hidden_dim': 128, 'num_layers': 3, 'learning_rate': 0.01, 'batch_size': 32, 'epochs': 10}\n",
      "Testing parameters: {'hidden_dim': 128, 'num_layers': 3, 'learning_rate': 0.01, 'batch_size': 32, 'epochs': 20}\n",
      "Testing parameters: {'hidden_dim': 128, 'num_layers': 3, 'learning_rate': 0.01, 'batch_size': 64, 'epochs': 10}\n",
      "Testing parameters: {'hidden_dim': 128, 'num_layers': 3, 'learning_rate': 0.01, 'batch_size': 64, 'epochs': 20}\n",
      "Best parameters for MLP: {'hidden_dim': 128, 'num_layers': 2, 'learning_rate': 0.001, 'batch_size': 16, 'epochs': 20}\n",
      "Best cross-validation score for MLP: 0.8615\n"
     ]
    }
   ],
   "source": [
    "param_grids = {\n",
    "    'RandomForest': {\n",
    "        'n_estimators': [50, 100, 200],\n",
    "        'max_depth': [None, 5, 8, 10, 15],\n",
    "        'min_samples_split': [5, 10, 15]\n",
    "    },\n",
    "    'XGBoost': {\n",
    "        'max_depth': [1, 3, 5, 7, 10, 20, 30],\n",
    "        'n_estimators': [50, 100, 200],\n",
    "        'subsample': [0.6, 0.8, 1],\n",
    "        'learning_rate': [0.05, 0.1, 0.5,1]\n",
    "    },\n",
    "    'LGBM': {\n",
    "        'n_estimators': [50, 100, 200],\n",
    "        'max_depth': [None, 5, 10, 20, 30, 40],\n",
    "        'learning_rate': [0.05, 0.1, 0.5,1]\n",
    "    },\n",
    "    'DecisionTree': {\n",
    "        'max_depth': [None, 10, 20, 30, 40],\n",
    "        'min_samples_split': [2, 5, 10]\n",
    "    },\n",
    "    'KNN': {\n",
    "        'n_neighbors': [3, 5, 7],\n",
    "        'weights': ['uniform', 'distance']\n",
    "    },\n",
    "    'SVC': {\n",
    "        'C': [0.1, 1, 10],\n",
    "        'kernel': ['linear', 'rbf', 'poly'],\n",
    "        'gamma': ['scale', 'auto']\n",
    "    },\n",
    "    'LogisticRegression': {\n",
    "        'C': [0.01, 0.1, 1, 10],\n",
    "        'penalty': ['l1', 'l2'],\n",
    "        'solver': ['liblinear', 'saga']\n",
    "    },\n",
    "    'CatBoost': {\n",
    "        'iterations': [100, 200],\n",
    "        'learning_rate': [0.05, 0.1,.5,1],\n",
    "        'depth': [6, 10, 15, 20, 25, 30, 40]\n",
    "    },\n",
    "    'GradientBoosting': {\n",
    "        'n_estimators': [50, 100, 200],\n",
    "        'learning_rate': [0.05, 0.1,.5,1],\n",
    "        'max_depth': [None, 10, 20, 30, 40]\n",
    "    },\n",
    "    'AdaBoost': {\n",
    "        'n_estimators': [50, 100, 200],\n",
    "        'learning_rate': [0.05, 0.1,.5,1]\n",
    "    },\n",
    "    'NaiveBayes': {},\n",
    "    'MLP': {\n",
    "    'hidden_dim': [32, 64, 128],\n",
    "    'num_layers': [1, 2, 3],\n",
    "    'learning_rate': [0.001, 0.01],\n",
    "    'batch_size': [16, 32, 64],\n",
    "    'epochs': [10, 20]  # Adjust based on your training time constraints\n",
    "}\n",
    "}\n",
    "\n",
    "best_results = []\n",
    "\n",
    "# Existing model tuning with GridSearchCV\n",
    "for model_name, model in models.items():\n",
    "    if model_name == 'MLP':\n",
    "        print(f\"\\nPerforming GridSearch for {model_name}...\")\n",
    "        best_score = 0\n",
    "        best_params = None\n",
    "        \n",
    "        # Manual grid search for MLP\n",
    "        for hidden_dim in param_grids['MLP']['hidden_dim']:\n",
    "            for num_layers in param_grids['MLP']['num_layers']:\n",
    "                for learning_rate in param_grids['MLP']['learning_rate']:\n",
    "                    for batch_size in param_grids['MLP']['batch_size']:\n",
    "                        for epochs in param_grids['MLP']['epochs']:\n",
    "                            params = {\n",
    "                                'hidden_dim': hidden_dim,\n",
    "                                'num_layers': num_layers,\n",
    "                                'learning_rate': learning_rate,\n",
    "                                'batch_size': batch_size,\n",
    "                                'epochs': epochs\n",
    "                            }\n",
    "                            print(f\"Testing parameters: {params}\")\n",
    "                            accuracy, trained_model = train_and_evaluate_mlp(X_train, y_train, params)\n",
    "                            \n",
    "                            if accuracy > best_score:\n",
    "                                best_score = accuracy\n",
    "                                best_params = params\n",
    "                                best_mlp_model = trained_model\n",
    "                                \n",
    "        best_results.append({'Model': model_name, 'Best Score': best_score, 'Best Params': best_params})\n",
    "        print(f\"Best parameters for {model_name}: {best_params}\")\n",
    "        print(f\"Best cross-validation score for {model_name}: {best_score:.4f}\")\n",
    "    elif model_name == 'SVC':\n",
    "        continue\n",
    "    else:\n",
    "        print(f\"\\nPerforming GridSearchCV for {model_name}...\")\n",
    "        grid_search = GridSearchCV(estimator=model, param_grid=param_grids[model_name], cv=5, scoring='accuracy', verbose=0, n_jobs=-1)\n",
    "        grid_search.fit(X_train, y_train)\n",
    "        best_params = grid_search.best_params_\n",
    "        best_score = grid_search.best_score_\n",
    "        best_results.append({'Model': model_name, 'Best Score': best_score, 'Best Params': best_params})\n",
    "        print(f\"Best parameters for {model_name}: {best_params}\")\n",
    "        print(f\"Best cross-validation score for {model_name}: {best_score:.4f}\")"
   ]
  },
  {
   "cell_type": "code",
   "execution_count": 94,
   "metadata": {},
   "outputs": [
    {
     "data": {
      "text/html": [
       "<div>\n",
       "<style scoped>\n",
       "    .dataframe tbody tr th:only-of-type {\n",
       "        vertical-align: middle;\n",
       "    }\n",
       "\n",
       "    .dataframe tbody tr th {\n",
       "        vertical-align: top;\n",
       "    }\n",
       "\n",
       "    .dataframe thead th {\n",
       "        text-align: right;\n",
       "    }\n",
       "</style>\n",
       "<table border=\"1\" class=\"dataframe\">\n",
       "  <thead>\n",
       "    <tr style=\"text-align: right;\">\n",
       "      <th></th>\n",
       "      <th>Model</th>\n",
       "      <th>Best Score</th>\n",
       "      <th>Best Params</th>\n",
       "    </tr>\n",
       "  </thead>\n",
       "  <tbody>\n",
       "    <tr>\n",
       "      <th>10</th>\n",
       "      <td>MLP</td>\n",
       "      <td>0.861460</td>\n",
       "      <td>{'hidden_dim': 128, 'num_layers': 2, 'learning...</td>\n",
       "    </tr>\n",
       "    <tr>\n",
       "      <th>6</th>\n",
       "      <td>CatBoost</td>\n",
       "      <td>0.806288</td>\n",
       "      <td>{'depth': 6, 'iterations': 100, 'learning_rate...</td>\n",
       "    </tr>\n",
       "    <tr>\n",
       "      <th>1</th>\n",
       "      <td>XGBoost</td>\n",
       "      <td>0.805477</td>\n",
       "      <td>{'learning_rate': 0.1, 'max_depth': 1, 'n_esti...</td>\n",
       "    </tr>\n",
       "    <tr>\n",
       "      <th>8</th>\n",
       "      <td>AdaBoost</td>\n",
       "      <td>0.805477</td>\n",
       "      <td>{'learning_rate': 0.1, 'n_estimators': 200}</td>\n",
       "    </tr>\n",
       "    <tr>\n",
       "      <th>0</th>\n",
       "      <td>RandomForest</td>\n",
       "      <td>0.804462</td>\n",
       "      <td>{'max_depth': 8, 'min_samples_split': 15, 'n_e...</td>\n",
       "    </tr>\n",
       "    <tr>\n",
       "      <th>2</th>\n",
       "      <td>LGBM</td>\n",
       "      <td>0.802840</td>\n",
       "      <td>{'learning_rate': 0.05, 'max_depth': None, 'n_...</td>\n",
       "    </tr>\n",
       "    <tr>\n",
       "      <th>7</th>\n",
       "      <td>GradientBoosting</td>\n",
       "      <td>0.786613</td>\n",
       "      <td>{'learning_rate': 0.1, 'max_depth': 10, 'n_est...</td>\n",
       "    </tr>\n",
       "    <tr>\n",
       "      <th>4</th>\n",
       "      <td>KNN</td>\n",
       "      <td>0.768357</td>\n",
       "      <td>{'n_neighbors': 7, 'weights': 'uniform'}</td>\n",
       "    </tr>\n",
       "    <tr>\n",
       "      <th>3</th>\n",
       "      <td>DecisionTree</td>\n",
       "      <td>0.765923</td>\n",
       "      <td>{'max_depth': 10, 'min_samples_split': 5}</td>\n",
       "    </tr>\n",
       "    <tr>\n",
       "      <th>5</th>\n",
       "      <td>LogisticRegression</td>\n",
       "      <td>0.751318</td>\n",
       "      <td>{'C': 0.1, 'penalty': 'l2', 'solver': 'libline...</td>\n",
       "    </tr>\n",
       "    <tr>\n",
       "      <th>9</th>\n",
       "      <td>NaiveBayes</td>\n",
       "      <td>0.663286</td>\n",
       "      <td>{}</td>\n",
       "    </tr>\n",
       "  </tbody>\n",
       "</table>\n",
       "</div>"
      ],
      "text/plain": [
       "                 Model  Best Score  \\\n",
       "10                 MLP    0.861460   \n",
       "6             CatBoost    0.806288   \n",
       "1              XGBoost    0.805477   \n",
       "8             AdaBoost    0.805477   \n",
       "0         RandomForest    0.804462   \n",
       "2                 LGBM    0.802840   \n",
       "7     GradientBoosting    0.786613   \n",
       "4                  KNN    0.768357   \n",
       "3         DecisionTree    0.765923   \n",
       "5   LogisticRegression    0.751318   \n",
       "9           NaiveBayes    0.663286   \n",
       "\n",
       "                                          Best Params  \n",
       "10  {'hidden_dim': 128, 'num_layers': 2, 'learning...  \n",
       "6   {'depth': 6, 'iterations': 100, 'learning_rate...  \n",
       "1   {'learning_rate': 0.1, 'max_depth': 1, 'n_esti...  \n",
       "8         {'learning_rate': 0.1, 'n_estimators': 200}  \n",
       "0   {'max_depth': 8, 'min_samples_split': 15, 'n_e...  \n",
       "2   {'learning_rate': 0.05, 'max_depth': None, 'n_...  \n",
       "7   {'learning_rate': 0.1, 'max_depth': 10, 'n_est...  \n",
       "4            {'n_neighbors': 7, 'weights': 'uniform'}  \n",
       "3           {'max_depth': 10, 'min_samples_split': 5}  \n",
       "5   {'C': 0.1, 'penalty': 'l2', 'solver': 'libline...  \n",
       "9                                                  {}  "
      ]
     },
     "execution_count": 94,
     "metadata": {},
     "output_type": "execute_result"
    }
   ],
   "source": [
    "best_results_df = pd.DataFrame(best_results)\n",
    "best_results_df = best_results_df.sort_values(by='Best Score', ascending=False)\n",
    "best_results_df"
   ]
  },
  {
   "cell_type": "code",
   "execution_count": null,
   "metadata": {},
   "outputs": [
    {
     "name": "stdout",
     "output_type": "stream",
     "text": [
      "\n",
      "Best model : MLP\n",
      "\n",
      "Best Parameters : {'hidden_dim': 128, 'num_layers': 2, 'learning_rate': 0.001, 'batch_size': 16, 'epochs': 20}\n"
     ]
    }
   ],
   "source": [
    "best_model_name, best_model_param = best_results_df.iloc[0]['Model'], best_results_df.iloc[0]['Best Params']\n",
    "print(f\"\\nBest model : {best_model_name}\")\n",
    "print(f\"\\nBest Parameters : {best_model_param}\")"
   ]
  },
  {
   "cell_type": "code",
   "execution_count": 100,
   "metadata": {},
   "outputs": [
    {
     "data": {
      "text/plain": [
       "{'hidden_dim': 128,\n",
       " 'num_layers': 2,\n",
       " 'learning_rate': 0.001,\n",
       " 'batch_size': 16,\n",
       " 'epochs': 20}"
      ]
     },
     "execution_count": 100,
     "metadata": {},
     "output_type": "execute_result"
    }
   ],
   "source": [
    "best_model_param"
   ]
  },
  {
   "cell_type": "markdown",
   "metadata": {},
   "source": [
    "## Using the best model to perform confusion matrix, AUC, and Evaluate Metrics"
   ]
  },
  {
   "cell_type": "code",
   "execution_count": 105,
   "metadata": {},
   "outputs": [
    {
     "name": "stdout",
     "output_type": "stream",
     "text": [
      "Epoch 1/20, Loss: 0.5165\n",
      "Epoch 2/20, Loss: 0.4991\n",
      "Epoch 3/20, Loss: 0.4955\n",
      "Epoch 4/20, Loss: 0.4932\n",
      "Epoch 5/20, Loss: 0.4899\n",
      "Epoch 6/20, Loss: 0.4865\n",
      "Epoch 7/20, Loss: 0.4837\n",
      "Epoch 8/20, Loss: 0.4829\n",
      "Epoch 9/20, Loss: 0.4808\n",
      "Epoch 10/20, Loss: 0.4768\n",
      "Epoch 11/20, Loss: 0.4750\n",
      "Epoch 12/20, Loss: 0.4733\n",
      "Epoch 13/20, Loss: 0.4733\n",
      "Epoch 14/20, Loss: 0.4723\n",
      "Epoch 15/20, Loss: 0.4674\n",
      "Epoch 16/20, Loss: 0.4662\n",
      "Epoch 17/20, Loss: 0.4628\n",
      "Epoch 18/20, Loss: 0.4621\n",
      "Epoch 19/20, Loss: 0.4585\n",
      "Epoch 20/20, Loss: 0.4586\n",
      "Training Accuracy: 0.86\n",
      "Training Precision: 0.80\n",
      "Training Recall: 0.61\n",
      "Training F1-Score: 0.70\n",
      "---\n",
      "Test Accuracy: 0.79\n",
      "Test Precision: 0.64\n",
      "Test Recall: 0.46\n",
      "Test F1-Score: 0.53\n"
     ]
    },
    {
     "data": {
      "application/vnd.plotly.v1+json": {
       "config": {
        "plotlyServerURL": "https://plot.ly"
       },
       "data": [
        {
         "hovertemplate": "False Positive Rate=%{x}<br>True Positive Rate=%{y}<extra></extra>",
         "legendgroup": "",
         "line": {
          "color": "#636efa",
          "dash": "solid"
         },
         "marker": {
          "symbol": "circle"
         },
         "mode": "lines",
         "name": "",
         "orientation": "v",
         "showlegend": false,
         "type": "scatter",
         "x": [
          0,
          0,
          0,
          0.001288659793814433,
          0.001288659793814433,
          0.0019329896907216496,
          0.0019329896907216496,
          0.002577319587628866,
          0.002577319587628866,
          0.0032216494845360823,
          0.0032216494845360823,
          0.003865979381443299,
          0.003865979381443299,
          0.005798969072164949,
          0.005798969072164949,
          0.006443298969072165,
          0.006443298969072165,
          0.007087628865979381,
          0.007087628865979381,
          0.007731958762886598,
          0.007731958762886598,
          0.008376288659793814,
          0.008376288659793814,
          0.00902061855670103,
          0.00902061855670103,
          0.01095360824742268,
          0.01095360824742268,
          0.011597938144329897,
          0.011597938144329897,
          0.012242268041237113,
          0.012242268041237113,
          0.014819587628865979,
          0.014819587628865979,
          0.015463917525773196,
          0.015463917525773196,
          0.01610824742268041,
          0.01610824742268041,
          0.01675257731958763,
          0.01675257731958763,
          0.01804123711340206,
          0.01804123711340206,
          0.018685567010309278,
          0.018685567010309278,
          0.01997422680412371,
          0.01997422680412371,
          0.021262886597938145,
          0.021262886597938145,
          0.023195876288659795,
          0.023195876288659795,
          0.025128865979381444,
          0.025128865979381444,
          0.02577319587628866,
          0.02577319587628866,
          0.027061855670103094,
          0.027061855670103094,
          0.028994845360824743,
          0.028994845360824743,
          0.030283505154639175,
          0.030283505154639175,
          0.030927835051546393,
          0.030927835051546393,
          0.03221649484536082,
          0.03221649484536082,
          0.03286082474226804,
          0.03286082474226804,
          0.03350515463917526,
          0.03350515463917526,
          0.03414948453608247,
          0.03414948453608247,
          0.03608247422680412,
          0.03608247422680412,
          0.03672680412371134,
          0.03672680412371134,
          0.03801546391752577,
          0.03801546391752577,
          0.03865979381443299,
          0.03865979381443299,
          0.039304123711340205,
          0.039304123711340205,
          0.04059278350515464,
          0.04059278350515464,
          0.041237113402061855,
          0.041237113402061855,
          0.04188144329896907,
          0.04188144329896907,
          0.04252577319587629,
          0.04252577319587629,
          0.043170103092783504,
          0.043170103092783504,
          0.04381443298969072,
          0.04381443298969072,
          0.04445876288659794,
          0.04445876288659794,
          0.04574742268041237,
          0.04574742268041237,
          0.047036082474226804,
          0.047036082474226804,
          0.04768041237113402,
          0.04768041237113402,
          0.04832474226804124,
          0.04832474226804124,
          0.04896907216494845,
          0.04896907216494845,
          0.04961340206185567,
          0.04961340206185567,
          0.05025773195876289,
          0.05025773195876289,
          0.0509020618556701,
          0.0509020618556701,
          0.05154639175257732,
          0.05154639175257732,
          0.05283505154639175,
          0.053479381443298966,
          0.053479381443298966,
          0.05412371134020619,
          0.05412371134020619,
          0.0547680412371134,
          0.0547680412371134,
          0.05670103092783505,
          0.05670103092783505,
          0.05798969072164949,
          0.05798969072164949,
          0.059278350515463915,
          0.059278350515463915,
          0.059922680412371136,
          0.059922680412371136,
          0.06056701030927835,
          0.06056701030927835,
          0.061211340206185565,
          0.061211340206185565,
          0.061855670103092786,
          0.061855670103092786,
          0.06314432989690721,
          0.06314432989690721,
          0.06572164948453608,
          0.06572164948453608,
          0.0663659793814433,
          0.0663659793814433,
          0.06958762886597938,
          0.06958762886597938,
          0.0702319587628866,
          0.0702319587628866,
          0.07087628865979381,
          0.07087628865979381,
          0.07152061855670103,
          0.07152061855670103,
          0.07216494845360824,
          0.07216494845360824,
          0.07280927835051547,
          0.07280927835051547,
          0.07345360824742268,
          0.07345360824742268,
          0.07474226804123711,
          0.07474226804123711,
          0.07538659793814433,
          0.07538659793814433,
          0.07603092783505154,
          0.07603092783505154,
          0.07667525773195877,
          0.07667525773195877,
          0.07731958762886598,
          0.07731958762886598,
          0.0779639175257732,
          0.0779639175257732,
          0.08118556701030928,
          0.08118556701030928,
          0.0818298969072165,
          0.0818298969072165,
          0.08440721649484537,
          0.08440721649484537,
          0.0856958762886598,
          0.0856958762886598,
          0.08762886597938144,
          0.08762886597938144,
          0.08891752577319588,
          0.08891752577319588,
          0.0895618556701031,
          0.0895618556701031,
          0.09020618556701031,
          0.09020618556701031,
          0.09085051546391752,
          0.09085051546391752,
          0.09149484536082474,
          0.09149484536082474,
          0.09213917525773196,
          0.09213917525773196,
          0.09278350515463918,
          0.09278350515463918,
          0.09342783505154639,
          0.09342783505154639,
          0.09536082474226804,
          0.09536082474226804,
          0.09600515463917526,
          0.09600515463917526,
          0.09664948453608248,
          0.09664948453608248,
          0.09922680412371133,
          0.09922680412371133,
          0.10051546391752578,
          0.10051546391752578,
          0.10115979381443299,
          0.10115979381443299,
          0.10309278350515463,
          0.10309278350515463,
          0.10502577319587629,
          0.10502577319587629,
          0.1056701030927835,
          0.1056701030927835,
          0.10631443298969072,
          0.10631443298969072,
          0.10824742268041238,
          0.10824742268041238,
          0.1095360824742268,
          0.1095360824742268,
          0.11146907216494846,
          0.11146907216494846,
          0.1134020618556701,
          0.1134020618556701,
          0.11533505154639176,
          0.11533505154639176,
          0.11597938144329897,
          0.11597938144329897,
          0.12048969072164949,
          0.12048969072164949,
          0.1211340206185567,
          0.1211340206185567,
          0.12177835051546392,
          0.12177835051546392,
          0.12242268041237113,
          0.12242268041237113,
          0.125,
          0.125,
          0.12693298969072164,
          0.12693298969072164,
          0.12951030927835053,
          0.12951030927835053,
          0.13079896907216496,
          0.13079896907216496,
          0.13144329896907217,
          0.13144329896907217,
          0.13208762886597938,
          0.13208762886597938,
          0.1333762886597938,
          0.1333762886597938,
          0.13402061855670103,
          0.13402061855670103,
          0.13466494845360824,
          0.13466494845360824,
          0.13595360824742267,
          0.13595360824742267,
          0.13724226804123713,
          0.13724226804123713,
          0.13788659793814434,
          0.13788659793814434,
          0.13853092783505155,
          0.13853092783505155,
          0.1404639175257732,
          0.1404639175257732,
          0.14368556701030927,
          0.14368556701030927,
          0.14497422680412372,
          0.14497422680412372,
          0.14561855670103094,
          0.14561855670103094,
          0.14690721649484537,
          0.14690721649484537,
          0.14948453608247422,
          0.14948453608247422,
          0.15012886597938144,
          0.15012886597938144,
          0.15141752577319587,
          0.15141752577319587,
          0.15206185567010308,
          0.15206185567010308,
          0.1559278350515464,
          0.1559278350515464,
          0.1565721649484536,
          0.1565721649484536,
          0.15786082474226804,
          0.15786082474226804,
          0.15914948453608246,
          0.15914948453608246,
          0.16043814432989692,
          0.16043814432989692,
          0.16172680412371135,
          0.16172680412371135,
          0.16301546391752578,
          0.16301546391752578,
          0.16494845360824742,
          0.16494845360824742,
          0.16752577319587628,
          0.16752577319587628,
          0.16817010309278352,
          0.16817010309278352,
          0.17461340206185566,
          0.17461340206185566,
          0.17654639175257733,
          0.17654639175257733,
          0.17719072164948454,
          0.17719072164948454,
          0.17783505154639176,
          0.17783505154639176,
          0.1797680412371134,
          0.1797680412371134,
          0.18041237113402062,
          0.18041237113402062,
          0.18234536082474226,
          0.18234536082474226,
          0.18298969072164947,
          0.18298969072164947,
          0.18556701030927836,
          0.18556701030927836,
          0.18621134020618557,
          0.18621134020618557,
          0.18685567010309279,
          0.18685567010309279,
          0.19136597938144329,
          0.19136597938144329,
          0.19201030927835053,
          0.19201030927835053,
          0.1958762886597938,
          0.1958762886597938,
          0.19652061855670103,
          0.19652061855670103,
          0.19974226804123713,
          0.19974226804123713,
          0.20038659793814434,
          0.20038659793814434,
          0.20231958762886598,
          0.20231958762886598,
          0.2029639175257732,
          0.2029639175257732,
          0.20425257731958762,
          0.20425257731958762,
          0.20554123711340205,
          0.20554123711340205,
          0.20618556701030927,
          0.20618556701030927,
          0.20682989690721648,
          0.20682989690721648,
          0.20876288659793815,
          0.20876288659793815,
          0.211340206185567,
          0.211340206185567,
          0.21262886597938144,
          0.21262886597938144,
          0.21391752577319587,
          0.21391752577319587,
          0.21456185567010308,
          0.21456185567010308,
          0.21649484536082475,
          0.21649484536082475,
          0.21713917525773196,
          0.21713917525773196,
          0.2184278350515464,
          0.2184278350515464,
          0.2190721649484536,
          0.2190721649484536,
          0.22229381443298968,
          0.22229381443298968,
          0.22293814432989692,
          0.22293814432989692,
          0.226159793814433,
          0.226159793814433,
          0.22873711340206185,
          0.22873711340206185,
          0.22938144329896906,
          0.22938144329896906,
          0.23260309278350516,
          0.23260309278350516,
          0.2338917525773196,
          0.2338917525773196,
          0.23840206185567012,
          0.23840206185567012,
          0.23969072164948454,
          0.23969072164948454,
          0.2422680412371134,
          0.2422680412371134,
          0.24935567010309279,
          0.24935567010309279,
          0.25193298969072164,
          0.25193298969072164,
          0.2551546391752577,
          0.2551546391752577,
          0.25644329896907214,
          0.25644329896907214,
          0.25773195876288657,
          0.25773195876288657,
          0.25837628865979384,
          0.25837628865979384,
          0.25902061855670105,
          0.25902061855670105,
          0.2603092783505155,
          0.2603092783505155,
          0.264819587628866,
          0.264819587628866,
          0.26739690721649484,
          0.26739690721649484,
          0.2699742268041237,
          0.2699742268041237,
          0.27190721649484534,
          0.27190721649484534,
          0.2757731958762887,
          0.2757731958762887,
          0.2777061855670103,
          0.2777061855670103,
          0.2809278350515464,
          0.2809278350515464,
          0.28414948453608246,
          0.28414948453608246,
          0.28930412371134023,
          0.28930412371134023,
          0.2970360824742268,
          0.2970360824742268,
          0.29832474226804123,
          0.29832474226804123,
          0.29961340206185566,
          0.29961340206185566,
          0.30670103092783507,
          0.30670103092783507,
          0.3073453608247423,
          0.3073453608247423,
          0.31056701030927836,
          0.31056701030927836,
          0.31443298969072164,
          0.31443298969072164,
          0.31572164948453607,
          0.31572164948453607,
          0.3170103092783505,
          0.3170103092783505,
          0.32216494845360827,
          0.32216494845360827,
          0.3228092783505155,
          0.3228092783505155,
          0.3234536082474227,
          0.3234536082474227,
          0.32538659793814434,
          0.32538659793814434,
          0.3279639175257732,
          0.3279639175257732,
          0.32989690721649484,
          0.32989690721649484,
          0.3331185567010309,
          0.3331185567010309,
          0.33569587628865977,
          0.33569587628865977,
          0.34213917525773196,
          0.34213917525773196,
          0.3434278350515464,
          0.3434278350515464,
          0.3492268041237113,
          0.3492268041237113,
          0.35051546391752575,
          0.35051546391752575,
          0.3543814432989691,
          0.3543814432989691,
          0.3550257731958763,
          0.3550257731958763,
          0.360180412371134,
          0.360180412371134,
          0.36211340206185566,
          0.36211340206185566,
          0.36533505154639173,
          0.36533505154639173,
          0.36597938144329895,
          0.36597938144329895,
          0.36662371134020616,
          0.36662371134020616,
          0.36726804123711343,
          0.36726804123711343,
          0.37628865979381443,
          0.37628865979381443,
          0.37693298969072164,
          0.37693298969072164,
          0.37757731958762886,
          0.37757731958762886,
          0.3788659793814433,
          0.3788659793814433,
          0.4007731958762887,
          0.4007731958762887,
          0.4072164948453608,
          0.4072164948453608,
          0.4259020618556701,
          0.4259020618556701,
          0.4271907216494845,
          0.4271907216494845,
          0.4329896907216495,
          0.4329896907216495,
          0.43878865979381443,
          0.43878865979381443,
          0.44523195876288657,
          0.44523195876288657,
          0.4478092783505155,
          0.4478092783505155,
          0.45167525773195877,
          0.45167525773195877,
          0.4529639175257732,
          0.4529639175257732,
          0.47744845360824745,
          0.47744845360824745,
          0.48260309278350516,
          0.48260309278350516,
          0.4832474226804124,
          0.4832474226804124,
          0.4890463917525773,
          0.4890463917525773,
          0.49033505154639173,
          0.49033505154639173,
          0.49097938144329895,
          0.49097938144329895,
          0.4948453608247423,
          0.4948453608247423,
          0.509020618556701,
          0.509020618556701,
          0.5103092783505154,
          0.5103092783505154,
          0.5128865979381443,
          0.5128865979381443,
          0.5161082474226805,
          0.5161082474226805,
          0.532860824742268,
          0.532860824742268,
          0.5470360824742269,
          0.5470360824742269,
          0.5689432989690721,
          0.5689432989690721,
          0.5753865979381443,
          0.5753865979381443,
          0.5766752577319587,
          0.5766752577319587,
          0.583118556701031,
          0.583118556701031,
          0.5960051546391752,
          0.5960051546391752,
          0.6030927835051546,
          0.6030927835051546,
          0.6050257731958762,
          0.6050257731958762,
          0.6275773195876289,
          0.6275773195876289,
          0.6282216494845361,
          0.6282216494845361,
          0.6288659793814433,
          0.6288659793814433,
          0.6295103092783505,
          0.6301546391752577,
          0.6314432989690721,
          0.6353092783505154,
          0.6353092783505154,
          0.6372422680412371,
          0.6372422680412371,
          0.6378865979381443,
          0.6378865979381443,
          0.6385309278350515,
          0.6385309278350515,
          0.6423969072164949,
          0.6423969072164949,
          0.6494845360824743,
          0.6494845360824743,
          0.6604381443298969,
          0.6604381443298969,
          0.6643041237113402,
          0.6643041237113402,
          0.6804123711340206,
          0.6804123711340206,
          0.696520618556701,
          0.696520618556701,
          0.6978092783505154,
          0.6990979381443299,
          0.6990979381443299,
          0.6997422680412371,
          0.6997422680412371,
          0.7048969072164949,
          0.7048969072164949,
          0.7061855670103093,
          0.7061855670103093,
          0.711340206185567,
          0.711340206185567,
          0.7126288659793815,
          0.7126288659793815,
          0.7132731958762887,
          0.7132731958762887,
          0.7313144329896907,
          0.7313144329896907,
          0.7326030927835051,
          0.7326030927835051,
          0.7467783505154639,
          0.7467783505154639,
          0.7525773195876289,
          0.7525773195876289,
          0.7731958762886598,
          0.7731958762886598,
          0.8086340206185567,
          0.8086340206185567,
          0.8273195876288659,
          0.8273195876288659,
          0.8479381443298969,
          0.8479381443298969,
          0.8569587628865979,
          0.8569587628865979,
          0.8634020618556701,
          0.8634020618556701,
          0.8743556701030928,
          0.8756443298969072,
          0.8775773195876289,
          0.8801546391752577,
          0.8807989690721649,
          0.8827319587628866,
          1
         ],
         "xaxis": "x",
         "y": [
          0,
          0.0017825311942959,
          0.0053475935828877,
          0.0053475935828877,
          0.0071301247771836,
          0.0071301247771836,
          0.008912655971479501,
          0.008912655971479501,
          0.016042780748663103,
          0.016042780748663103,
          0.017825311942959002,
          0.017825311942959002,
          0.0213903743315508,
          0.0213903743315508,
          0.023172905525846704,
          0.023172905525846704,
          0.024955436720142603,
          0.024955436720142603,
          0.035650623885918005,
          0.035650623885918005,
          0.0374331550802139,
          0.0374331550802139,
          0.058823529411764705,
          0.058823529411764705,
          0.0873440285204991,
          0.0873440285204991,
          0.08912655971479501,
          0.08912655971479501,
          0.09803921568627451,
          0.09803921568627451,
          0.10338680926916222,
          0.10338680926916222,
          0.10695187165775401,
          0.10695187165775401,
          0.11229946524064172,
          0.11229946524064172,
          0.11586452762923351,
          0.11586452762923351,
          0.11764705882352941,
          0.11764705882352941,
          0.12834224598930483,
          0.12834224598930483,
          0.13368983957219252,
          0.13368983957219252,
          0.1443850267379679,
          0.1443850267379679,
          0.1568627450980392,
          0.1568627450980392,
          0.1622103386809269,
          0.1622103386809269,
          0.16755793226381463,
          0.16755793226381463,
          0.17290552584670232,
          0.17290552584670232,
          0.17825311942959002,
          0.17825311942959002,
          0.18181818181818182,
          0.18181818181818182,
          0.18538324420677363,
          0.18538324420677363,
          0.1925133689839572,
          0.1925133689839572,
          0.19429590017825313,
          0.19429590017825313,
          0.19786096256684493,
          0.19786096256684493,
          0.19964349376114082,
          0.19964349376114082,
          0.20677361853832443,
          0.20677361853832443,
          0.22103386809269163,
          0.22103386809269163,
          0.22281639928698752,
          0.22281639928698752,
          0.22638146167557932,
          0.22638146167557932,
          0.2281639928698752,
          0.2281639928698752,
          0.23172905525846701,
          0.23172905525846701,
          0.23707664884135474,
          0.23707664884135474,
          0.24777183600713013,
          0.24777183600713013,
          0.2531194295900178,
          0.2531194295900178,
          0.25668449197860965,
          0.25668449197860965,
          0.2620320855614973,
          0.2620320855614973,
          0.2638146167557932,
          0.2638146167557932,
          0.26559714795008915,
          0.26559714795008915,
          0.2727272727272727,
          0.2727272727272727,
          0.27629233511586454,
          0.27629233511586454,
          0.27807486631016043,
          0.27807486631016043,
          0.2798573975044563,
          0.2798573975044563,
          0.2816399286987522,
          0.2816399286987522,
          0.28520499108734404,
          0.28520499108734404,
          0.2887700534759358,
          0.2887700534759358,
          0.2905525846702317,
          0.2905525846702317,
          0.2976827094474153,
          0.2976827094474153,
          0.2994652406417112,
          0.3065953654188948,
          0.3065953654188948,
          0.31016042780748665,
          0.31016042780748665,
          0.3155080213903743,
          0.3155080213903743,
          0.3244206773618538,
          0.3244206773618538,
          0.3404634581105169,
          0.3404634581105169,
          0.3422459893048128,
          0.3422459893048128,
          0.34402852049910876,
          0.34402852049910876,
          0.3511586452762923,
          0.3511586452762923,
          0.35294117647058826,
          0.35294117647058826,
          0.35650623885918004,
          0.35650623885918004,
          0.36185383244206776,
          0.36185383244206776,
          0.3689839572192513,
          0.3689839572192513,
          0.37433155080213903,
          0.37433155080213903,
          0.3778966131907308,
          0.3778966131907308,
          0.38146167557932265,
          0.38146167557932265,
          0.3850267379679144,
          0.3850267379679144,
          0.3868092691622103,
          0.3868092691622103,
          0.39037433155080214,
          0.39037433155080214,
          0.39928698752228164,
          0.39928698752228164,
          0.40106951871657753,
          0.40106951871657753,
          0.4028520499108734,
          0.4028520499108734,
          0.4117647058823529,
          0.4117647058823529,
          0.41532976827094475,
          0.41532976827094475,
          0.41711229946524064,
          0.41711229946524064,
          0.41889483065953653,
          0.41889483065953653,
          0.4206773618538324,
          0.4206773618538324,
          0.42245989304812837,
          0.42245989304812837,
          0.43137254901960786,
          0.43137254901960786,
          0.43493761140819964,
          0.43493761140819964,
          0.4385026737967914,
          0.4385026737967914,
          0.44028520499108736,
          0.44028520499108736,
          0.44206773618538325,
          0.44206773618538325,
          0.4474153297682709,
          0.4474153297682709,
          0.44919786096256686,
          0.44919786096256686,
          0.45098039215686275,
          0.45098039215686275,
          0.45276292335115864,
          0.45276292335115864,
          0.45454545454545453,
          0.45454545454545453,
          0.46880570409982175,
          0.46880570409982175,
          0.47058823529411764,
          0.47058823529411764,
          0.47771836007130125,
          0.47771836007130125,
          0.48128342245989303,
          0.48128342245989303,
          0.483065953654189,
          0.483065953654189,
          0.48663101604278075,
          0.48663101604278075,
          0.49376114081996436,
          0.49376114081996436,
          0.49554367201426025,
          0.49554367201426025,
          0.49910873440285203,
          0.49910873440285203,
          0.5008912655971479,
          0.5008912655971479,
          0.5044563279857398,
          0.5044563279857398,
          0.5062388591800356,
          0.5062388591800356,
          0.5115864527629234,
          0.5115864527629234,
          0.5151515151515151,
          0.5151515151515151,
          0.5222816399286988,
          0.5222816399286988,
          0.5276292335115864,
          0.5276292335115864,
          0.5294117647058824,
          0.5294117647058824,
          0.5311942959001783,
          0.5311942959001783,
          0.5365418894830659,
          0.5365418894830659,
          0.5401069518716578,
          0.5401069518716578,
          0.5418894830659536,
          0.5418894830659536,
          0.5454545454545454,
          0.5454545454545454,
          0.5508021390374331,
          0.5508021390374331,
          0.5525846702317291,
          0.5525846702317291,
          0.5561497326203209,
          0.5561497326203209,
          0.5579322638146168,
          0.5579322638146168,
          0.5597147950089126,
          0.5597147950089126,
          0.5614973262032086,
          0.5614973262032086,
          0.5632798573975044,
          0.5632798573975044,
          0.5650623885918004,
          0.5650623885918004,
          0.5668449197860963,
          0.5668449197860963,
          0.5686274509803921,
          0.5686274509803921,
          0.5704099821746881,
          0.5704099821746881,
          0.5739750445632799,
          0.5739750445632799,
          0.5775401069518716,
          0.5775401069518716,
          0.5793226381461676,
          0.5793226381461676,
          0.5811051693404634,
          0.5811051693404634,
          0.5828877005347594,
          0.5828877005347594,
          0.5900178253119429,
          0.5900178253119429,
          0.5918003565062389,
          0.5918003565062389,
          0.5935828877005348,
          0.5935828877005348,
          0.5953654188948306,
          0.5953654188948306,
          0.5989304812834224,
          0.5989304812834224,
          0.6007130124777184,
          0.6007130124777184,
          0.6024955436720143,
          0.6024955436720143,
          0.6060606060606061,
          0.6060606060606061,
          0.6078431372549019,
          0.6078431372549019,
          0.6131907308377896,
          0.6131907308377896,
          0.6149732620320856,
          0.6149732620320856,
          0.6167557932263814,
          0.6167557932263814,
          0.6185383244206774,
          0.6185383244206774,
          0.6203208556149733,
          0.6203208556149733,
          0.6221033868092691,
          0.6221033868092691,
          0.6238859180035651,
          0.6238859180035651,
          0.6256684491978609,
          0.6256684491978609,
          0.6310160427807486,
          0.6310160427807486,
          0.6327985739750446,
          0.6327985739750446,
          0.6345811051693404,
          0.6345811051693404,
          0.6399286987522281,
          0.6399286987522281,
          0.6488413547237076,
          0.6488413547237076,
          0.6524064171122995,
          0.6524064171122995,
          0.6559714795008913,
          0.6559714795008913,
          0.6577540106951871,
          0.6577540106951871,
          0.6595365418894831,
          0.6595365418894831,
          0.6666666666666666,
          0.6666666666666666,
          0.6702317290552585,
          0.6702317290552585,
          0.6755793226381461,
          0.6755793226381461,
          0.6773618538324421,
          0.6773618538324421,
          0.679144385026738,
          0.679144385026738,
          0.6827094474153298,
          0.6827094474153298,
          0.6844919786096256,
          0.6844919786096256,
          0.6862745098039216,
          0.6862745098039216,
          0.6916221033868093,
          0.6916221033868093,
          0.6934046345811051,
          0.6934046345811051,
          0.6951871657754011,
          0.6951871657754011,
          0.6987522281639929,
          0.6987522281639929,
          0.7005347593582888,
          0.7005347593582888,
          0.7023172905525846,
          0.7023172905525846,
          0.7076648841354723,
          0.7076648841354723,
          0.7094474153297683,
          0.7094474153297683,
          0.7130124777183601,
          0.7130124777183601,
          0.714795008912656,
          0.714795008912656,
          0.7183600713012478,
          0.7183600713012478,
          0.7201426024955436,
          0.7201426024955436,
          0.7237076648841355,
          0.7237076648841355,
          0.7254901960784313,
          0.7254901960784313,
          0.7272727272727273,
          0.7272727272727273,
          0.7290552584670231,
          0.7290552584670231,
          0.7308377896613191,
          0.7308377896613191,
          0.732620320855615,
          0.732620320855615,
          0.7344028520499108,
          0.7344028520499108,
          0.7361853832442068,
          0.7361853832442068,
          0.7379679144385026,
          0.7379679144385026,
          0.7397504456327986,
          0.7397504456327986,
          0.7415329768270945,
          0.7415329768270945,
          0.7468805704099821,
          0.7468805704099821,
          0.750445632798574,
          0.750445632798574,
          0.7522281639928698,
          0.7522281639928698,
          0.7540106951871658,
          0.7540106951871658,
          0.7557932263814616,
          0.7557932263814616,
          0.7611408199643493,
          0.7611408199643493,
          0.7629233511586453,
          0.7629233511586453,
          0.7647058823529411,
          0.7647058823529411,
          0.7664884135472371,
          0.7664884135472371,
          0.768270944741533,
          0.768270944741533,
          0.7700534759358288,
          0.7700534759358288,
          0.7718360071301248,
          0.7718360071301248,
          0.7736185383244206,
          0.7736185383244206,
          0.7754010695187166,
          0.7754010695187166,
          0.7771836007130125,
          0.7771836007130125,
          0.7789661319073083,
          0.7789661319073083,
          0.7807486631016043,
          0.7807486631016043,
          0.7825311942959001,
          0.7825311942959001,
          0.7843137254901961,
          0.7843137254901961,
          0.786096256684492,
          0.786096256684492,
          0.7878787878787878,
          0.7878787878787878,
          0.7950089126559715,
          0.7950089126559715,
          0.7985739750445633,
          0.7985739750445633,
          0.8003565062388592,
          0.8003565062388592,
          0.8021390374331551,
          0.8021390374331551,
          0.8074866310160428,
          0.8074866310160428,
          0.8092691622103387,
          0.8092691622103387,
          0.8110516934046346,
          0.8110516934046346,
          0.8128342245989305,
          0.8128342245989305,
          0.8146167557932263,
          0.8146167557932263,
          0.82174688057041,
          0.82174688057041,
          0.8235294117647058,
          0.8235294117647058,
          0.8253119429590018,
          0.8253119429590018,
          0.8306595365418895,
          0.8306595365418895,
          0.8324420677361853,
          0.8324420677361853,
          0.8342245989304813,
          0.8342245989304813,
          0.8360071301247772,
          0.8360071301247772,
          0.8377896613190731,
          0.8377896613190731,
          0.839572192513369,
          0.839572192513369,
          0.8413547237076648,
          0.8413547237076648,
          0.8431372549019608,
          0.8431372549019608,
          0.8449197860962567,
          0.8449197860962567,
          0.8467023172905526,
          0.8467023172905526,
          0.8484848484848485,
          0.8484848484848485,
          0.8520499108734403,
          0.8520499108734403,
          0.8538324420677362,
          0.8538324420677362,
          0.8556149732620321,
          0.8556149732620321,
          0.857397504456328,
          0.857397504456328,
          0.8591800356506238,
          0.8591800356506238,
          0.8609625668449198,
          0.8609625668449198,
          0.8627450980392157,
          0.8627450980392157,
          0.8663101604278075,
          0.8663101604278075,
          0.8698752228163993,
          0.8698752228163993,
          0.8716577540106952,
          0.8716577540106952,
          0.8734402852049911,
          0.8734402852049911,
          0.8770053475935828,
          0.8770053475935828,
          0.8787878787878788,
          0.8787878787878788,
          0.8823529411764706,
          0.8823529411764706,
          0.8841354723707665,
          0.8841354723707665,
          0.8859180035650623,
          0.8859180035650623,
          0.8877005347593583,
          0.8877005347593583,
          0.8894830659536542,
          0.8894830659536542,
          0.8912655971479501,
          0.8912655971479501,
          0.893048128342246,
          0.893048128342246,
          0.8948306595365418,
          0.8948306595365418,
          0.8966131907308378,
          0.8966131907308378,
          0.8983957219251337,
          0.8983957219251337,
          0.9001782531194296,
          0.9001782531194296,
          0.9019607843137255,
          0.9019607843137255,
          0.9055258467023173,
          0.9055258467023173,
          0.9073083778966132,
          0.9073083778966132,
          0.9090909090909091,
          0.9090909090909091,
          0.910873440285205,
          0.910873440285205,
          0.9144385026737968,
          0.9144385026737968,
          0.9162210338680927,
          0.9162210338680927,
          0.9197860962566845,
          0.9197860962566845,
          0.9215686274509803,
          0.9215686274509803,
          0.9233511586452763,
          0.9233511586452763,
          0.9251336898395722,
          0.9251336898395722,
          0.9269162210338681,
          0.9269162210338681,
          0.928698752228164,
          0.928698752228164,
          0.93048128342246,
          0.93048128342246,
          0.9322638146167558,
          0.9322638146167558,
          0.9358288770053476,
          0.9376114081996435,
          0.9376114081996435,
          0.9376114081996435,
          0.9376114081996435,
          0.9393939393939394,
          0.9393939393939394,
          0.9411764705882353,
          0.9411764705882353,
          0.9447415329768271,
          0.9447415329768271,
          0.946524064171123,
          0.946524064171123,
          0.948306595365419,
          0.948306595365419,
          0.9518716577540107,
          0.9518716577540107,
          0.9536541889483066,
          0.9536541889483066,
          0.9554367201426025,
          0.9554367201426025,
          0.9572192513368984,
          0.9572192513368984,
          0.9625668449197861,
          0.9625668449197861,
          0.9625668449197861,
          0.964349376114082,
          0.966131907308378,
          0.9679144385026738,
          0.9679144385026738,
          0.9696969696969697,
          0.9696969696969697,
          0.9714795008912656,
          0.9714795008912656,
          0.9732620320855615,
          0.9732620320855615,
          0.9750445632798574,
          0.9750445632798574,
          0.9803921568627451,
          0.9803921568627451,
          0.982174688057041,
          0.982174688057041,
          0.983957219251337,
          0.983957219251337,
          0.9857397504456328,
          0.9857397504456328,
          0.9875222816399287,
          0.9875222816399287,
          0.9893048128342246,
          0.9893048128342246,
          0.9910873440285205,
          0.9910873440285205,
          0.9928698752228164,
          0.9928698752228164,
          0.9946524064171123,
          0.9946524064171123,
          0.9982174688057041,
          0.9982174688057041,
          1,
          1,
          1,
          1,
          1,
          1,
          1,
          1
         ],
         "yaxis": "y"
        }
       ],
       "layout": {
        "height": 600,
        "legend": {
         "tracegroupgap": 0
        },
        "shapes": [
         {
          "line": {
           "color": "red",
           "dash": "dash"
          },
          "type": "line",
          "x0": 0,
          "x1": 1,
          "y0": 0,
          "y1": 1
         }
        ],
        "template": {
         "data": {
          "bar": [
           {
            "error_x": {
             "color": "#f2f5fa"
            },
            "error_y": {
             "color": "#f2f5fa"
            },
            "marker": {
             "line": {
              "color": "rgb(17,17,17)",
              "width": 0.5
             },
             "pattern": {
              "fillmode": "overlay",
              "size": 10,
              "solidity": 0.2
             }
            },
            "type": "bar"
           }
          ],
          "barpolar": [
           {
            "marker": {
             "line": {
              "color": "rgb(17,17,17)",
              "width": 0.5
             },
             "pattern": {
              "fillmode": "overlay",
              "size": 10,
              "solidity": 0.2
             }
            },
            "type": "barpolar"
           }
          ],
          "carpet": [
           {
            "aaxis": {
             "endlinecolor": "#A2B1C6",
             "gridcolor": "#506784",
             "linecolor": "#506784",
             "minorgridcolor": "#506784",
             "startlinecolor": "#A2B1C6"
            },
            "baxis": {
             "endlinecolor": "#A2B1C6",
             "gridcolor": "#506784",
             "linecolor": "#506784",
             "minorgridcolor": "#506784",
             "startlinecolor": "#A2B1C6"
            },
            "type": "carpet"
           }
          ],
          "choropleth": [
           {
            "colorbar": {
             "outlinewidth": 0,
             "ticks": ""
            },
            "type": "choropleth"
           }
          ],
          "contour": [
           {
            "colorbar": {
             "outlinewidth": 0,
             "ticks": ""
            },
            "colorscale": [
             [
              0,
              "#0d0887"
             ],
             [
              0.1111111111111111,
              "#46039f"
             ],
             [
              0.2222222222222222,
              "#7201a8"
             ],
             [
              0.3333333333333333,
              "#9c179e"
             ],
             [
              0.4444444444444444,
              "#bd3786"
             ],
             [
              0.5555555555555556,
              "#d8576b"
             ],
             [
              0.6666666666666666,
              "#ed7953"
             ],
             [
              0.7777777777777778,
              "#fb9f3a"
             ],
             [
              0.8888888888888888,
              "#fdca26"
             ],
             [
              1,
              "#f0f921"
             ]
            ],
            "type": "contour"
           }
          ],
          "contourcarpet": [
           {
            "colorbar": {
             "outlinewidth": 0,
             "ticks": ""
            },
            "type": "contourcarpet"
           }
          ],
          "heatmap": [
           {
            "colorbar": {
             "outlinewidth": 0,
             "ticks": ""
            },
            "colorscale": [
             [
              0,
              "#0d0887"
             ],
             [
              0.1111111111111111,
              "#46039f"
             ],
             [
              0.2222222222222222,
              "#7201a8"
             ],
             [
              0.3333333333333333,
              "#9c179e"
             ],
             [
              0.4444444444444444,
              "#bd3786"
             ],
             [
              0.5555555555555556,
              "#d8576b"
             ],
             [
              0.6666666666666666,
              "#ed7953"
             ],
             [
              0.7777777777777778,
              "#fb9f3a"
             ],
             [
              0.8888888888888888,
              "#fdca26"
             ],
             [
              1,
              "#f0f921"
             ]
            ],
            "type": "heatmap"
           }
          ],
          "heatmapgl": [
           {
            "colorbar": {
             "outlinewidth": 0,
             "ticks": ""
            },
            "colorscale": [
             [
              0,
              "#0d0887"
             ],
             [
              0.1111111111111111,
              "#46039f"
             ],
             [
              0.2222222222222222,
              "#7201a8"
             ],
             [
              0.3333333333333333,
              "#9c179e"
             ],
             [
              0.4444444444444444,
              "#bd3786"
             ],
             [
              0.5555555555555556,
              "#d8576b"
             ],
             [
              0.6666666666666666,
              "#ed7953"
             ],
             [
              0.7777777777777778,
              "#fb9f3a"
             ],
             [
              0.8888888888888888,
              "#fdca26"
             ],
             [
              1,
              "#f0f921"
             ]
            ],
            "type": "heatmapgl"
           }
          ],
          "histogram": [
           {
            "marker": {
             "pattern": {
              "fillmode": "overlay",
              "size": 10,
              "solidity": 0.2
             }
            },
            "type": "histogram"
           }
          ],
          "histogram2d": [
           {
            "colorbar": {
             "outlinewidth": 0,
             "ticks": ""
            },
            "colorscale": [
             [
              0,
              "#0d0887"
             ],
             [
              0.1111111111111111,
              "#46039f"
             ],
             [
              0.2222222222222222,
              "#7201a8"
             ],
             [
              0.3333333333333333,
              "#9c179e"
             ],
             [
              0.4444444444444444,
              "#bd3786"
             ],
             [
              0.5555555555555556,
              "#d8576b"
             ],
             [
              0.6666666666666666,
              "#ed7953"
             ],
             [
              0.7777777777777778,
              "#fb9f3a"
             ],
             [
              0.8888888888888888,
              "#fdca26"
             ],
             [
              1,
              "#f0f921"
             ]
            ],
            "type": "histogram2d"
           }
          ],
          "histogram2dcontour": [
           {
            "colorbar": {
             "outlinewidth": 0,
             "ticks": ""
            },
            "colorscale": [
             [
              0,
              "#0d0887"
             ],
             [
              0.1111111111111111,
              "#46039f"
             ],
             [
              0.2222222222222222,
              "#7201a8"
             ],
             [
              0.3333333333333333,
              "#9c179e"
             ],
             [
              0.4444444444444444,
              "#bd3786"
             ],
             [
              0.5555555555555556,
              "#d8576b"
             ],
             [
              0.6666666666666666,
              "#ed7953"
             ],
             [
              0.7777777777777778,
              "#fb9f3a"
             ],
             [
              0.8888888888888888,
              "#fdca26"
             ],
             [
              1,
              "#f0f921"
             ]
            ],
            "type": "histogram2dcontour"
           }
          ],
          "mesh3d": [
           {
            "colorbar": {
             "outlinewidth": 0,
             "ticks": ""
            },
            "type": "mesh3d"
           }
          ],
          "parcoords": [
           {
            "line": {
             "colorbar": {
              "outlinewidth": 0,
              "ticks": ""
             }
            },
            "type": "parcoords"
           }
          ],
          "pie": [
           {
            "automargin": true,
            "type": "pie"
           }
          ],
          "scatter": [
           {
            "marker": {
             "line": {
              "color": "#283442"
             }
            },
            "type": "scatter"
           }
          ],
          "scatter3d": [
           {
            "line": {
             "colorbar": {
              "outlinewidth": 0,
              "ticks": ""
             }
            },
            "marker": {
             "colorbar": {
              "outlinewidth": 0,
              "ticks": ""
             }
            },
            "type": "scatter3d"
           }
          ],
          "scattercarpet": [
           {
            "marker": {
             "colorbar": {
              "outlinewidth": 0,
              "ticks": ""
             }
            },
            "type": "scattercarpet"
           }
          ],
          "scattergeo": [
           {
            "marker": {
             "colorbar": {
              "outlinewidth": 0,
              "ticks": ""
             }
            },
            "type": "scattergeo"
           }
          ],
          "scattergl": [
           {
            "marker": {
             "line": {
              "color": "#283442"
             }
            },
            "type": "scattergl"
           }
          ],
          "scattermapbox": [
           {
            "marker": {
             "colorbar": {
              "outlinewidth": 0,
              "ticks": ""
             }
            },
            "type": "scattermapbox"
           }
          ],
          "scatterpolar": [
           {
            "marker": {
             "colorbar": {
              "outlinewidth": 0,
              "ticks": ""
             }
            },
            "type": "scatterpolar"
           }
          ],
          "scatterpolargl": [
           {
            "marker": {
             "colorbar": {
              "outlinewidth": 0,
              "ticks": ""
             }
            },
            "type": "scatterpolargl"
           }
          ],
          "scatterternary": [
           {
            "marker": {
             "colorbar": {
              "outlinewidth": 0,
              "ticks": ""
             }
            },
            "type": "scatterternary"
           }
          ],
          "surface": [
           {
            "colorbar": {
             "outlinewidth": 0,
             "ticks": ""
            },
            "colorscale": [
             [
              0,
              "#0d0887"
             ],
             [
              0.1111111111111111,
              "#46039f"
             ],
             [
              0.2222222222222222,
              "#7201a8"
             ],
             [
              0.3333333333333333,
              "#9c179e"
             ],
             [
              0.4444444444444444,
              "#bd3786"
             ],
             [
              0.5555555555555556,
              "#d8576b"
             ],
             [
              0.6666666666666666,
              "#ed7953"
             ],
             [
              0.7777777777777778,
              "#fb9f3a"
             ],
             [
              0.8888888888888888,
              "#fdca26"
             ],
             [
              1,
              "#f0f921"
             ]
            ],
            "type": "surface"
           }
          ],
          "table": [
           {
            "cells": {
             "fill": {
              "color": "#506784"
             },
             "line": {
              "color": "rgb(17,17,17)"
             }
            },
            "header": {
             "fill": {
              "color": "#2a3f5f"
             },
             "line": {
              "color": "rgb(17,17,17)"
             }
            },
            "type": "table"
           }
          ]
         },
         "layout": {
          "annotationdefaults": {
           "arrowcolor": "#f2f5fa",
           "arrowhead": 0,
           "arrowwidth": 1
          },
          "autotypenumbers": "strict",
          "coloraxis": {
           "colorbar": {
            "outlinewidth": 0,
            "ticks": ""
           }
          },
          "colorscale": {
           "diverging": [
            [
             0,
             "#8e0152"
            ],
            [
             0.1,
             "#c51b7d"
            ],
            [
             0.2,
             "#de77ae"
            ],
            [
             0.3,
             "#f1b6da"
            ],
            [
             0.4,
             "#fde0ef"
            ],
            [
             0.5,
             "#f7f7f7"
            ],
            [
             0.6,
             "#e6f5d0"
            ],
            [
             0.7,
             "#b8e186"
            ],
            [
             0.8,
             "#7fbc41"
            ],
            [
             0.9,
             "#4d9221"
            ],
            [
             1,
             "#276419"
            ]
           ],
           "sequential": [
            [
             0,
             "#0d0887"
            ],
            [
             0.1111111111111111,
             "#46039f"
            ],
            [
             0.2222222222222222,
             "#7201a8"
            ],
            [
             0.3333333333333333,
             "#9c179e"
            ],
            [
             0.4444444444444444,
             "#bd3786"
            ],
            [
             0.5555555555555556,
             "#d8576b"
            ],
            [
             0.6666666666666666,
             "#ed7953"
            ],
            [
             0.7777777777777778,
             "#fb9f3a"
            ],
            [
             0.8888888888888888,
             "#fdca26"
            ],
            [
             1,
             "#f0f921"
            ]
           ],
           "sequentialminus": [
            [
             0,
             "#0d0887"
            ],
            [
             0.1111111111111111,
             "#46039f"
            ],
            [
             0.2222222222222222,
             "#7201a8"
            ],
            [
             0.3333333333333333,
             "#9c179e"
            ],
            [
             0.4444444444444444,
             "#bd3786"
            ],
            [
             0.5555555555555556,
             "#d8576b"
            ],
            [
             0.6666666666666666,
             "#ed7953"
            ],
            [
             0.7777777777777778,
             "#fb9f3a"
            ],
            [
             0.8888888888888888,
             "#fdca26"
            ],
            [
             1,
             "#f0f921"
            ]
           ]
          },
          "colorway": [
           "#636efa",
           "#EF553B",
           "#00cc96",
           "#ab63fa",
           "#FFA15A",
           "#19d3f3",
           "#FF6692",
           "#B6E880",
           "#FF97FF",
           "#FECB52"
          ],
          "font": {
           "color": "#f2f5fa"
          },
          "geo": {
           "bgcolor": "rgb(17,17,17)",
           "lakecolor": "rgb(17,17,17)",
           "landcolor": "rgb(17,17,17)",
           "showlakes": true,
           "showland": true,
           "subunitcolor": "#506784"
          },
          "hoverlabel": {
           "align": "left"
          },
          "hovermode": "closest",
          "mapbox": {
           "style": "dark"
          },
          "paper_bgcolor": "rgb(17,17,17)",
          "plot_bgcolor": "rgb(17,17,17)",
          "polar": {
           "angularaxis": {
            "gridcolor": "#506784",
            "linecolor": "#506784",
            "ticks": ""
           },
           "bgcolor": "rgb(17,17,17)",
           "radialaxis": {
            "gridcolor": "#506784",
            "linecolor": "#506784",
            "ticks": ""
           }
          },
          "scene": {
           "xaxis": {
            "backgroundcolor": "rgb(17,17,17)",
            "gridcolor": "#506784",
            "gridwidth": 2,
            "linecolor": "#506784",
            "showbackground": true,
            "ticks": "",
            "zerolinecolor": "#C8D4E3"
           },
           "yaxis": {
            "backgroundcolor": "rgb(17,17,17)",
            "gridcolor": "#506784",
            "gridwidth": 2,
            "linecolor": "#506784",
            "showbackground": true,
            "ticks": "",
            "zerolinecolor": "#C8D4E3"
           },
           "zaxis": {
            "backgroundcolor": "rgb(17,17,17)",
            "gridcolor": "#506784",
            "gridwidth": 2,
            "linecolor": "#506784",
            "showbackground": true,
            "ticks": "",
            "zerolinecolor": "#C8D4E3"
           }
          },
          "shapedefaults": {
           "line": {
            "color": "#f2f5fa"
           }
          },
          "sliderdefaults": {
           "bgcolor": "#C8D4E3",
           "bordercolor": "rgb(17,17,17)",
           "borderwidth": 1,
           "tickwidth": 0
          },
          "ternary": {
           "aaxis": {
            "gridcolor": "#506784",
            "linecolor": "#506784",
            "ticks": ""
           },
           "baxis": {
            "gridcolor": "#506784",
            "linecolor": "#506784",
            "ticks": ""
           },
           "bgcolor": "rgb(17,17,17)",
           "caxis": {
            "gridcolor": "#506784",
            "linecolor": "#506784",
            "ticks": ""
           }
          },
          "title": {
           "x": 0.05
          },
          "updatemenudefaults": {
           "bgcolor": "#506784",
           "borderwidth": 0
          },
          "xaxis": {
           "automargin": true,
           "gridcolor": "#283442",
           "linecolor": "#506784",
           "ticks": "",
           "title": {
            "standoff": 15
           },
           "zerolinecolor": "#283442",
           "zerolinewidth": 2
          },
          "yaxis": {
           "automargin": true,
           "gridcolor": "#283442",
           "linecolor": "#506784",
           "ticks": "",
           "title": {
            "standoff": 15
           },
           "zerolinecolor": "#283442",
           "zerolinewidth": 2
          }
         }
        },
        "title": {
         "font": {
          "color": "mediumorchid",
          "size": 20
         },
         "text": "ROC Curve (AUC = 0.82)",
         "x": 0.5
        },
        "width": 800,
        "xaxis": {
         "anchor": "y",
         "domain": [
          0,
          1
         ],
         "showgrid": true,
         "title": {
          "text": "False Positive Rate"
         },
         "zeroline": true
        },
        "yaxis": {
         "anchor": "x",
         "domain": [
          0,
          1
         ],
         "showgrid": true,
         "title": {
          "text": "True Positive Rate"
         },
         "zeroline": true
        }
       }
      }
     },
     "metadata": {},
     "output_type": "display_data"
    },
    {
     "name": "stdout",
     "output_type": "stream",
     "text": [
      "Confusion Matrix:\n",
      " [[1408  144]\n",
      " [ 305  256]]\n"
     ]
    },
    {
     "data": {
      "image/png": "[encoded data removed]",
      "text/plain": [
       "<Figure size 800x500 with 2 Axes>"
      ]
     },
     "metadata": {},
     "output_type": "display_data"
    },
    {
     "data": {
      "text/html": [
       "<div>\n",
       "<style scoped>\n",
       "    .dataframe tbody tr th:only-of-type {\n",
       "        vertical-align: middle;\n",
       "    }\n",
       "\n",
       "    .dataframe tbody tr th {\n",
       "        vertical-align: top;\n",
       "    }\n",
       "\n",
       "    .dataframe thead th {\n",
       "        text-align: right;\n",
       "    }\n",
       "</style>\n",
       "<table border=\"1\" class=\"dataframe\">\n",
       "  <thead>\n",
       "    <tr style=\"text-align: right;\">\n",
       "      <th></th>\n",
       "      <th>Training Accuracy</th>\n",
       "      <th>Training Precision</th>\n",
       "      <th>Training Recall</th>\n",
       "      <th>Training F1-Score</th>\n",
       "      <th>Test Accuracy</th>\n",
       "      <th>Test Precision</th>\n",
       "      <th>Test Recall</th>\n",
       "      <th>Test F1-Score</th>\n",
       "    </tr>\n",
       "  </thead>\n",
       "  <tbody>\n",
       "    <tr>\n",
       "      <th>0</th>\n",
       "      <td>0.86</td>\n",
       "      <td>0.8</td>\n",
       "      <td>0.61</td>\n",
       "      <td>0.7</td>\n",
       "      <td>0.79</td>\n",
       "      <td>0.64</td>\n",
       "      <td>0.46</td>\n",
       "      <td>0.53</td>\n",
       "    </tr>\n",
       "  </tbody>\n",
       "</table>\n",
       "</div>"
      ],
      "text/plain": [
       "   Training Accuracy  Training Precision  Training Recall  Training F1-Score  \\\n",
       "0               0.86                 0.8             0.61                0.7   \n",
       "\n",
       "   Test Accuracy  Test Precision  Test Recall  Test F1-Score  \n",
       "0           0.79            0.64         0.46           0.53  "
      ]
     },
     "execution_count": 105,
     "metadata": {},
     "output_type": "execute_result"
    }
   ],
   "source": [
    "# Define the MLP model using PyTorch\n",
    "class MLPClassifier(nn.Module):\n",
    "    def __init__(self, input_dim, hidden_dim=128, output_dim=2):\n",
    "        super(MLPClassifier, self).__init__()\n",
    "        self.fc1 = nn.Linear(input_dim, hidden_dim)\n",
    "        self.relu = nn.ReLU()\n",
    "        self.fc2 = nn.Linear(hidden_dim, hidden_dim)\n",
    "        self.fc3 = nn.Linear(hidden_dim, output_dim)\n",
    "        self.softmax = nn.Softmax(dim=1)\n",
    "\n",
    "    def forward(self, x):\n",
    "        x = self.relu(self.fc1(x))\n",
    "        x = self.relu(self.fc2(x))\n",
    "        x = self.softmax(self.fc3(x))\n",
    "        return x\n",
    "\n",
    "# Train the MLP model\n",
    "def train_mlp(model, train_loader, epochs=20, learning_rate=0.001):\n",
    "    criterion = nn.CrossEntropyLoss()\n",
    "    optimizer = optim.Adam(model.parameters(), lr=learning_rate)\n",
    "    for epoch in range(epochs):\n",
    "        model.train()\n",
    "        total_loss = 0\n",
    "        for data, target in train_loader:\n",
    "            optimizer.zero_grad()\n",
    "            output = model(data)\n",
    "            loss = criterion(output, target)\n",
    "            loss.backward()\n",
    "            optimizer.step()\n",
    "            total_loss += loss.item()\n",
    "        print(f\"Epoch {epoch + 1}/{epochs}, Loss: {total_loss / len(train_loader):.4f}\")\n",
    "\n",
    "# Evaluate the model on training and test sets\n",
    "def evaluate_mlp(model, X_train_scaled, X_test_scaled, y_train, y_test):\n",
    "    model.eval()\n",
    "    with torch.no_grad():\n",
    "        # Predictions on training data\n",
    "        train_output = model(torch.FloatTensor(X_train_scaled))\n",
    "        train_probs = train_output.numpy()\n",
    "        train_preds = np.argmax(train_probs, axis=1)\n",
    "\n",
    "        # Predictions on test data\n",
    "        test_output = model(torch.FloatTensor(X_test_scaled))\n",
    "        test_probs = test_output.numpy()\n",
    "        test_preds = np.argmax(test_probs, axis=1)\n",
    "\n",
    "        # Calculate metrics for training data\n",
    "        train_accuracy = accuracy_score(y_train, train_preds)\n",
    "        train_precision = precision_score(y_train, train_preds)\n",
    "        train_recall = recall_score(y_train, train_preds)\n",
    "        train_f1 = f1_score(y_train, train_preds)\n",
    "\n",
    "        # Calculate metrics for test data\n",
    "        test_accuracy = accuracy_score(y_test, test_preds)\n",
    "        test_precision = precision_score(y_test, test_preds)\n",
    "        test_recall = recall_score(y_test, test_preds)\n",
    "        test_f1 = f1_score(y_test, test_preds)\n",
    "\n",
    "        # Display metrics\n",
    "        print(f\"Training Accuracy: {train_accuracy:.2f}\")\n",
    "        print(f\"Training Precision: {train_precision:.2f}\")\n",
    "        print(f\"Training Recall: {train_recall:.2f}\")\n",
    "        print(f\"Training F1-Score: {train_f1:.2f}\")\n",
    "        print(\"---\")\n",
    "        print(f\"Test Accuracy: {test_accuracy:.2f}\")\n",
    "        print(f\"Test Precision: {test_precision:.2f}\")\n",
    "        print(f\"Test Recall: {test_recall:.2f}\")\n",
    "        print(f\"Test F1-Score: {test_f1:.2f}\")\n",
    "\n",
    "        metric_df = pd.DataFrame({\n",
    "            'Training Accuracy':round(train_accuracy, 2),\n",
    "            'Training Precision':round(train_precision, 2),\n",
    "            'Training Recall':round(train_recall, 2),\n",
    "            'Training F1-Score':round(train_f1, 2),\n",
    "            'Test Accuracy':round(test_accuracy, 2),\n",
    "            'Test Precision':round(test_precision, 2),\n",
    "            'Test Recall':round(test_recall, 2),\n",
    "            'Test F1-Score':round(test_f1, 2)\n",
    "        }, index=[0])\n",
    "\n",
    "        # AUC and ROC for test set\n",
    "        test_roc_auc = roc_auc_score(y_test, test_probs[:, 1])\n",
    "        fpr, tpr, thresholds = roc_curve(y_test, test_probs[:, 1])\n",
    "        roc_data = {\n",
    "            'False Positive Rate': fpr,\n",
    "            'True Positive Rate': tpr\n",
    "        }\n",
    "        fig = px.line(\n",
    "            roc_data, \n",
    "            x='False Positive Rate', \n",
    "            y='True Positive Rate',\n",
    "            title=f'ROC Curve (AUC = {test_roc_auc:.2f})',\n",
    "            labels={'x': 'False Positive Rate', 'y': 'True Positive Rate'},\n",
    "            width=800,\n",
    "            height=600\n",
    "        )\n",
    "        fig.add_shape(\n",
    "            type='line', \n",
    "            x0=0, y0=0, x1=1, y1=1,\n",
    "            line=dict(color='red', dash='dash')\n",
    "        )\n",
    "        fig.update_layout(\n",
    "            title_font=dict(size=20, color='mediumorchid'),\n",
    "            title_x=0.5,\n",
    "            xaxis=dict(showgrid=True, zeroline=True),\n",
    "            yaxis=dict(showgrid=True, zeroline=True),\n",
    "            template='plotly_dark'\n",
    "        )\n",
    "        fig.show()\n",
    "\n",
    "        # Confusion Matrix for test set\n",
    "        cm = confusion_matrix(y_test, test_preds)\n",
    "        print('Confusion Matrix:\\n', cm)\n",
    "        plt.figure(figsize=(8, 5))\n",
    "        sns.heatmap(data=cm, annot=True, fmt='g', cmap=\"Blues\", xticklabels=['NO', 'YES'], yticklabels=['NO', 'YES'])\n",
    "        plt.xlabel('Predicted values')\n",
    "        plt.ylabel('Actual values')\n",
    "        plt.title('Confusion Matrix for MLP Model')\n",
    "        plt.show()\n",
    "\n",
    "    return metric_df\n",
    "\n",
    "# Data preparation\n",
    "scaler = StandardScaler()\n",
    "X_train_scaled = scaler.fit_transform(X_train)\n",
    "X_test_scaled = scaler.transform(X_test)\n",
    "\n",
    "# Prepare the dataset and dataloader for PyTorch\n",
    "train_data = TensorDataset(torch.FloatTensor(X_train_scaled), torch.LongTensor(y_train.values))\n",
    "train_loader = DataLoader(train_data, batch_size=16, shuffle=True)\n",
    "\n",
    "# Initialize the MLP model with optimal parameters and train\n",
    "mlp_model = MLPClassifier(input_dim=X_train.shape[1], hidden_dim=128, output_dim=len(set(y_train)))\n",
    "train_mlp(mlp_model, train_loader, epochs=20, learning_rate=0.001)\n",
    "\n",
    "# Evaluate the trained MLP model\n",
    "evaluate_mlp(mlp_model, X_train_scaled, X_test_scaled, y_train, y_test)"
   ]
  },
  {
   "cell_type": "markdown",
   "metadata": {},
   "source": [
    "## Applying SMOTEN to training set"
   ]
  },
  {
   "cell_type": "markdown",
   "metadata": {},
   "source": [
    "This is used to balance out the classes."
   ]
  },
  {
   "cell_type": "code",
   "execution_count": 106,
   "metadata": {},
   "outputs": [
    {
     "name": "stdout",
     "output_type": "stream",
     "text": [
      "\n",
      "Performing GridSearchCV for RandomForest...\n",
      "Best parameters for RandomForest: {'max_depth': None, 'min_samples_split': 5, 'n_estimators': 200}\n",
      "Best cross-validation score for RandomForest: 0.9503\n",
      "\n",
      "Performing GridSearchCV for XGBoost...\n",
      "Best parameters for XGBoost: {'learning_rate': 0.5, 'max_depth': 10, 'n_estimators': 200, 'subsample': 0.8}\n",
      "Best cross-validation score for XGBoost: 0.9556\n",
      "\n",
      "Performing GridSearchCV for LGBM...\n",
      "Best parameters for LGBM: {'learning_rate': 1, 'max_depth': None, 'n_estimators': 200}\n",
      "Best cross-validation score for LGBM: 0.9570\n",
      "\n",
      "Performing GridSearchCV for DecisionTree...\n",
      "Best parameters for DecisionTree: {'max_depth': 10, 'min_samples_split': 2}\n",
      "Best cross-validation score for DecisionTree: 0.9357\n",
      "\n",
      "Performing GridSearchCV for KNN...\n",
      "Best parameters for KNN: {'n_neighbors': 3, 'weights': 'distance'}\n",
      "Best cross-validation score for KNN: 0.9820\n",
      "\n",
      "Performing GridSearchCV for LogisticRegression...\n"
     ]
    },
    {
     "name": "stderr",
     "output_type": "stream",
     "text": [
      "/opt/anaconda3/envs/My/lib/python3.8/site-packages/sklearn/linear_model/_sag.py:350: ConvergenceWarning: The max_iter was reached which means the coef_ did not converge\n",
      "  warnings.warn(\n",
      "/opt/anaconda3/envs/My/lib/python3.8/site-packages/sklearn/linear_model/_sag.py:350: ConvergenceWarning: The max_iter was reached which means the coef_ did not converge\n",
      "  warnings.warn(\n",
      "/opt/anaconda3/envs/My/lib/python3.8/site-packages/sklearn/linear_model/_sag.py:350: ConvergenceWarning: The max_iter was reached which means the coef_ did not converge\n",
      "  warnings.warn(\n",
      "/opt/anaconda3/envs/My/lib/python3.8/site-packages/sklearn/linear_model/_sag.py:350: ConvergenceWarning: The max_iter was reached which means the coef_ did not converge\n",
      "  warnings.warn(\n",
      "/opt/anaconda3/envs/My/lib/python3.8/site-packages/sklearn/linear_model/_sag.py:350: ConvergenceWarning: The max_iter was reached which means the coef_ did not converge\n",
      "  warnings.warn(\n",
      "/opt/anaconda3/envs/My/lib/python3.8/site-packages/sklearn/linear_model/_sag.py:350: ConvergenceWarning: The max_iter was reached which means the coef_ did not converge\n",
      "  warnings.warn(\n",
      "/opt/anaconda3/envs/My/lib/python3.8/site-packages/sklearn/linear_model/_sag.py:350: ConvergenceWarning: The max_iter was reached which means the coef_ did not converge\n",
      "  warnings.warn(\n",
      "/opt/anaconda3/envs/My/lib/python3.8/site-packages/sklearn/linear_model/_sag.py:350: ConvergenceWarning: The max_iter was reached which means the coef_ did not converge\n",
      "  warnings.warn(\n",
      "/opt/anaconda3/envs/My/lib/python3.8/site-packages/sklearn/linear_model/_sag.py:350: ConvergenceWarning: The max_iter was reached which means the coef_ did not converge\n",
      "  warnings.warn(\n",
      "/opt/anaconda3/envs/My/lib/python3.8/site-packages/sklearn/linear_model/_sag.py:350: ConvergenceWarning: The max_iter was reached which means the coef_ did not converge\n",
      "  warnings.warn(\n",
      "/opt/anaconda3/envs/My/lib/python3.8/site-packages/sklearn/linear_model/_sag.py:350: ConvergenceWarning: The max_iter was reached which means the coef_ did not converge\n",
      "  warnings.warn(\n",
      "/opt/anaconda3/envs/My/lib/python3.8/site-packages/sklearn/linear_model/_sag.py:350: ConvergenceWarning: The max_iter was reached which means the coef_ did not converge\n",
      "  warnings.warn(\n",
      "/opt/anaconda3/envs/My/lib/python3.8/site-packages/sklearn/linear_model/_sag.py:350: ConvergenceWarning: The max_iter was reached which means the coef_ did not converge\n",
      "  warnings.warn(\n",
      "/opt/anaconda3/envs/My/lib/python3.8/site-packages/sklearn/linear_model/_sag.py:350: ConvergenceWarning: The max_iter was reached which means the coef_ did not converge\n",
      "  warnings.warn(\n",
      "/opt/anaconda3/envs/My/lib/python3.8/site-packages/sklearn/linear_model/_sag.py:350: ConvergenceWarning: The max_iter was reached which means the coef_ did not converge\n",
      "  warnings.warn(\n",
      "/opt/anaconda3/envs/My/lib/python3.8/site-packages/sklearn/linear_model/_sag.py:350: ConvergenceWarning: The max_iter was reached which means the coef_ did not converge\n",
      "  warnings.warn(\n",
      "/opt/anaconda3/envs/My/lib/python3.8/site-packages/sklearn/linear_model/_sag.py:350: ConvergenceWarning: The max_iter was reached which means the coef_ did not converge\n",
      "  warnings.warn(\n",
      "/opt/anaconda3/envs/My/lib/python3.8/site-packages/sklearn/linear_model/_sag.py:350: ConvergenceWarning: The max_iter was reached which means the coef_ did not converge\n",
      "  warnings.warn(\n",
      "/opt/anaconda3/envs/My/lib/python3.8/site-packages/sklearn/linear_model/_sag.py:350: ConvergenceWarning: The max_iter was reached which means the coef_ did not converge\n",
      "  warnings.warn(\n",
      "/opt/anaconda3/envs/My/lib/python3.8/site-packages/sklearn/linear_model/_sag.py:350: ConvergenceWarning: The max_iter was reached which means the coef_ did not converge\n",
      "  warnings.warn(\n",
      "/opt/anaconda3/envs/My/lib/python3.8/site-packages/sklearn/linear_model/_sag.py:350: ConvergenceWarning: The max_iter was reached which means the coef_ did not converge\n",
      "  warnings.warn(\n",
      "/opt/anaconda3/envs/My/lib/python3.8/site-packages/sklearn/linear_model/_sag.py:350: ConvergenceWarning: The max_iter was reached which means the coef_ did not converge\n",
      "  warnings.warn(\n",
      "/opt/anaconda3/envs/My/lib/python3.8/site-packages/sklearn/linear_model/_sag.py:350: ConvergenceWarning: The max_iter was reached which means the coef_ did not converge\n",
      "  warnings.warn(\n",
      "/opt/anaconda3/envs/My/lib/python3.8/site-packages/sklearn/linear_model/_sag.py:350: ConvergenceWarning: The max_iter was reached which means the coef_ did not converge\n",
      "  warnings.warn(\n",
      "/opt/anaconda3/envs/My/lib/python3.8/site-packages/sklearn/linear_model/_sag.py:350: ConvergenceWarning: The max_iter was reached which means the coef_ did not converge\n",
      "  warnings.warn(\n",
      "/opt/anaconda3/envs/My/lib/python3.8/site-packages/sklearn/linear_model/_sag.py:350: ConvergenceWarning: The max_iter was reached which means the coef_ did not converge\n",
      "  warnings.warn(\n",
      "/opt/anaconda3/envs/My/lib/python3.8/site-packages/sklearn/linear_model/_sag.py:350: ConvergenceWarning: The max_iter was reached which means the coef_ did not converge\n",
      "  warnings.warn(\n",
      "/opt/anaconda3/envs/My/lib/python3.8/site-packages/sklearn/linear_model/_sag.py:350: ConvergenceWarning: The max_iter was reached which means the coef_ did not converge\n",
      "  warnings.warn(\n",
      "/opt/anaconda3/envs/My/lib/python3.8/site-packages/sklearn/linear_model/_sag.py:350: ConvergenceWarning: The max_iter was reached which means the coef_ did not converge\n",
      "  warnings.warn(\n",
      "/opt/anaconda3/envs/My/lib/python3.8/site-packages/sklearn/linear_model/_sag.py:350: ConvergenceWarning: The max_iter was reached which means the coef_ did not converge\n",
      "  warnings.warn(\n",
      "/opt/anaconda3/envs/My/lib/python3.8/site-packages/sklearn/linear_model/_sag.py:350: ConvergenceWarning: The max_iter was reached which means the coef_ did not converge\n",
      "  warnings.warn(\n",
      "/opt/anaconda3/envs/My/lib/python3.8/site-packages/sklearn/linear_model/_sag.py:350: ConvergenceWarning: The max_iter was reached which means the coef_ did not converge\n",
      "  warnings.warn(\n",
      "/opt/anaconda3/envs/My/lib/python3.8/site-packages/sklearn/linear_model/_sag.py:350: ConvergenceWarning: The max_iter was reached which means the coef_ did not converge\n",
      "  warnings.warn(\n",
      "/opt/anaconda3/envs/My/lib/python3.8/site-packages/sklearn/linear_model/_sag.py:350: ConvergenceWarning: The max_iter was reached which means the coef_ did not converge\n",
      "  warnings.warn(\n",
      "/opt/anaconda3/envs/My/lib/python3.8/site-packages/sklearn/linear_model/_sag.py:350: ConvergenceWarning: The max_iter was reached which means the coef_ did not converge\n",
      "  warnings.warn(\n",
      "/opt/anaconda3/envs/My/lib/python3.8/site-packages/sklearn/linear_model/_sag.py:350: ConvergenceWarning: The max_iter was reached which means the coef_ did not converge\n",
      "  warnings.warn(\n",
      "/opt/anaconda3/envs/My/lib/python3.8/site-packages/sklearn/linear_model/_sag.py:350: ConvergenceWarning: The max_iter was reached which means the coef_ did not converge\n",
      "  warnings.warn(\n",
      "/opt/anaconda3/envs/My/lib/python3.8/site-packages/sklearn/linear_model/_sag.py:350: ConvergenceWarning: The max_iter was reached which means the coef_ did not converge\n",
      "  warnings.warn(\n",
      "/opt/anaconda3/envs/My/lib/python3.8/site-packages/sklearn/linear_model/_sag.py:350: ConvergenceWarning: The max_iter was reached which means the coef_ did not converge\n",
      "  warnings.warn(\n",
      "/opt/anaconda3/envs/My/lib/python3.8/site-packages/sklearn/linear_model/_sag.py:350: ConvergenceWarning: The max_iter was reached which means the coef_ did not converge\n",
      "  warnings.warn(\n"
     ]
    },
    {
     "name": "stdout",
     "output_type": "stream",
     "text": [
      "Best parameters for LogisticRegression: {'C': 10, 'penalty': 'l1', 'solver': 'liblinear'}\n",
      "Best cross-validation score for LogisticRegression: 0.9383\n",
      "\n",
      "Performing GridSearchCV for CatBoost...\n",
      "Best parameters for CatBoost: {'depth': 6, 'iterations': 200, 'learning_rate': 0.5}\n",
      "Best cross-validation score for CatBoost: 0.9501\n",
      "\n",
      "Performing GridSearchCV for GradientBoosting...\n",
      "Best parameters for GradientBoosting: {'learning_rate': 0.5, 'max_depth': 10, 'n_estimators': 100}\n",
      "Best cross-validation score for GradientBoosting: 0.9551\n",
      "\n",
      "Performing GridSearchCV for AdaBoost...\n",
      "Best parameters for AdaBoost: {'learning_rate': 1, 'n_estimators': 200}\n",
      "Best cross-validation score for AdaBoost: 0.9455\n",
      "\n",
      "Performing GridSearchCV for NaiveBayes...\n",
      "Best parameters for NaiveBayes: {}\n",
      "Best cross-validation score for NaiveBayes: 0.9056\n",
      "\n",
      "Performing GridSearch for MLP...\n",
      "Testing parameters: {'hidden_dim': 32, 'num_layers': 1, 'learning_rate': 0.001, 'batch_size': 16, 'epochs': 10}\n",
      "Testing parameters: {'hidden_dim': 32, 'num_layers': 1, 'learning_rate': 0.001, 'batch_size': 16, 'epochs': 20}\n",
      "Testing parameters: {'hidden_dim': 32, 'num_layers': 1, 'learning_rate': 0.001, 'batch_size': 32, 'epochs': 10}\n",
      "Testing parameters: {'hidden_dim': 32, 'num_layers': 1, 'learning_rate': 0.001, 'batch_size': 32, 'epochs': 20}\n",
      "Testing parameters: {'hidden_dim': 32, 'num_layers': 1, 'learning_rate': 0.001, 'batch_size': 64, 'epochs': 10}\n",
      "Testing parameters: {'hidden_dim': 32, 'num_layers': 1, 'learning_rate': 0.001, 'batch_size': 64, 'epochs': 20}\n",
      "Testing parameters: {'hidden_dim': 32, 'num_layers': 1, 'learning_rate': 0.01, 'batch_size': 16, 'epochs': 10}\n",
      "Testing parameters: {'hidden_dim': 32, 'num_layers': 1, 'learning_rate': 0.01, 'batch_size': 16, 'epochs': 20}\n",
      "Testing parameters: {'hidden_dim': 32, 'num_layers': 1, 'learning_rate': 0.01, 'batch_size': 32, 'epochs': 10}\n",
      "Testing parameters: {'hidden_dim': 32, 'num_layers': 1, 'learning_rate': 0.01, 'batch_size': 32, 'epochs': 20}\n",
      "Testing parameters: {'hidden_dim': 32, 'num_layers': 1, 'learning_rate': 0.01, 'batch_size': 64, 'epochs': 10}\n",
      "Testing parameters: {'hidden_dim': 32, 'num_layers': 1, 'learning_rate': 0.01, 'batch_size': 64, 'epochs': 20}\n",
      "Testing parameters: {'hidden_dim': 32, 'num_layers': 2, 'learning_rate': 0.001, 'batch_size': 16, 'epochs': 10}\n",
      "Testing parameters: {'hidden_dim': 32, 'num_layers': 2, 'learning_rate': 0.001, 'batch_size': 16, 'epochs': 20}\n",
      "Testing parameters: {'hidden_dim': 32, 'num_layers': 2, 'learning_rate': 0.001, 'batch_size': 32, 'epochs': 10}\n",
      "Testing parameters: {'hidden_dim': 32, 'num_layers': 2, 'learning_rate': 0.001, 'batch_size': 32, 'epochs': 20}\n",
      "Testing parameters: {'hidden_dim': 32, 'num_layers': 2, 'learning_rate': 0.001, 'batch_size': 64, 'epochs': 10}\n",
      "Testing parameters: {'hidden_dim': 32, 'num_layers': 2, 'learning_rate': 0.001, 'batch_size': 64, 'epochs': 20}\n",
      "Testing parameters: {'hidden_dim': 32, 'num_layers': 2, 'learning_rate': 0.01, 'batch_size': 16, 'epochs': 10}\n",
      "Testing parameters: {'hidden_dim': 32, 'num_layers': 2, 'learning_rate': 0.01, 'batch_size': 16, 'epochs': 20}\n",
      "Testing parameters: {'hidden_dim': 32, 'num_layers': 2, 'learning_rate': 0.01, 'batch_size': 32, 'epochs': 10}\n",
      "Testing parameters: {'hidden_dim': 32, 'num_layers': 2, 'learning_rate': 0.01, 'batch_size': 32, 'epochs': 20}\n",
      "Testing parameters: {'hidden_dim': 32, 'num_layers': 2, 'learning_rate': 0.01, 'batch_size': 64, 'epochs': 10}\n",
      "Testing parameters: {'hidden_dim': 32, 'num_layers': 2, 'learning_rate': 0.01, 'batch_size': 64, 'epochs': 20}\n",
      "Testing parameters: {'hidden_dim': 32, 'num_layers': 3, 'learning_rate': 0.001, 'batch_size': 16, 'epochs': 10}\n",
      "Testing parameters: {'hidden_dim': 32, 'num_layers': 3, 'learning_rate': 0.001, 'batch_size': 16, 'epochs': 20}\n",
      "Testing parameters: {'hidden_dim': 32, 'num_layers': 3, 'learning_rate': 0.001, 'batch_size': 32, 'epochs': 10}\n",
      "Testing parameters: {'hidden_dim': 32, 'num_layers': 3, 'learning_rate': 0.001, 'batch_size': 32, 'epochs': 20}\n",
      "Testing parameters: {'hidden_dim': 32, 'num_layers': 3, 'learning_rate': 0.001, 'batch_size': 64, 'epochs': 10}\n",
      "Testing parameters: {'hidden_dim': 32, 'num_layers': 3, 'learning_rate': 0.001, 'batch_size': 64, 'epochs': 20}\n",
      "Testing parameters: {'hidden_dim': 32, 'num_layers': 3, 'learning_rate': 0.01, 'batch_size': 16, 'epochs': 10}\n",
      "Testing parameters: {'hidden_dim': 32, 'num_layers': 3, 'learning_rate': 0.01, 'batch_size': 16, 'epochs': 20}\n",
      "Testing parameters: {'hidden_dim': 32, 'num_layers': 3, 'learning_rate': 0.01, 'batch_size': 32, 'epochs': 10}\n",
      "Testing parameters: {'hidden_dim': 32, 'num_layers': 3, 'learning_rate': 0.01, 'batch_size': 32, 'epochs': 20}\n",
      "Testing parameters: {'hidden_dim': 32, 'num_layers': 3, 'learning_rate': 0.01, 'batch_size': 64, 'epochs': 10}\n",
      "Testing parameters: {'hidden_dim': 32, 'num_layers': 3, 'learning_rate': 0.01, 'batch_size': 64, 'epochs': 20}\n",
      "Testing parameters: {'hidden_dim': 64, 'num_layers': 1, 'learning_rate': 0.001, 'batch_size': 16, 'epochs': 10}\n",
      "Testing parameters: {'hidden_dim': 64, 'num_layers': 1, 'learning_rate': 0.001, 'batch_size': 16, 'epochs': 20}\n",
      "Testing parameters: {'hidden_dim': 64, 'num_layers': 1, 'learning_rate': 0.001, 'batch_size': 32, 'epochs': 10}\n",
      "Testing parameters: {'hidden_dim': 64, 'num_layers': 1, 'learning_rate': 0.001, 'batch_size': 32, 'epochs': 20}\n",
      "Testing parameters: {'hidden_dim': 64, 'num_layers': 1, 'learning_rate': 0.001, 'batch_size': 64, 'epochs': 10}\n",
      "Testing parameters: {'hidden_dim': 64, 'num_layers': 1, 'learning_rate': 0.001, 'batch_size': 64, 'epochs': 20}\n",
      "Testing parameters: {'hidden_dim': 64, 'num_layers': 1, 'learning_rate': 0.01, 'batch_size': 16, 'epochs': 10}\n",
      "Testing parameters: {'hidden_dim': 64, 'num_layers': 1, 'learning_rate': 0.01, 'batch_size': 16, 'epochs': 20}\n",
      "Testing parameters: {'hidden_dim': 64, 'num_layers': 1, 'learning_rate': 0.01, 'batch_size': 32, 'epochs': 10}\n",
      "Testing parameters: {'hidden_dim': 64, 'num_layers': 1, 'learning_rate': 0.01, 'batch_size': 32, 'epochs': 20}\n",
      "Testing parameters: {'hidden_dim': 64, 'num_layers': 1, 'learning_rate': 0.01, 'batch_size': 64, 'epochs': 10}\n",
      "Testing parameters: {'hidden_dim': 64, 'num_layers': 1, 'learning_rate': 0.01, 'batch_size': 64, 'epochs': 20}\n",
      "Testing parameters: {'hidden_dim': 64, 'num_layers': 2, 'learning_rate': 0.001, 'batch_size': 16, 'epochs': 10}\n",
      "Testing parameters: {'hidden_dim': 64, 'num_layers': 2, 'learning_rate': 0.001, 'batch_size': 16, 'epochs': 20}\n",
      "Testing parameters: {'hidden_dim': 64, 'num_layers': 2, 'learning_rate': 0.001, 'batch_size': 32, 'epochs': 10}\n",
      "Testing parameters: {'hidden_dim': 64, 'num_layers': 2, 'learning_rate': 0.001, 'batch_size': 32, 'epochs': 20}\n",
      "Testing parameters: {'hidden_dim': 64, 'num_layers': 2, 'learning_rate': 0.001, 'batch_size': 64, 'epochs': 10}\n",
      "Testing parameters: {'hidden_dim': 64, 'num_layers': 2, 'learning_rate': 0.001, 'batch_size': 64, 'epochs': 20}\n",
      "Testing parameters: {'hidden_dim': 64, 'num_layers': 2, 'learning_rate': 0.01, 'batch_size': 16, 'epochs': 10}\n",
      "Testing parameters: {'hidden_dim': 64, 'num_layers': 2, 'learning_rate': 0.01, 'batch_size': 16, 'epochs': 20}\n",
      "Testing parameters: {'hidden_dim': 64, 'num_layers': 2, 'learning_rate': 0.01, 'batch_size': 32, 'epochs': 10}\n",
      "Testing parameters: {'hidden_dim': 64, 'num_layers': 2, 'learning_rate': 0.01, 'batch_size': 32, 'epochs': 20}\n",
      "Testing parameters: {'hidden_dim': 64, 'num_layers': 2, 'learning_rate': 0.01, 'batch_size': 64, 'epochs': 10}\n",
      "Testing parameters: {'hidden_dim': 64, 'num_layers': 2, 'learning_rate': 0.01, 'batch_size': 64, 'epochs': 20}\n",
      "Testing parameters: {'hidden_dim': 64, 'num_layers': 3, 'learning_rate': 0.001, 'batch_size': 16, 'epochs': 10}\n",
      "Testing parameters: {'hidden_dim': 64, 'num_layers': 3, 'learning_rate': 0.001, 'batch_size': 16, 'epochs': 20}\n",
      "Testing parameters: {'hidden_dim': 64, 'num_layers': 3, 'learning_rate': 0.001, 'batch_size': 32, 'epochs': 10}\n",
      "Testing parameters: {'hidden_dim': 64, 'num_layers': 3, 'learning_rate': 0.001, 'batch_size': 32, 'epochs': 20}\n",
      "Testing parameters: {'hidden_dim': 64, 'num_layers': 3, 'learning_rate': 0.001, 'batch_size': 64, 'epochs': 10}\n",
      "Testing parameters: {'hidden_dim': 64, 'num_layers': 3, 'learning_rate': 0.001, 'batch_size': 64, 'epochs': 20}\n",
      "Testing parameters: {'hidden_dim': 64, 'num_layers': 3, 'learning_rate': 0.01, 'batch_size': 16, 'epochs': 10}\n",
      "Testing parameters: {'hidden_dim': 64, 'num_layers': 3, 'learning_rate': 0.01, 'batch_size': 16, 'epochs': 20}\n",
      "Testing parameters: {'hidden_dim': 64, 'num_layers': 3, 'learning_rate': 0.01, 'batch_size': 32, 'epochs': 10}\n",
      "Testing parameters: {'hidden_dim': 64, 'num_layers': 3, 'learning_rate': 0.01, 'batch_size': 32, 'epochs': 20}\n",
      "Testing parameters: {'hidden_dim': 64, 'num_layers': 3, 'learning_rate': 0.01, 'batch_size': 64, 'epochs': 10}\n",
      "Testing parameters: {'hidden_dim': 64, 'num_layers': 3, 'learning_rate': 0.01, 'batch_size': 64, 'epochs': 20}\n",
      "Testing parameters: {'hidden_dim': 128, 'num_layers': 1, 'learning_rate': 0.001, 'batch_size': 16, 'epochs': 10}\n",
      "Testing parameters: {'hidden_dim': 128, 'num_layers': 1, 'learning_rate': 0.001, 'batch_size': 16, 'epochs': 20}\n",
      "Testing parameters: {'hidden_dim': 128, 'num_layers': 1, 'learning_rate': 0.001, 'batch_size': 32, 'epochs': 10}\n",
      "Testing parameters: {'hidden_dim': 128, 'num_layers': 1, 'learning_rate': 0.001, 'batch_size': 32, 'epochs': 20}\n",
      "Testing parameters: {'hidden_dim': 128, 'num_layers': 1, 'learning_rate': 0.001, 'batch_size': 64, 'epochs': 10}\n",
      "Testing parameters: {'hidden_dim': 128, 'num_layers': 1, 'learning_rate': 0.001, 'batch_size': 64, 'epochs': 20}\n",
      "Testing parameters: {'hidden_dim': 128, 'num_layers': 1, 'learning_rate': 0.01, 'batch_size': 16, 'epochs': 10}\n",
      "Testing parameters: {'hidden_dim': 128, 'num_layers': 1, 'learning_rate': 0.01, 'batch_size': 16, 'epochs': 20}\n",
      "Testing parameters: {'hidden_dim': 128, 'num_layers': 1, 'learning_rate': 0.01, 'batch_size': 32, 'epochs': 10}\n",
      "Testing parameters: {'hidden_dim': 128, 'num_layers': 1, 'learning_rate': 0.01, 'batch_size': 32, 'epochs': 20}\n",
      "Testing parameters: {'hidden_dim': 128, 'num_layers': 1, 'learning_rate': 0.01, 'batch_size': 64, 'epochs': 10}\n",
      "Testing parameters: {'hidden_dim': 128, 'num_layers': 1, 'learning_rate': 0.01, 'batch_size': 64, 'epochs': 20}\n",
      "Testing parameters: {'hidden_dim': 128, 'num_layers': 2, 'learning_rate': 0.001, 'batch_size': 16, 'epochs': 10}\n",
      "Testing parameters: {'hidden_dim': 128, 'num_layers': 2, 'learning_rate': 0.001, 'batch_size': 16, 'epochs': 20}\n",
      "Testing parameters: {'hidden_dim': 128, 'num_layers': 2, 'learning_rate': 0.001, 'batch_size': 32, 'epochs': 10}\n",
      "Testing parameters: {'hidden_dim': 128, 'num_layers': 2, 'learning_rate': 0.001, 'batch_size': 32, 'epochs': 20}\n",
      "Testing parameters: {'hidden_dim': 128, 'num_layers': 2, 'learning_rate': 0.001, 'batch_size': 64, 'epochs': 10}\n",
      "Testing parameters: {'hidden_dim': 128, 'num_layers': 2, 'learning_rate': 0.001, 'batch_size': 64, 'epochs': 20}\n",
      "Testing parameters: {'hidden_dim': 128, 'num_layers': 2, 'learning_rate': 0.01, 'batch_size': 16, 'epochs': 10}\n",
      "Testing parameters: {'hidden_dim': 128, 'num_layers': 2, 'learning_rate': 0.01, 'batch_size': 16, 'epochs': 20}\n",
      "Testing parameters: {'hidden_dim': 128, 'num_layers': 2, 'learning_rate': 0.01, 'batch_size': 32, 'epochs': 10}\n",
      "Testing parameters: {'hidden_dim': 128, 'num_layers': 2, 'learning_rate': 0.01, 'batch_size': 32, 'epochs': 20}\n",
      "Testing parameters: {'hidden_dim': 128, 'num_layers': 2, 'learning_rate': 0.01, 'batch_size': 64, 'epochs': 10}\n",
      "Testing parameters: {'hidden_dim': 128, 'num_layers': 2, 'learning_rate': 0.01, 'batch_size': 64, 'epochs': 20}\n",
      "Testing parameters: {'hidden_dim': 128, 'num_layers': 3, 'learning_rate': 0.001, 'batch_size': 16, 'epochs': 10}\n",
      "Testing parameters: {'hidden_dim': 128, 'num_layers': 3, 'learning_rate': 0.001, 'batch_size': 16, 'epochs': 20}\n",
      "Testing parameters: {'hidden_dim': 128, 'num_layers': 3, 'learning_rate': 0.001, 'batch_size': 32, 'epochs': 10}\n",
      "Testing parameters: {'hidden_dim': 128, 'num_layers': 3, 'learning_rate': 0.001, 'batch_size': 32, 'epochs': 20}\n",
      "Testing parameters: {'hidden_dim': 128, 'num_layers': 3, 'learning_rate': 0.001, 'batch_size': 64, 'epochs': 10}\n",
      "Testing parameters: {'hidden_dim': 128, 'num_layers': 3, 'learning_rate': 0.001, 'batch_size': 64, 'epochs': 20}\n",
      "Testing parameters: {'hidden_dim': 128, 'num_layers': 3, 'learning_rate': 0.01, 'batch_size': 16, 'epochs': 10}\n",
      "Testing parameters: {'hidden_dim': 128, 'num_layers': 3, 'learning_rate': 0.01, 'batch_size': 16, 'epochs': 20}\n",
      "Testing parameters: {'hidden_dim': 128, 'num_layers': 3, 'learning_rate': 0.01, 'batch_size': 32, 'epochs': 10}\n",
      "Testing parameters: {'hidden_dim': 128, 'num_layers': 3, 'learning_rate': 0.01, 'batch_size': 32, 'epochs': 20}\n",
      "Testing parameters: {'hidden_dim': 128, 'num_layers': 3, 'learning_rate': 0.01, 'batch_size': 64, 'epochs': 10}\n",
      "Testing parameters: {'hidden_dim': 128, 'num_layers': 3, 'learning_rate': 0.01, 'batch_size': 64, 'epochs': 20}\n",
      "Best parameters for MLP: {'hidden_dim': 128, 'num_layers': 1, 'learning_rate': 0.001, 'batch_size': 32, 'epochs': 20}\n",
      "Best cross-validation score for MLP: 0.9597\n"
     ]
    }
   ],
   "source": [
    "best_results = []\n",
    "\n",
    "# Existing model tuning with GridSearchCV\n",
    "for model_name, model in models.items():\n",
    "    if model_name == 'MLP':\n",
    "        print(f\"\\nPerforming GridSearch for {model_name}...\")\n",
    "        best_score = 0\n",
    "        best_params = None\n",
    "        \n",
    "        # Manual grid search for MLP\n",
    "        for hidden_dim in param_grids['MLP']['hidden_dim']:\n",
    "            for num_layers in param_grids['MLP']['num_layers']:\n",
    "                for learning_rate in param_grids['MLP']['learning_rate']:\n",
    "                    for batch_size in param_grids['MLP']['batch_size']:\n",
    "                        for epochs in param_grids['MLP']['epochs']:\n",
    "                            params = {\n",
    "                                'hidden_dim': hidden_dim,\n",
    "                                'num_layers': num_layers,\n",
    "                                'learning_rate': learning_rate,\n",
    "                                'batch_size': batch_size,\n",
    "                                'epochs': epochs\n",
    "                            }\n",
    "                            print(f\"Testing parameters: {params}\")\n",
    "                            accuracy, trained_model = train_and_evaluate_mlp(X_resampled, y_resampled, params)\n",
    "                            \n",
    "                            if accuracy > best_score:\n",
    "                                best_score = accuracy\n",
    "                                best_params = params\n",
    "                                best_mlp_model = trained_model\n",
    "                                \n",
    "        best_results.append({'Model': model_name, 'Best Score': best_score, 'Best Params': best_params})\n",
    "        print(f\"Best parameters for {model_name}: {best_params}\")\n",
    "        print(f\"Best cross-validation score for {model_name}: {best_score:.4f}\")\n",
    "    elif model_name == 'SVC':\n",
    "        continue\n",
    "    else:\n",
    "        print(f\"\\nPerforming GridSearchCV for {model_name}...\")\n",
    "        grid_search = GridSearchCV(estimator=model, param_grid=param_grids[model_name], cv=5, scoring='accuracy', verbose=0, n_jobs=-1)\n",
    "        grid_search.fit(X_resampled, y_resampled)\n",
    "        best_params = grid_search.best_params_\n",
    "        best_score = grid_search.best_score_\n",
    "        best_results.append({'Model': model_name, 'Best Score': best_score, 'Best Params': best_params})\n",
    "        print(f\"Best parameters for {model_name}: {best_params}\")\n",
    "        print(f\"Best cross-validation score for {model_name}: {best_score:.4f}\")"
   ]
  },
  {
   "cell_type": "code",
   "execution_count": 107,
   "metadata": {},
   "outputs": [
    {
     "data": {
      "text/html": [
       "<div>\n",
       "<style scoped>\n",
       "    .dataframe tbody tr th:only-of-type {\n",
       "        vertical-align: middle;\n",
       "    }\n",
       "\n",
       "    .dataframe tbody tr th {\n",
       "        vertical-align: top;\n",
       "    }\n",
       "\n",
       "    .dataframe thead th {\n",
       "        text-align: right;\n",
       "    }\n",
       "</style>\n",
       "<table border=\"1\" class=\"dataframe\">\n",
       "  <thead>\n",
       "    <tr style=\"text-align: right;\">\n",
       "      <th></th>\n",
       "      <th>Model</th>\n",
       "      <th>Mean Accuracy</th>\n",
       "    </tr>\n",
       "  </thead>\n",
       "  <tbody>\n",
       "    <tr>\n",
       "      <th>11</th>\n",
       "      <td>MLP</td>\n",
       "      <td>0.831440</td>\n",
       "    </tr>\n",
       "    <tr>\n",
       "      <th>9</th>\n",
       "      <td>AdaBoost</td>\n",
       "      <td>0.803245</td>\n",
       "    </tr>\n",
       "    <tr>\n",
       "      <th>8</th>\n",
       "      <td>GradientBoosting</td>\n",
       "      <td>0.803043</td>\n",
       "    </tr>\n",
       "    <tr>\n",
       "      <th>7</th>\n",
       "      <td>CatBoost</td>\n",
       "      <td>0.800406</td>\n",
       "    </tr>\n",
       "    <tr>\n",
       "      <th>2</th>\n",
       "      <td>LGBM</td>\n",
       "      <td>0.793509</td>\n",
       "    </tr>\n",
       "    <tr>\n",
       "      <th>0</th>\n",
       "      <td>RandomForest</td>\n",
       "      <td>0.792698</td>\n",
       "    </tr>\n",
       "    <tr>\n",
       "      <th>1</th>\n",
       "      <td>XGBoost</td>\n",
       "      <td>0.782150</td>\n",
       "    </tr>\n",
       "    <tr>\n",
       "      <th>4</th>\n",
       "      <td>KNN</td>\n",
       "      <td>0.757404</td>\n",
       "    </tr>\n",
       "    <tr>\n",
       "      <th>6</th>\n",
       "      <td>LogisticRegression</td>\n",
       "      <td>0.750304</td>\n",
       "    </tr>\n",
       "    <tr>\n",
       "      <th>3</th>\n",
       "      <td>DecisionTree</td>\n",
       "      <td>0.730223</td>\n",
       "    </tr>\n",
       "    <tr>\n",
       "      <th>10</th>\n",
       "      <td>NaiveBayes</td>\n",
       "      <td>0.663286</td>\n",
       "    </tr>\n",
       "    <tr>\n",
       "      <th>5</th>\n",
       "      <td>SVC</td>\n",
       "      <td>0.658824</td>\n",
       "    </tr>\n",
       "  </tbody>\n",
       "</table>\n",
       "</div>"
      ],
      "text/plain": [
       "                 Model  Mean Accuracy\n",
       "11                 MLP       0.831440\n",
       "9             AdaBoost       0.803245\n",
       "8     GradientBoosting       0.803043\n",
       "7             CatBoost       0.800406\n",
       "2                 LGBM       0.793509\n",
       "0         RandomForest       0.792698\n",
       "1              XGBoost       0.782150\n",
       "4                  KNN       0.757404\n",
       "6   LogisticRegression       0.750304\n",
       "3         DecisionTree       0.730223\n",
       "10          NaiveBayes       0.663286\n",
       "5                  SVC       0.658824"
      ]
     },
     "execution_count": 107,
     "metadata": {},
     "output_type": "execute_result"
    }
   ],
   "source": [
    "cv_results_df = pd.DataFrame(list(cv_results.items()), columns=['Model', 'Mean Accuracy'])\n",
    "cv_results_df = cv_results_df.sort_values(by='Mean Accuracy', ascending=False)\n",
    "cv_results_df"
   ]
  },
  {
   "cell_type": "code",
   "execution_count": 108,
   "metadata": {},
   "outputs": [
    {
     "name": "stdout",
     "output_type": "stream",
     "text": [
      "\n",
      "Best model from CV: MLP\n"
     ]
    }
   ],
   "source": [
    "best_model_name = cv_results_df.iloc[0]['Model']\n",
    "print(f\"\\nBest model from CV: {best_model_name}\")"
   ]
  },
  {
   "cell_type": "code",
   "execution_count": 109,
   "metadata": {},
   "outputs": [
    {
     "name": "stdout",
     "output_type": "stream",
     "text": [
      "Epoch 1/20, Loss: 0.4032\n",
      "Epoch 2/20, Loss: 0.3800\n",
      "Epoch 3/20, Loss: 0.3757\n",
      "Epoch 4/20, Loss: 0.3719\n",
      "Epoch 5/20, Loss: 0.3717\n",
      "Epoch 6/20, Loss: 0.3700\n",
      "Epoch 7/20, Loss: 0.3680\n",
      "Epoch 8/20, Loss: 0.3663\n",
      "Epoch 9/20, Loss: 0.3656\n",
      "Epoch 10/20, Loss: 0.3649\n",
      "Epoch 11/20, Loss: 0.3641\n",
      "Epoch 12/20, Loss: 0.3623\n",
      "Epoch 13/20, Loss: 0.3635\n",
      "Epoch 14/20, Loss: 0.3616\n",
      "Epoch 15/20, Loss: 0.3611\n",
      "Epoch 16/20, Loss: 0.3606\n",
      "Epoch 17/20, Loss: 0.3599\n",
      "Epoch 18/20, Loss: 0.3590\n",
      "Epoch 19/20, Loss: 0.3595\n",
      "Epoch 20/20, Loss: 0.3585\n",
      "Training Accuracy: 0.95\n",
      "Training Precision: 0.96\n",
      "Training Recall: 0.96\n",
      "Training F1-Score: 0.96\n",
      "---\n",
      "Test Accuracy: 0.77\n",
      "Test Precision: 0.55\n",
      "Test Recall: 0.79\n",
      "Test F1-Score: 0.65\n"
     ]
    },
    {
     "data": {
      "application/vnd.plotly.v1+json": {
       "config": {
        "plotlyServerURL": "https://plot.ly"
       },
       "data": [
        {
         "hovertemplate": "False Positive Rate=%{x}<br>True Positive Rate=%{y}<extra></extra>",
         "legendgroup": "",
         "line": {
          "color": "#636efa",
          "dash": "solid"
         },
         "marker": {
          "symbol": "circle"
         },
         "mode": "lines",
         "name": "",
         "orientation": "v",
         "showlegend": false,
         "type": "scatter",
         "x": [
          0,
          0.1327319587628866,
          0.14304123711340205,
          0.14561855670103094,
          0.148840206185567,
          0.15141752577319587,
          0.15270618556701032,
          0.15399484536082475,
          0.15528350515463918,
          0.15528350515463918,
          0.15721649484536082,
          0.15850515463917525,
          0.15979381443298968,
          0.16172680412371135,
          0.16237113402061856,
          0.16301546391752578,
          0.16301546391752578,
          0.16559278350515463,
          0.16559278350515463,
          0.16688144329896906,
          0.16752577319587628,
          0.16945876288659795,
          0.17010309278350516,
          0.1713917525773196,
          0.17268041237113402,
          0.17268041237113402,
          0.17332474226804123,
          0.17332474226804123,
          0.17461340206185566,
          0.17590206185567012,
          0.17590206185567012,
          0.17719072164948454,
          0.17719072164948454,
          0.17847938144329897,
          0.17847938144329897,
          0.1791237113402062,
          0.1791237113402062,
          0.18041237113402062,
          0.18041237113402062,
          0.18105670103092783,
          0.18105670103092783,
          0.18298969072164947,
          0.18298969072164947,
          0.18363402061855671,
          0.18363402061855671,
          0.18492268041237114,
          0.18492268041237114,
          0.18621134020618557,
          0.18621134020618557,
          0.18685567010309279,
          0.18685567010309279,
          0.1875,
          0.1875,
          0.18814432989690721,
          0.18814432989690721,
          0.19007731958762886,
          0.19007731958762886,
          0.19136597938144329,
          0.19136597938144329,
          0.19265463917525774,
          0.19265463917525774,
          0.19329896907216496,
          0.19329896907216496,
          0.19458762886597938,
          0.19458762886597938,
          0.19716494845360824,
          0.19716494845360824,
          0.20103092783505155,
          0.20103092783505155,
          0.20167525773195877,
          0.20167525773195877,
          0.2029639175257732,
          0.2029639175257732,
          0.20489690721649484,
          0.20489690721649484,
          0.20618556701030927,
          0.20618556701030927,
          0.20682989690721648,
          0.20682989690721648,
          0.21005154639175258,
          0.21005154639175258,
          0.211340206185567,
          0.211340206185567,
          0.21327319587628865,
          0.21327319587628865,
          0.21391752577319587,
          0.21391752577319587,
          0.21520618556701032,
          0.21520618556701032,
          0.21649484536082475,
          0.21649484536082475,
          0.2190721649484536,
          0.2190721649484536,
          0.22164948453608246,
          0.22164948453608246,
          0.22422680412371135,
          0.22422680412371135,
          0.22487113402061856,
          0.22487113402061856,
          0.22551546391752578,
          0.22551546391752578,
          0.22744845360824742,
          0.22744845360824742,
          0.22809278350515463,
          0.22809278350515463,
          0.23904639175257733,
          0.23904639175257733,
          0.2422680412371134,
          0.2422680412371134,
          0.24355670103092783,
          0.24355670103092783,
          0.24613402061855671,
          0.24613402061855671,
          0.2545103092783505,
          0.2545103092783505,
          0.25644329896907214,
          0.25644329896907214,
          0.26868556701030927,
          0.26868556701030927,
          0.27835051546391754,
          0.27835051546391754,
          0.2815721649484536,
          0.2815721649484536,
          0.28350515463917525,
          0.28350515463917525,
          0.2867268041237113,
          0.2867268041237113,
          0.28801546391752575,
          0.28801546391752575,
          0.29961340206185566,
          0.29961340206185566,
          0.3021907216494845,
          0.3021907216494845,
          0.3079896907216495,
          0.3079896907216495,
          0.3086340206185567,
          0.3086340206185567,
          0.3131443298969072,
          0.3131443298969072,
          0.31507731958762886,
          0.31507731958762886,
          0.3286082474226804,
          0.3286082474226804,
          0.32989690721649484,
          0.32989690721649484,
          0.33440721649484534,
          0.33440721649484534,
          0.3395618556701031,
          0.3395618556701031,
          0.3472938144329897,
          0.3472938144329897,
          0.34987113402061853,
          0.34987113402061853,
          0.3550257731958763,
          0.3550257731958763,
          0.35760309278350516,
          0.35760309278350516,
          0.36082474226804123,
          0.36082474226804123,
          0.3627577319587629,
          0.3627577319587629,
          0.3634020618556701,
          0.3634020618556701,
          0.36726804123711343,
          0.36726804123711343,
          0.37177835051546393,
          0.37177835051546393,
          0.37628865979381443,
          0.37628865979381443,
          0.37757731958762886,
          0.37757731958762886,
          0.37822164948453607,
          0.37822164948453607,
          0.38402061855670105,
          0.38402061855670105,
          0.3917525773195876,
          0.3917525773195876,
          0.39819587628865977,
          0.39819587628865977,
          0.40012886597938147,
          0.40012886597938147,
          0.4027061855670103,
          0.4027061855670103,
          0.4110824742268041,
          0.4110824742268041,
          0.42461340206185566,
          0.42461340206185566,
          0.4265463917525773,
          0.4265463917525773,
          0.43105670103092786,
          0.43105670103092786,
          0.43170103092783507,
          0.43170103092783507,
          0.4323453608247423,
          0.4323453608247423,
          0.43492268041237114,
          0.43492268041237114,
          0.4368556701030928,
          0.4368556701030928,
          0.43878865979381443,
          0.43878865979381443,
          0.4413659793814433,
          0.4413659793814433,
          0.4420103092783505,
          0.4420103092783505,
          0.4478092783505155,
          0.4478092783505155,
          0.45038659793814434,
          0.45038659793814434,
          0.4536082474226804,
          0.4536082474226804,
          0.45618556701030927,
          0.45618556701030927,
          0.46005154639175255,
          0.46005154639175255,
          0.4652061855670103,
          0.4652061855670103,
          0.4697164948453608,
          0.4697164948453608,
          0.4722938144329897,
          0.4722938144329897,
          0.4729381443298969,
          0.4729381443298969,
          0.4742268041237113,
          0.4742268041237113,
          0.47487113402061853,
          0.47551546391752575,
          0.4793814432989691,
          0.4806701030927835,
          0.48582474226804123,
          0.48582474226804123,
          0.49355670103092786,
          0.49355670103092786,
          0.5019329896907216,
          0.5019329896907216,
          0.5122422680412371,
          0.5122422680412371,
          0.5128865979381443,
          0.5128865979381443,
          0.5161082474226805,
          0.5161082474226805,
          0.5173969072164949,
          0.5173969072164949,
          0.5212628865979382,
          0.5212628865979382,
          0.5231958762886598,
          0.5231958762886598,
          0.5244845360824743,
          0.5244845360824743,
          0.5264175257731959,
          0.5264175257731959,
          0.5277061855670103,
          0.5277061855670103,
          0.529639175257732,
          0.529639175257732,
          0.5399484536082474,
          0.5399484536082474,
          0.5470360824742269,
          0.5470360824742269,
          0.5489690721649485,
          0.5489690721649485,
          0.5496134020618557,
          0.5509020618556701,
          0.5521907216494846,
          0.5521907216494846,
          0.5528350515463918,
          0.5554123711340206,
          0.5554123711340206,
          0.5740979381443299,
          0.5740979381443299,
          0.5779639175257731,
          0.5779639175257731,
          0.5786082474226805,
          0.5786082474226805,
          0.5805412371134021,
          0.5805412371134021,
          0.5837628865979382,
          0.5837628865979382,
          0.586340206185567,
          0.586340206185567,
          0.5914948453608248,
          0.5914948453608248,
          0.6076030927835051,
          0.6076030927835051,
          0.6166237113402062,
          0.6166237113402062,
          0.6301546391752577,
          0.6301546391752577,
          0.7061855670103093,
          0.7061855670103093,
          0.7210051546391752,
          0.7210051546391752,
          0.7255154639175257,
          0.7255154639175257,
          0.729381443298969,
          0.729381443298969,
          0.7319587628865979,
          0.7319587628865979,
          0.7435567010309279,
          0.7435567010309279,
          0.7577319587628866,
          0.7577319587628866,
          0.7789948453608248,
          0.7789948453608248,
          0.7976804123711341,
          0.7976804123711341,
          0.8273195876288659,
          0.8273195876288659,
          0.833118556701031,
          0.833118556701031,
          0.8640463917525774,
          0.8640463917525774,
          0.8994845360824743,
          0.8994845360824743,
          0.9065721649484536,
          0.9065721649484536,
          0.9439432989690721,
          0.9452319587628866,
          0.9458762886597938,
          0.9484536082474226,
          0.9503865979381443,
          0.9548969072164949,
          1
         ],
         "xaxis": "x",
         "y": [
          0,
          0.5721925133689839,
          0.5918003565062389,
          0.6042780748663101,
          0.6096256684491979,
          0.6167557932263814,
          0.6185383244206774,
          0.6221033868092691,
          0.6238859180035651,
          0.6256684491978609,
          0.6274509803921569,
          0.6381461675579323,
          0.6399286987522281,
          0.6399286987522281,
          0.6417112299465241,
          0.6417112299465241,
          0.64349376114082,
          0.6452762923351159,
          0.6488413547237076,
          0.6506238859180036,
          0.6541889483065954,
          0.6541889483065954,
          0.6559714795008913,
          0.6595365418894831,
          0.6595365418894831,
          0.661319073083779,
          0.661319073083779,
          0.6648841354723708,
          0.6648841354723708,
          0.6648841354723708,
          0.6666666666666666,
          0.6666666666666666,
          0.6702317290552585,
          0.6702317290552585,
          0.6737967914438503,
          0.6737967914438503,
          0.6773618538324421,
          0.6773618538324421,
          0.679144385026738,
          0.679144385026738,
          0.6827094474153298,
          0.6827094474153298,
          0.6844919786096256,
          0.6844919786096256,
          0.6898395721925134,
          0.6898395721925134,
          0.696969696969697,
          0.696969696969697,
          0.7005347593582888,
          0.7005347593582888,
          0.7040998217468806,
          0.7040998217468806,
          0.7130124777183601,
          0.7130124777183601,
          0.714795008912656,
          0.714795008912656,
          0.7201426024955436,
          0.7201426024955436,
          0.7219251336898396,
          0.7219251336898396,
          0.7237076648841355,
          0.7237076648841355,
          0.7272727272727273,
          0.7272727272727273,
          0.732620320855615,
          0.732620320855615,
          0.7344028520499108,
          0.7344028520499108,
          0.7379679144385026,
          0.7379679144385026,
          0.7415329768270945,
          0.7415329768270945,
          0.7450980392156863,
          0.7450980392156863,
          0.7522281639928698,
          0.7522281639928698,
          0.7557932263814616,
          0.7557932263814616,
          0.7575757575757576,
          0.7575757575757576,
          0.7593582887700535,
          0.7593582887700535,
          0.7611408199643493,
          0.7611408199643493,
          0.7629233511586453,
          0.7629233511586453,
          0.7664884135472371,
          0.7664884135472371,
          0.7700534759358288,
          0.7700534759358288,
          0.7736185383244206,
          0.7736185383244206,
          0.7754010695187166,
          0.7754010695187166,
          0.7771836007130125,
          0.7771836007130125,
          0.7789661319073083,
          0.7789661319073083,
          0.7807486631016043,
          0.7807486631016043,
          0.7825311942959001,
          0.7825311942959001,
          0.7843137254901961,
          0.7843137254901961,
          0.786096256684492,
          0.786096256684492,
          0.7896613190730838,
          0.7896613190730838,
          0.7932263814616756,
          0.7932263814616756,
          0.7950089126559715,
          0.7950089126559715,
          0.7967914438502673,
          0.7967914438502673,
          0.7985739750445633,
          0.7985739750445633,
          0.8003565062388592,
          0.8003565062388592,
          0.8021390374331551,
          0.8021390374331551,
          0.803921568627451,
          0.803921568627451,
          0.8057040998217468,
          0.8057040998217468,
          0.8074866310160428,
          0.8074866310160428,
          0.8092691622103387,
          0.8092691622103387,
          0.8110516934046346,
          0.8110516934046346,
          0.8128342245989305,
          0.8128342245989305,
          0.8146167557932263,
          0.8146167557932263,
          0.8163992869875223,
          0.8163992869875223,
          0.8181818181818182,
          0.8181818181818182,
          0.8199643493761141,
          0.8199643493761141,
          0.8235294117647058,
          0.8235294117647058,
          0.8306595365418895,
          0.8306595365418895,
          0.8324420677361853,
          0.8324420677361853,
          0.8342245989304813,
          0.8342245989304813,
          0.8377896613190731,
          0.8377896613190731,
          0.839572192513369,
          0.839572192513369,
          0.8413547237076648,
          0.8413547237076648,
          0.8431372549019608,
          0.8431372549019608,
          0.8449197860962567,
          0.8449197860962567,
          0.8467023172905526,
          0.8467023172905526,
          0.8502673796791443,
          0.8502673796791443,
          0.8520499108734403,
          0.8520499108734403,
          0.8538324420677362,
          0.8538324420677362,
          0.8556149732620321,
          0.8556149732620321,
          0.857397504456328,
          0.857397504456328,
          0.8591800356506238,
          0.8591800356506238,
          0.8609625668449198,
          0.8609625668449198,
          0.8627450980392157,
          0.8627450980392157,
          0.8645276292335116,
          0.8645276292335116,
          0.8663101604278075,
          0.8663101604278075,
          0.8680926916221033,
          0.8680926916221033,
          0.8698752228163993,
          0.8698752228163993,
          0.8716577540106952,
          0.8716577540106952,
          0.8734402852049911,
          0.8734402852049911,
          0.875222816399287,
          0.875222816399287,
          0.8787878787878788,
          0.8787878787878788,
          0.8823529411764706,
          0.8823529411764706,
          0.8841354723707665,
          0.8841354723707665,
          0.8859180035650623,
          0.8859180035650623,
          0.8877005347593583,
          0.8877005347593583,
          0.8894830659536542,
          0.8894830659536542,
          0.8912655971479501,
          0.8912655971479501,
          0.893048128342246,
          0.893048128342246,
          0.8948306595365418,
          0.8948306595365418,
          0.8966131907308378,
          0.8966131907308378,
          0.8983957219251337,
          0.8983957219251337,
          0.9001782531194296,
          0.9001782531194296,
          0.9019607843137255,
          0.9019607843137255,
          0.9037433155080213,
          0.9037433155080213,
          0.9055258467023173,
          0.9055258467023173,
          0.9073083778966132,
          0.9073083778966132,
          0.9090909090909091,
          0.9090909090909091,
          0.910873440285205,
          0.910873440285205,
          0.9126559714795008,
          0.9126559714795008,
          0.9126559714795008,
          0.9126559714795008,
          0.9162210338680927,
          0.9162210338680927,
          0.9180035650623886,
          0.9180035650623886,
          0.9215686274509803,
          0.9215686274509803,
          0.9233511586452763,
          0.9233511586452763,
          0.9251336898395722,
          0.9251336898395722,
          0.9269162210338681,
          0.9269162210338681,
          0.928698752228164,
          0.928698752228164,
          0.93048128342246,
          0.93048128342246,
          0.9322638146167558,
          0.9322638146167558,
          0.9340463458110517,
          0.9340463458110517,
          0.9358288770053476,
          0.9358288770053476,
          0.9376114081996435,
          0.9376114081996435,
          0.9393939393939394,
          0.9393939393939394,
          0.9411764705882353,
          0.9411764705882353,
          0.9429590017825312,
          0.9429590017825312,
          0.946524064171123,
          0.946524064171123,
          0.946524064171123,
          0.946524064171123,
          0.9500891265597148,
          0.9518716577540107,
          0.9518716577540107,
          0.9536541889483066,
          0.9536541889483066,
          0.9554367201426025,
          0.9554367201426025,
          0.9572192513368984,
          0.9572192513368984,
          0.9590017825311943,
          0.9590017825311943,
          0.9607843137254902,
          0.9607843137254902,
          0.964349376114082,
          0.964349376114082,
          0.966131907308378,
          0.966131907308378,
          0.9679144385026738,
          0.9679144385026738,
          0.9696969696969697,
          0.9696969696969697,
          0.9714795008912656,
          0.9714795008912656,
          0.9732620320855615,
          0.9732620320855615,
          0.9750445632798574,
          0.9750445632798574,
          0.9768270944741533,
          0.9768270944741533,
          0.9786096256684492,
          0.9786096256684492,
          0.982174688057041,
          0.982174688057041,
          0.983957219251337,
          0.983957219251337,
          0.9857397504456328,
          0.9857397504456328,
          0.9875222816399287,
          0.9875222816399287,
          0.9893048128342246,
          0.9893048128342246,
          0.9910873440285205,
          0.9910873440285205,
          0.9928698752228164,
          0.9928698752228164,
          0.9946524064171123,
          0.9946524064171123,
          0.9964349376114082,
          0.9964349376114082,
          0.9982174688057041,
          0.9982174688057041,
          1,
          1,
          1,
          1,
          1,
          1,
          1,
          1
         ],
         "yaxis": "y"
        }
       ],
       "layout": {
        "height": 600,
        "legend": {
         "tracegroupgap": 0
        },
        "shapes": [
         {
          "line": {
           "color": "red",
           "dash": "dash"
          },
          "type": "line",
          "x0": 0,
          "x1": 1,
          "y0": 0,
          "y1": 1
         }
        ],
        "template": {
         "data": {
          "bar": [
           {
            "error_x": {
             "color": "#f2f5fa"
            },
            "error_y": {
             "color": "#f2f5fa"
            },
            "marker": {
             "line": {
              "color": "rgb(17,17,17)",
              "width": 0.5
             },
             "pattern": {
              "fillmode": "overlay",
              "size": 10,
              "solidity": 0.2
             }
            },
            "type": "bar"
           }
          ],
          "barpolar": [
           {
            "marker": {
             "line": {
              "color": "rgb(17,17,17)",
              "width": 0.5
             },
             "pattern": {
              "fillmode": "overlay",
              "size": 10,
              "solidity": 0.2
             }
            },
            "type": "barpolar"
           }
          ],
          "carpet": [
           {
            "aaxis": {
             "endlinecolor": "#A2B1C6",
             "gridcolor": "#506784",
             "linecolor": "#506784",
             "minorgridcolor": "#506784",
             "startlinecolor": "#A2B1C6"
            },
            "baxis": {
             "endlinecolor": "#A2B1C6",
             "gridcolor": "#506784",
             "linecolor": "#506784",
             "minorgridcolor": "#506784",
             "startlinecolor": "#A2B1C6"
            },
            "type": "carpet"
           }
          ],
          "choropleth": [
           {
            "colorbar": {
             "outlinewidth": 0,
             "ticks": ""
            },
            "type": "choropleth"
           }
          ],
          "contour": [
           {
            "colorbar": {
             "outlinewidth": 0,
             "ticks": ""
            },
            "colorscale": [
             [
              0,
              "#0d0887"
             ],
             [
              0.1111111111111111,
              "#46039f"
             ],
             [
              0.2222222222222222,
              "#7201a8"
             ],
             [
              0.3333333333333333,
              "#9c179e"
             ],
             [
              0.4444444444444444,
              "#bd3786"
             ],
             [
              0.5555555555555556,
              "#d8576b"
             ],
             [
              0.6666666666666666,
              "#ed7953"
             ],
             [
              0.7777777777777778,
              "#fb9f3a"
             ],
             [
              0.8888888888888888,
              "#fdca26"
             ],
             [
              1,
              "#f0f921"
             ]
            ],
            "type": "contour"
           }
          ],
          "contourcarpet": [
           {
            "colorbar": {
             "outlinewidth": 0,
             "ticks": ""
            },
            "type": "contourcarpet"
           }
          ],
          "heatmap": [
           {
            "colorbar": {
             "outlinewidth": 0,
             "ticks": ""
            },
            "colorscale": [
             [
              0,
              "#0d0887"
             ],
             [
              0.1111111111111111,
              "#46039f"
             ],
             [
              0.2222222222222222,
              "#7201a8"
             ],
             [
              0.3333333333333333,
              "#9c179e"
             ],
             [
              0.4444444444444444,
              "#bd3786"
             ],
             [
              0.5555555555555556,
              "#d8576b"
             ],
             [
              0.6666666666666666,
              "#ed7953"
             ],
             [
              0.7777777777777778,
              "#fb9f3a"
             ],
             [
              0.8888888888888888,
              "#fdca26"
             ],
             [
              1,
              "#f0f921"
             ]
            ],
            "type": "heatmap"
           }
          ],
          "heatmapgl": [
           {
            "colorbar": {
             "outlinewidth": 0,
             "ticks": ""
            },
            "colorscale": [
             [
              0,
              "#0d0887"
             ],
             [
              0.1111111111111111,
              "#46039f"
             ],
             [
              0.2222222222222222,
              "#7201a8"
             ],
             [
              0.3333333333333333,
              "#9c179e"
             ],
             [
              0.4444444444444444,
              "#bd3786"
             ],
             [
              0.5555555555555556,
              "#d8576b"
             ],
             [
              0.6666666666666666,
              "#ed7953"
             ],
             [
              0.7777777777777778,
              "#fb9f3a"
             ],
             [
              0.8888888888888888,
              "#fdca26"
             ],
             [
              1,
              "#f0f921"
             ]
            ],
            "type": "heatmapgl"
           }
          ],
          "histogram": [
           {
            "marker": {
             "pattern": {
              "fillmode": "overlay",
              "size": 10,
              "solidity": 0.2
             }
            },
            "type": "histogram"
           }
          ],
          "histogram2d": [
           {
            "colorbar": {
             "outlinewidth": 0,
             "ticks": ""
            },
            "colorscale": [
             [
              0,
              "#0d0887"
             ],
             [
              0.1111111111111111,
              "#46039f"
             ],
             [
              0.2222222222222222,
              "#7201a8"
             ],
             [
              0.3333333333333333,
              "#9c179e"
             ],
             [
              0.4444444444444444,
              "#bd3786"
             ],
             [
              0.5555555555555556,
              "#d8576b"
             ],
             [
              0.6666666666666666,
              "#ed7953"
             ],
             [
              0.7777777777777778,
              "#fb9f3a"
             ],
             [
              0.8888888888888888,
              "#fdca26"
             ],
             [
              1,
              "#f0f921"
             ]
            ],
            "type": "histogram2d"
           }
          ],
          "histogram2dcontour": [
           {
            "colorbar": {
             "outlinewidth": 0,
             "ticks": ""
            },
            "colorscale": [
             [
              0,
              "#0d0887"
             ],
             [
              0.1111111111111111,
              "#46039f"
             ],
             [
              0.2222222222222222,
              "#7201a8"
             ],
             [
              0.3333333333333333,
              "#9c179e"
             ],
             [
              0.4444444444444444,
              "#bd3786"
             ],
             [
              0.5555555555555556,
              "#d8576b"
             ],
             [
              0.6666666666666666,
              "#ed7953"
             ],
             [
              0.7777777777777778,
              "#fb9f3a"
             ],
             [
              0.8888888888888888,
              "#fdca26"
             ],
             [
              1,
              "#f0f921"
             ]
            ],
            "type": "histogram2dcontour"
           }
          ],
          "mesh3d": [
           {
            "colorbar": {
             "outlinewidth": 0,
             "ticks": ""
            },
            "type": "mesh3d"
           }
          ],
          "parcoords": [
           {
            "line": {
             "colorbar": {
              "outlinewidth": 0,
              "ticks": ""
             }
            },
            "type": "parcoords"
           }
          ],
          "pie": [
           {
            "automargin": true,
            "type": "pie"
           }
          ],
          "scatter": [
           {
            "marker": {
             "line": {
              "color": "#283442"
             }
            },
            "type": "scatter"
           }
          ],
          "scatter3d": [
           {
            "line": {
             "colorbar": {
              "outlinewidth": 0,
              "ticks": ""
             }
            },
            "marker": {
             "colorbar": {
              "outlinewidth": 0,
              "ticks": ""
             }
            },
            "type": "scatter3d"
           }
          ],
          "scattercarpet": [
           {
            "marker": {
             "colorbar": {
              "outlinewidth": 0,
              "ticks": ""
             }
            },
            "type": "scattercarpet"
           }
          ],
          "scattergeo": [
           {
            "marker": {
             "colorbar": {
              "outlinewidth": 0,
              "ticks": ""
             }
            },
            "type": "scattergeo"
           }
          ],
          "scattergl": [
           {
            "marker": {
             "line": {
              "color": "#283442"
             }
            },
            "type": "scattergl"
           }
          ],
          "scattermapbox": [
           {
            "marker": {
             "colorbar": {
              "outlinewidth": 0,
              "ticks": ""
             }
            },
            "type": "scattermapbox"
           }
          ],
          "scatterpolar": [
           {
            "marker": {
             "colorbar": {
              "outlinewidth": 0,
              "ticks": ""
             }
            },
            "type": "scatterpolar"
           }
          ],
          "scatterpolargl": [
           {
            "marker": {
             "colorbar": {
              "outlinewidth": 0,
              "ticks": ""
             }
            },
            "type": "scatterpolargl"
           }
          ],
          "scatterternary": [
           {
            "marker": {
             "colorbar": {
              "outlinewidth": 0,
              "ticks": ""
             }
            },
            "type": "scatterternary"
           }
          ],
          "surface": [
           {
            "colorbar": {
             "outlinewidth": 0,
             "ticks": ""
            },
            "colorscale": [
             [
              0,
              "#0d0887"
             ],
             [
              0.1111111111111111,
              "#46039f"
             ],
             [
              0.2222222222222222,
              "#7201a8"
             ],
             [
              0.3333333333333333,
              "#9c179e"
             ],
             [
              0.4444444444444444,
              "#bd3786"
             ],
             [
              0.5555555555555556,
              "#d8576b"
             ],
             [
              0.6666666666666666,
              "#ed7953"
             ],
             [
              0.7777777777777778,
              "#fb9f3a"
             ],
             [
              0.8888888888888888,
              "#fdca26"
             ],
             [
              1,
              "#f0f921"
             ]
            ],
            "type": "surface"
           }
          ],
          "table": [
           {
            "cells": {
             "fill": {
              "color": "#506784"
             },
             "line": {
              "color": "rgb(17,17,17)"
             }
            },
            "header": {
             "fill": {
              "color": "#2a3f5f"
             },
             "line": {
              "color": "rgb(17,17,17)"
             }
            },
            "type": "table"
           }
          ]
         },
         "layout": {
          "annotationdefaults": {
           "arrowcolor": "#f2f5fa",
           "arrowhead": 0,
           "arrowwidth": 1
          },
          "autotypenumbers": "strict",
          "coloraxis": {
           "colorbar": {
            "outlinewidth": 0,
            "ticks": ""
           }
          },
          "colorscale": {
           "diverging": [
            [
             0,
             "#8e0152"
            ],
            [
             0.1,
             "#c51b7d"
            ],
            [
             0.2,
             "#de77ae"
            ],
            [
             0.3,
             "#f1b6da"
            ],
            [
             0.4,
             "#fde0ef"
            ],
            [
             0.5,
             "#f7f7f7"
            ],
            [
             0.6,
             "#e6f5d0"
            ],
            [
             0.7,
             "#b8e186"
            ],
            [
             0.8,
             "#7fbc41"
            ],
            [
             0.9,
             "#4d9221"
            ],
            [
             1,
             "#276419"
            ]
           ],
           "sequential": [
            [
             0,
             "#0d0887"
            ],
            [
             0.1111111111111111,
             "#46039f"
            ],
            [
             0.2222222222222222,
             "#7201a8"
            ],
            [
             0.3333333333333333,
             "#9c179e"
            ],
            [
             0.4444444444444444,
             "#bd3786"
            ],
            [
             0.5555555555555556,
             "#d8576b"
            ],
            [
             0.6666666666666666,
             "#ed7953"
            ],
            [
             0.7777777777777778,
             "#fb9f3a"
            ],
            [
             0.8888888888888888,
             "#fdca26"
            ],
            [
             1,
             "#f0f921"
            ]
           ],
           "sequentialminus": [
            [
             0,
             "#0d0887"
            ],
            [
             0.1111111111111111,
             "#46039f"
            ],
            [
             0.2222222222222222,
             "#7201a8"
            ],
            [
             0.3333333333333333,
             "#9c179e"
            ],
            [
             0.4444444444444444,
             "#bd3786"
            ],
            [
             0.5555555555555556,
             "#d8576b"
            ],
            [
             0.6666666666666666,
             "#ed7953"
            ],
            [
             0.7777777777777778,
             "#fb9f3a"
            ],
            [
             0.8888888888888888,
             "#fdca26"
            ],
            [
             1,
             "#f0f921"
            ]
           ]
          },
          "colorway": [
           "#636efa",
           "#EF553B",
           "#00cc96",
           "#ab63fa",
           "#FFA15A",
           "#19d3f3",
           "#FF6692",
           "#B6E880",
           "#FF97FF",
           "#FECB52"
          ],
          "font": {
           "color": "#f2f5fa"
          },
          "geo": {
           "bgcolor": "rgb(17,17,17)",
           "lakecolor": "rgb(17,17,17)",
           "landcolor": "rgb(17,17,17)",
           "showlakes": true,
           "showland": true,
           "subunitcolor": "#506784"
          },
          "hoverlabel": {
           "align": "left"
          },
          "hovermode": "closest",
          "mapbox": {
           "style": "dark"
          },
          "paper_bgcolor": "rgb(17,17,17)",
          "plot_bgcolor": "rgb(17,17,17)",
          "polar": {
           "angularaxis": {
            "gridcolor": "#506784",
            "linecolor": "#506784",
            "ticks": ""
           },
           "bgcolor": "rgb(17,17,17)",
           "radialaxis": {
            "gridcolor": "#506784",
            "linecolor": "#506784",
            "ticks": ""
           }
          },
          "scene": {
           "xaxis": {
            "backgroundcolor": "rgb(17,17,17)",
            "gridcolor": "#506784",
            "gridwidth": 2,
            "linecolor": "#506784",
            "showbackground": true,
            "ticks": "",
            "zerolinecolor": "#C8D4E3"
           },
           "yaxis": {
            "backgroundcolor": "rgb(17,17,17)",
            "gridcolor": "#506784",
            "gridwidth": 2,
            "linecolor": "#506784",
            "showbackground": true,
            "ticks": "",
            "zerolinecolor": "#C8D4E3"
           },
           "zaxis": {
            "backgroundcolor": "rgb(17,17,17)",
            "gridcolor": "#506784",
            "gridwidth": 2,
            "linecolor": "#506784",
            "showbackground": true,
            "ticks": "",
            "zerolinecolor": "#C8D4E3"
           }
          },
          "shapedefaults": {
           "line": {
            "color": "#f2f5fa"
           }
          },
          "sliderdefaults": {
           "bgcolor": "#C8D4E3",
           "bordercolor": "rgb(17,17,17)",
           "borderwidth": 1,
           "tickwidth": 0
          },
          "ternary": {
           "aaxis": {
            "gridcolor": "#506784",
            "linecolor": "#506784",
            "ticks": ""
           },
           "baxis": {
            "gridcolor": "#506784",
            "linecolor": "#506784",
            "ticks": ""
           },
           "bgcolor": "rgb(17,17,17)",
           "caxis": {
            "gridcolor": "#506784",
            "linecolor": "#506784",
            "ticks": ""
           }
          },
          "title": {
           "x": 0.05
          },
          "updatemenudefaults": {
           "bgcolor": "#506784",
           "borderwidth": 0
          },
          "xaxis": {
           "automargin": true,
           "gridcolor": "#283442",
           "linecolor": "#506784",
           "ticks": "",
           "title": {
            "standoff": 15
           },
           "zerolinecolor": "#283442",
           "zerolinewidth": 2
          },
          "yaxis": {
           "automargin": true,
           "gridcolor": "#283442",
           "linecolor": "#506784",
           "ticks": "",
           "title": {
            "standoff": 15
           },
           "zerolinecolor": "#283442",
           "zerolinewidth": 2
          }
         }
        },
        "title": {
         "font": {
          "color": "mediumorchid",
          "size": 20
         },
         "text": "ROC Curve (AUC = 0.82)",
         "x": 0.5
        },
        "width": 800,
        "xaxis": {
         "anchor": "y",
         "domain": [
          0,
          1
         ],
         "showgrid": true,
         "title": {
          "text": "False Positive Rate"
         },
         "zeroline": true
        },
        "yaxis": {
         "anchor": "x",
         "domain": [
          0,
          1
         ],
         "showgrid": true,
         "title": {
          "text": "True Positive Rate"
         },
         "zeroline": true
        }
       }
      }
     },
     "metadata": {},
     "output_type": "display_data"
    },
    {
     "name": "stdout",
     "output_type": "stream",
     "text": [
      "Confusion Matrix:\n",
      " [[1190  362]\n",
      " [ 120  441]]\n"
     ]
    },
    {
     "data": {
      "image/png": "[encoded data removed]",
      "text/plain": [
       "<Figure size 800x500 with 2 Axes>"
      ]
     },
     "metadata": {},
     "output_type": "display_data"
    },
    {
     "data": {
      "text/html": [
       "<div>\n",
       "<style scoped>\n",
       "    .dataframe tbody tr th:only-of-type {\n",
       "        vertical-align: middle;\n",
       "    }\n",
       "\n",
       "    .dataframe tbody tr th {\n",
       "        vertical-align: top;\n",
       "    }\n",
       "\n",
       "    .dataframe thead th {\n",
       "        text-align: right;\n",
       "    }\n",
       "</style>\n",
       "<table border=\"1\" class=\"dataframe\">\n",
       "  <thead>\n",
       "    <tr style=\"text-align: right;\">\n",
       "      <th></th>\n",
       "      <th>Training Accuracy</th>\n",
       "      <th>Training Precision</th>\n",
       "      <th>Training Recall</th>\n",
       "      <th>Training F1-Score</th>\n",
       "      <th>Test Accuracy</th>\n",
       "      <th>Test Precision</th>\n",
       "      <th>Test Recall</th>\n",
       "      <th>Test F1-Score</th>\n",
       "    </tr>\n",
       "  </thead>\n",
       "  <tbody>\n",
       "    <tr>\n",
       "      <th>0</th>\n",
       "      <td>0.95</td>\n",
       "      <td>0.96</td>\n",
       "      <td>0.96</td>\n",
       "      <td>0.96</td>\n",
       "      <td>0.77</td>\n",
       "      <td>0.55</td>\n",
       "      <td>0.79</td>\n",
       "      <td>0.65</td>\n",
       "    </tr>\n",
       "  </tbody>\n",
       "</table>\n",
       "</div>"
      ],
      "text/plain": [
       "   Training Accuracy  Training Precision  Training Recall  Training F1-Score  \\\n",
       "0               0.95                0.96             0.96               0.96   \n",
       "\n",
       "   Test Accuracy  Test Precision  Test Recall  Test F1-Score  \n",
       "0           0.77            0.55         0.79           0.65  "
      ]
     },
     "execution_count": 109,
     "metadata": {},
     "output_type": "execute_result"
    }
   ],
   "source": [
    "# Data preparation\n",
    "scaler = StandardScaler()\n",
    "X_train_scaled = scaler.fit_transform(X_resampled)\n",
    "X_test_scaled = scaler.transform(X_test)\n",
    "\n",
    "# Prepare the dataset and dataloader for PyTorch\n",
    "train_data = TensorDataset(torch.FloatTensor(X_train_scaled), torch.LongTensor(y_resampled.values))\n",
    "train_loader = DataLoader(train_data, batch_size=16, shuffle=True)\n",
    "\n",
    "# Initialize the MLP model with optimal parameters and train\n",
    "mlp_model = MLPClassifier(input_dim=X_resampled.shape[1], hidden_dim=128, output_dim=len(set(y_resampled)))\n",
    "train_mlp(mlp_model, train_loader, epochs=20, learning_rate=0.001)\n",
    "\n",
    "# Evaluate the trained MLP model\n",
    "evaluate_mlp(mlp_model, X_train_scaled, X_test_scaled, y_resampled, y_test)"
   ]
  },
  {
   "cell_type": "code",
   "execution_count": null,
   "metadata": {},
   "outputs": [],
   "source": []
  }
 ],
 "metadata": {
  "kernelspec": {
   "display_name": "Python 3 (ipykernel)",
   "language": "python",
   "name": "python3"
  },
  "language_info": {
   "codemirror_mode": {
    "name": "ipython",
    "version": 3
   },
   "file_extension": ".py",
   "mimetype": "text/x-python",
   "name": "python",
   "nbconvert_exporter": "python",
   "pygments_lexer": "ipython3",
   "version": "3.10.12"
  }
 },
 "nbformat": 4,
 "nbformat_minor": 4
}
